{
 "cells": [
  {
   "cell_type": "markdown",
   "metadata": {},
   "source": [
    "# Project 1: SAT & ACT Analysis"
   ]
  },
  {
   "cell_type": "markdown",
   "metadata": {},
   "source": [
    "The first markdown cell in a notebook is a great place to provide an overview of your entire project. You will likely want to at least state your\n",
    "\n",
    "## Problem Statement"
   ]
  },
  {
   "cell_type": "markdown",
   "metadata": {},
   "source": [
    "With the change in SAT format, how did it the change format changes the landscape of college exams?\n",
    "\n",
    "Approach:\n",
    "Does the change affects the participation rate? *increase/decrease?\n",
    "Which states are most affected by the change? *up/down\n",
    "How to improve, what makes SAT better than ACT? *harder? easier? which one is more useful?\n",
    "\n",
    "Where should we market to students to increase the participation rate in a **state of your choice**.\n",
    "How to market to students?"
   ]
  },
  {
   "cell_type": "markdown",
   "metadata": {},
   "source": [
    "## Executive Summary\n",
    "\n",
    "If you want to, it's great to use relative links to direct your audience to various sections of a notebook. **HERE'S A DEMONSTRATION WITH THE CURRENT SECTION HEADERS**:\n",
    "\n",
    "### Contents:\n",
    "- [2017 Data Import & Cleaning](#Data-Import-and-Cleaning)\n",
    "- [2018 Data Import and Cleaning](#2018-Data-Import-and-Cleaning)\n",
    "- [Exploratory Data Analysis](#Exploratory-Data-Analysis)\n",
    "- [Data Visualization](#Visualize-the-data)\n",
    "- [Descriptive and Inferential Statistics](#Descriptive-and-Inferential-Statistics)\n",
    "- [Outside Research](#Outside-Research)\n",
    "- [Conclusions and Recommendations](#Conclusions-and-Recommendations)"
   ]
  },
  {
   "cell_type": "markdown",
   "metadata": {},
   "source": [
    "**If you combine your problem statement, executive summary, data dictionary, and conclusions/recommendations, you have an amazing README.md file that quickly aligns your audience to the contents of your project.** Don't forget to cite your data sources!"
   ]
  },
  {
   "cell_type": "markdown",
   "metadata": {},
   "source": [
    "*All libraries used should be added here*"
   ]
  },
  {
   "cell_type": "code",
   "execution_count": 1,
   "metadata": {},
   "outputs": [],
   "source": [
    "import random as rand\n",
    "import numpy as np\n",
    "import scipy.stats as stats\n",
    "import seaborn as sns\n",
    "import matplotlib.pyplot as plt\n",
    "import pandas as pd\n",
    "import imp\n",
    "plt.style.use('fivethirtyeight')"
   ]
  },
  {
   "cell_type": "markdown",
   "metadata": {},
   "source": [
    "## 2017 Data Import and Cleaning"
   ]
  },
  {
   "cell_type": "markdown",
   "metadata": {},
   "source": [
    "#### 1. Read In SAT & ACT  Data\n",
    "\n",
    "Read in the `sat_2017.csv` and `act_2017.csv` files and assign them to appropriately named pandas dataframes."
   ]
  },
  {
   "cell_type": "code",
   "execution_count": 2,
   "metadata": {},
   "outputs": [],
   "source": [
    "sat_2017 = pd.read_csv('../data/sat_2017.csv')\n",
    "act_2017 = pd.read_csv('../data/act_2017.csv')"
   ]
  },
  {
   "cell_type": "code",
   "execution_count": 3,
   "metadata": {},
   "outputs": [
    {
     "name": "stdout",
     "output_type": "stream",
     "text": [
      "<class 'pandas.core.frame.DataFrame'>\n",
      "RangeIndex: 51 entries, 0 to 50\n",
      "Data columns (total 5 columns):\n",
      "State                                 51 non-null object\n",
      "Participation                         51 non-null object\n",
      "Evidence-Based Reading and Writing    51 non-null int64\n",
      "Math                                  51 non-null int64\n",
      "Total                                 51 non-null int64\n",
      "dtypes: int64(3), object(2)\n",
      "memory usage: 2.1+ KB\n",
      "<class 'pandas.core.frame.DataFrame'>\n",
      "RangeIndex: 52 entries, 0 to 51\n",
      "Data columns (total 7 columns):\n",
      "State            52 non-null object\n",
      "Participation    52 non-null object\n",
      "English          52 non-null float64\n",
      "Math             52 non-null float64\n",
      "Reading          52 non-null float64\n",
      "Science          52 non-null float64\n",
      "Composite        52 non-null object\n",
      "dtypes: float64(4), object(3)\n",
      "memory usage: 2.9+ KB\n"
     ]
    }
   ],
   "source": [
    "sat_2017.info()\n",
    "act_2017.info()"
   ]
  },
  {
   "cell_type": "markdown",
   "metadata": {},
   "source": [
    "#### 2. Display Data\n",
    "\n",
    "Print the first 10 rows of each dataframe to your jupyter notebook"
   ]
  },
  {
   "cell_type": "code",
   "execution_count": 4,
   "metadata": {},
   "outputs": [
    {
     "data": {
      "text/html": [
       "<div>\n",
       "<style scoped>\n",
       "    .dataframe tbody tr th:only-of-type {\n",
       "        vertical-align: middle;\n",
       "    }\n",
       "\n",
       "    .dataframe tbody tr th {\n",
       "        vertical-align: top;\n",
       "    }\n",
       "\n",
       "    .dataframe thead th {\n",
       "        text-align: right;\n",
       "    }\n",
       "</style>\n",
       "<table border=\"1\" class=\"dataframe\">\n",
       "  <thead>\n",
       "    <tr style=\"text-align: right;\">\n",
       "      <th></th>\n",
       "      <th>State</th>\n",
       "      <th>Participation</th>\n",
       "      <th>Evidence-Based Reading and Writing</th>\n",
       "      <th>Math</th>\n",
       "      <th>Total</th>\n",
       "    </tr>\n",
       "  </thead>\n",
       "  <tbody>\n",
       "    <tr>\n",
       "      <th>0</th>\n",
       "      <td>Alabama</td>\n",
       "      <td>5%</td>\n",
       "      <td>593</td>\n",
       "      <td>572</td>\n",
       "      <td>1165</td>\n",
       "    </tr>\n",
       "    <tr>\n",
       "      <th>1</th>\n",
       "      <td>Alaska</td>\n",
       "      <td>38%</td>\n",
       "      <td>547</td>\n",
       "      <td>533</td>\n",
       "      <td>1080</td>\n",
       "    </tr>\n",
       "    <tr>\n",
       "      <th>2</th>\n",
       "      <td>Arizona</td>\n",
       "      <td>30%</td>\n",
       "      <td>563</td>\n",
       "      <td>553</td>\n",
       "      <td>1116</td>\n",
       "    </tr>\n",
       "    <tr>\n",
       "      <th>3</th>\n",
       "      <td>Arkansas</td>\n",
       "      <td>3%</td>\n",
       "      <td>614</td>\n",
       "      <td>594</td>\n",
       "      <td>1208</td>\n",
       "    </tr>\n",
       "    <tr>\n",
       "      <th>4</th>\n",
       "      <td>California</td>\n",
       "      <td>53%</td>\n",
       "      <td>531</td>\n",
       "      <td>524</td>\n",
       "      <td>1055</td>\n",
       "    </tr>\n",
       "    <tr>\n",
       "      <th>5</th>\n",
       "      <td>Colorado</td>\n",
       "      <td>11%</td>\n",
       "      <td>606</td>\n",
       "      <td>595</td>\n",
       "      <td>1201</td>\n",
       "    </tr>\n",
       "    <tr>\n",
       "      <th>6</th>\n",
       "      <td>Connecticut</td>\n",
       "      <td>100%</td>\n",
       "      <td>530</td>\n",
       "      <td>512</td>\n",
       "      <td>1041</td>\n",
       "    </tr>\n",
       "    <tr>\n",
       "      <th>7</th>\n",
       "      <td>Delaware</td>\n",
       "      <td>100%</td>\n",
       "      <td>503</td>\n",
       "      <td>492</td>\n",
       "      <td>996</td>\n",
       "    </tr>\n",
       "    <tr>\n",
       "      <th>8</th>\n",
       "      <td>District of Columbia</td>\n",
       "      <td>100%</td>\n",
       "      <td>482</td>\n",
       "      <td>468</td>\n",
       "      <td>950</td>\n",
       "    </tr>\n",
       "    <tr>\n",
       "      <th>9</th>\n",
       "      <td>Florida</td>\n",
       "      <td>83%</td>\n",
       "      <td>520</td>\n",
       "      <td>497</td>\n",
       "      <td>1017</td>\n",
       "    </tr>\n",
       "  </tbody>\n",
       "</table>\n",
       "</div>"
      ],
      "text/plain": [
       "                  State Participation  Evidence-Based Reading and Writing  \\\n",
       "0               Alabama            5%                                 593   \n",
       "1                Alaska           38%                                 547   \n",
       "2               Arizona           30%                                 563   \n",
       "3              Arkansas            3%                                 614   \n",
       "4            California           53%                                 531   \n",
       "5              Colorado           11%                                 606   \n",
       "6           Connecticut          100%                                 530   \n",
       "7              Delaware          100%                                 503   \n",
       "8  District of Columbia          100%                                 482   \n",
       "9               Florida           83%                                 520   \n",
       "\n",
       "   Math  Total  \n",
       "0   572   1165  \n",
       "1   533   1080  \n",
       "2   553   1116  \n",
       "3   594   1208  \n",
       "4   524   1055  \n",
       "5   595   1201  \n",
       "6   512   1041  \n",
       "7   492    996  \n",
       "8   468    950  \n",
       "9   497   1017  "
      ]
     },
     "execution_count": 4,
     "metadata": {},
     "output_type": "execute_result"
    }
   ],
   "source": [
    "sat_2017.head(10)"
   ]
  },
  {
   "cell_type": "code",
   "execution_count": 5,
   "metadata": {},
   "outputs": [
    {
     "data": {
      "text/html": [
       "<div>\n",
       "<style scoped>\n",
       "    .dataframe tbody tr th:only-of-type {\n",
       "        vertical-align: middle;\n",
       "    }\n",
       "\n",
       "    .dataframe tbody tr th {\n",
       "        vertical-align: top;\n",
       "    }\n",
       "\n",
       "    .dataframe thead th {\n",
       "        text-align: right;\n",
       "    }\n",
       "</style>\n",
       "<table border=\"1\" class=\"dataframe\">\n",
       "  <thead>\n",
       "    <tr style=\"text-align: right;\">\n",
       "      <th></th>\n",
       "      <th>State</th>\n",
       "      <th>Participation</th>\n",
       "      <th>English</th>\n",
       "      <th>Math</th>\n",
       "      <th>Reading</th>\n",
       "      <th>Science</th>\n",
       "      <th>Composite</th>\n",
       "    </tr>\n",
       "  </thead>\n",
       "  <tbody>\n",
       "    <tr>\n",
       "      <th>0</th>\n",
       "      <td>National</td>\n",
       "      <td>60%</td>\n",
       "      <td>20.3</td>\n",
       "      <td>20.7</td>\n",
       "      <td>21.4</td>\n",
       "      <td>21.0</td>\n",
       "      <td>21.0</td>\n",
       "    </tr>\n",
       "    <tr>\n",
       "      <th>1</th>\n",
       "      <td>Alabama</td>\n",
       "      <td>100%</td>\n",
       "      <td>18.9</td>\n",
       "      <td>18.4</td>\n",
       "      <td>19.7</td>\n",
       "      <td>19.4</td>\n",
       "      <td>19.2</td>\n",
       "    </tr>\n",
       "    <tr>\n",
       "      <th>2</th>\n",
       "      <td>Alaska</td>\n",
       "      <td>65%</td>\n",
       "      <td>18.7</td>\n",
       "      <td>19.8</td>\n",
       "      <td>20.4</td>\n",
       "      <td>19.9</td>\n",
       "      <td>19.8</td>\n",
       "    </tr>\n",
       "    <tr>\n",
       "      <th>3</th>\n",
       "      <td>Arizona</td>\n",
       "      <td>62%</td>\n",
       "      <td>18.6</td>\n",
       "      <td>19.8</td>\n",
       "      <td>20.1</td>\n",
       "      <td>19.8</td>\n",
       "      <td>19.7</td>\n",
       "    </tr>\n",
       "    <tr>\n",
       "      <th>4</th>\n",
       "      <td>Arkansas</td>\n",
       "      <td>100%</td>\n",
       "      <td>18.9</td>\n",
       "      <td>19.0</td>\n",
       "      <td>19.7</td>\n",
       "      <td>19.5</td>\n",
       "      <td>19.4</td>\n",
       "    </tr>\n",
       "    <tr>\n",
       "      <th>5</th>\n",
       "      <td>California</td>\n",
       "      <td>31%</td>\n",
       "      <td>22.5</td>\n",
       "      <td>22.7</td>\n",
       "      <td>23.1</td>\n",
       "      <td>22.2</td>\n",
       "      <td>22.8</td>\n",
       "    </tr>\n",
       "    <tr>\n",
       "      <th>6</th>\n",
       "      <td>Colorado</td>\n",
       "      <td>100%</td>\n",
       "      <td>20.1</td>\n",
       "      <td>20.3</td>\n",
       "      <td>21.2</td>\n",
       "      <td>20.9</td>\n",
       "      <td>20.8</td>\n",
       "    </tr>\n",
       "    <tr>\n",
       "      <th>7</th>\n",
       "      <td>Connecticut</td>\n",
       "      <td>31%</td>\n",
       "      <td>25.5</td>\n",
       "      <td>24.6</td>\n",
       "      <td>25.6</td>\n",
       "      <td>24.6</td>\n",
       "      <td>25.2</td>\n",
       "    </tr>\n",
       "    <tr>\n",
       "      <th>8</th>\n",
       "      <td>Delaware</td>\n",
       "      <td>18%</td>\n",
       "      <td>24.1</td>\n",
       "      <td>23.4</td>\n",
       "      <td>24.8</td>\n",
       "      <td>23.6</td>\n",
       "      <td>24.1</td>\n",
       "    </tr>\n",
       "    <tr>\n",
       "      <th>9</th>\n",
       "      <td>District of Columbia</td>\n",
       "      <td>32%</td>\n",
       "      <td>24.4</td>\n",
       "      <td>23.5</td>\n",
       "      <td>24.9</td>\n",
       "      <td>23.5</td>\n",
       "      <td>24.2</td>\n",
       "    </tr>\n",
       "  </tbody>\n",
       "</table>\n",
       "</div>"
      ],
      "text/plain": [
       "                  State Participation  English  Math  Reading  Science  \\\n",
       "0              National           60%     20.3  20.7     21.4     21.0   \n",
       "1               Alabama          100%     18.9  18.4     19.7     19.4   \n",
       "2                Alaska           65%     18.7  19.8     20.4     19.9   \n",
       "3               Arizona           62%     18.6  19.8     20.1     19.8   \n",
       "4              Arkansas          100%     18.9  19.0     19.7     19.5   \n",
       "5            California           31%     22.5  22.7     23.1     22.2   \n",
       "6              Colorado          100%     20.1  20.3     21.2     20.9   \n",
       "7           Connecticut           31%     25.5  24.6     25.6     24.6   \n",
       "8              Delaware           18%     24.1  23.4     24.8     23.6   \n",
       "9  District of Columbia           32%     24.4  23.5     24.9     23.5   \n",
       "\n",
       "  Composite  \n",
       "0      21.0  \n",
       "1      19.2  \n",
       "2      19.8  \n",
       "3      19.7  \n",
       "4      19.4  \n",
       "5      22.8  \n",
       "6      20.8  \n",
       "7      25.2  \n",
       "8      24.1  \n",
       "9      24.2  "
      ]
     },
     "execution_count": 5,
     "metadata": {},
     "output_type": "execute_result"
    }
   ],
   "source": [
    "act_2017.head(10)"
   ]
  },
  {
   "cell_type": "markdown",
   "metadata": {},
   "source": [
    "#### 3. Verbally Describe Data\n",
    "\n",
    "Take your time looking through the data and thoroughly describe the data in the markdown cell below. "
   ]
  },
  {
   "cell_type": "markdown",
   "metadata": {},
   "source": [
    "1. Scores are recorded based on state averages for both SAT and ACT.\n",
    "2. ACT has an additional national average row.\n",
    "3. Although there are some overlaps, but it is safe to assume most participants take EITHER SAT or ACT and most states has a dominating test that the states favors."
   ]
  },
  {
   "cell_type": "markdown",
   "metadata": {},
   "source": [
    "#### 4a. Does the data look complete? "
   ]
  },
  {
   "cell_type": "markdown",
   "metadata": {},
   "source": [
    "No. SAT lacks the national average scores."
   ]
  },
  {
   "cell_type": "markdown",
   "metadata": {},
   "source": [
    "#### 4b. Are there any obvious issues with the observations?\n",
    "\n",
    "**What is the minimum *possible* value for each test/subtest? What is the maximum *possible* value?**\n",
    "\n",
    "Consider comparing any questionable values to the sources of your data:\n",
    "- [SAT](https://blog.collegevine.com/here-are-the-average-sat-scores-by-state/)\n",
    "- [ACT](https://blog.prepscholar.com/act-scores-by-state-averages-highs-and-lows)"
   ]
  },
  {
   "cell_type": "markdown",
   "metadata": {},
   "source": [
    "Yes. There are a few errors with the data.\n",
    "\n",
    "SAT:\n",
    "In Row 20: Math average for Maryland is 52.\n",
    "\n",
    "Max/Min for the test\n",
    "English: 200 - 800\n",
    "Maths:   200 - 800\n",
    "Overall: 400 - 1600\n",
    "\n",
    "ACT:\n",
    "In Row 21: Maryland: Science average is 2.3.\n",
    "Row 51: Wyoming: Composit score is 20.2x.\n",
    "\n",
    "Max/Min for the test\n",
    "English    1-36\n",
    "Maths      1-36\n",
    "Reading    1-36\n",
    "Science    1-36\n",
    "Composite  1-36"
   ]
  },
  {
   "cell_type": "markdown",
   "metadata": {},
   "source": [
    "#### 4c. Fix any errors you identified\n",
    "\n",
    "**The data is available** so there's no need to guess or calculate anything. If you didn't find any errors, continue to the next step."
   ]
  },
  {
   "cell_type": "code",
   "execution_count": null,
   "metadata": {},
   "outputs": [],
   "source": []
  },
  {
   "cell_type": "markdown",
   "metadata": {},
   "source": [
    "#### 5. What are your data types? \n",
    "Display the data types of each feature. "
   ]
  },
  {
   "cell_type": "code",
   "execution_count": 6,
   "metadata": {},
   "outputs": [
    {
     "name": "stdout",
     "output_type": "stream",
     "text": [
      "State                                 object\n",
      "Participation                         object\n",
      "Evidence-Based Reading and Writing     int64\n",
      "Math                                   int64\n",
      "Total                                  int64\n",
      "dtype: object\n",
      "\n",
      "State             object\n",
      "Participation     object\n",
      "English          float64\n",
      "Math             float64\n",
      "Reading          float64\n",
      "Science          float64\n",
      "Composite         object\n",
      "dtype: object\n"
     ]
    }
   ],
   "source": [
    "print(sat_2017.dtypes)\n",
    "print('')\n",
    "print(act_2017.dtypes)"
   ]
  },
  {
   "cell_type": "markdown",
   "metadata": {},
   "source": [
    "What did you learn?\n",
    "- Do any of them seem odd?  \n",
    "- Which ones are not as they should be?  "
   ]
  },
  {
   "cell_type": "markdown",
   "metadata": {},
   "source": [
    "Participation rates should be float instead of strings\n",
    "\n",
    "Composite scores from act_2017 should be float instead of strings"
   ]
  },
  {
   "cell_type": "markdown",
   "metadata": {},
   "source": [
    "#### 6. Fix Incorrect Data Types\n",
    "Based on what you discovered above, use appropriate methods to re-type incorrectly typed data.\n",
    "- Define a function that will allow you to convert participation rates to an appropriate numeric type. Use `map` or `apply` to change these columns in each dataframe."
   ]
  },
  {
   "cell_type": "code",
   "execution_count": 7,
   "metadata": {
    "scrolled": true
   },
   "outputs": [],
   "source": [
    "sat_participation = sat_2017['Participation'].str.replace(r'%', r'.0').astype('float') / 100\n",
    "sat_2017[\"sat_participation\"] = sat_participation\n",
    "sat_2017 = sat_2017.drop(['Participation'], axis=1)\n",
    "sat_2017 = sat_2017[['State',\n",
    "                     'sat_participation', \n",
    "                     'Evidence-Based Reading and Writing', \n",
    "                     'Math', \n",
    "                     'Total']]\n",
    "\n",
    "act_participation = act_2017['Participation'].str.replace(r'%', r'.0').astype('float') / 100\n",
    "act_2017[\"act_participation\"] = act_participation\n",
    "act_2017 = act_2017.drop(['Participation'], axis=1)\n",
    "act_2017 = act_2017[['State', \n",
    "                     'act_participation', \n",
    "                     'English', \n",
    "                     'Math', \n",
    "                     'Reading','Science','Composite']]"
   ]
  },
  {
   "cell_type": "markdown",
   "metadata": {},
   "source": [
    "- Fix any individual values preventing other columns from being the appropriate type."
   ]
  },
  {
   "cell_type": "code",
   "execution_count": 8,
   "metadata": {},
   "outputs": [],
   "source": [
    "sat_2017 = sat_2017.replace(to_replace = 52, value = 524)\n",
    "act_2017 = act_2017.replace(to_replace = 2.3, value = 23.2)\n",
    "act_2017 = act_2017.replace(to_replace = '20.2x', value = 20.2)"
   ]
  },
  {
   "cell_type": "code",
   "execution_count": 9,
   "metadata": {},
   "outputs": [],
   "source": [
    "act_2017['Composite'] = pd.to_numeric(act_2017.Composite)"
   ]
  },
  {
   "cell_type": "markdown",
   "metadata": {},
   "source": [
    "- Finish your data modifications by making sure the columns are now typed appropriately."
   ]
  },
  {
   "cell_type": "code",
   "execution_count": 10,
   "metadata": {},
   "outputs": [
    {
     "name": "stdout",
     "output_type": "stream",
     "text": [
      "Index(['State', 'sat_participation', 'Evidence-Based Reading and Writing',\n",
      "       'Math', 'Total'],\n",
      "      dtype='object')\n",
      "Index(['State', 'act_participation', 'English', 'Math', 'Reading', 'Science',\n",
      "       'Composite'],\n",
      "      dtype='object')\n"
     ]
    }
   ],
   "source": [
    "print(sat_2017.columns)\n",
    "print(act_2017.columns)"
   ]
  },
  {
   "cell_type": "markdown",
   "metadata": {},
   "source": [
    "- Display the data types again to confirm they are correct."
   ]
  },
  {
   "cell_type": "code",
   "execution_count": 11,
   "metadata": {},
   "outputs": [
    {
     "name": "stdout",
     "output_type": "stream",
     "text": [
      "State                                  object\n",
      "sat_participation                     float64\n",
      "Evidence-Based Reading and Writing      int64\n",
      "Math                                    int64\n",
      "Total                                   int64\n",
      "dtype: object\n",
      "\n",
      "State                 object\n",
      "act_participation    float64\n",
      "English              float64\n",
      "Math                 float64\n",
      "Reading              float64\n",
      "Science              float64\n",
      "Composite            float64\n",
      "dtype: object\n"
     ]
    }
   ],
   "source": [
    "print(sat_2017.dtypes)\n",
    "print('')\n",
    "print(act_2017.dtypes)"
   ]
  },
  {
   "cell_type": "markdown",
   "metadata": {},
   "source": [
    "#### 7. Rename Columns\n",
    "Change the names of the columns to more expressive names so that you can tell the difference the SAT columns and the ACT columns. Your solution should map all column names being changed at once (no repeated singular name-changes). **We will be combining these data with some of the data from 2018, and so you should name columns in an appropriate way**.\n",
    "\n",
    "**Guidelines**:\n",
    "- Column names should be all lowercase (you will thank yourself when you start pushing data to SQL later in the course)\n",
    "- Column names should not contain spaces (underscores will suffice--this allows for using the `df.column_name` method to access columns in addition to `df['column_name']`.\n",
    "- Column names should be unique and informative (the only feature that we actually share between dataframes is the state)."
   ]
  },
  {
   "cell_type": "code",
   "execution_count": 12,
   "metadata": {},
   "outputs": [],
   "source": [
    "sat_2017 = sat_2017.rename(index=str, columns={\"State\": \"state\", \n",
    "                                               \"sat_participation\":\"sat_part_17\", \n",
    "                                               \"Evidence-Based Reading and Writing\": \"sat_eng_17\", \n",
    "                                               \"Math\" : \"sat_math_17\", \n",
    "                                               \"Total\":\"sat_total_17\"})\n",
    "act_2017 = act_2017.rename(index=str, columns={\"State\": \"state\", \n",
    "                                               \"act_participation\":\"act_part_17\", \n",
    "                                               \"English\":\"act_eng_17\", \n",
    "                                               \"Math\" : \"act_math_17\", \n",
    "                                               \"Reading\":\"act_read_17\", \n",
    "                                               \"Science\" : \"act_sci_17\", \n",
    "                                               \"Composite\" : \"act_comp_17\" })"
   ]
  },
  {
   "cell_type": "markdown",
   "metadata": {},
   "source": [
    "#### 8. Create a data dictionary\n",
    "\n",
    "Now that we've fixed our data, and given it appropriate names, let's create a [data dictionary](http://library.ucmerced.edu/node/10249). \n",
    "\n",
    "A data dictionary provides a quick overview of features/variables/columns, alongside data types and descriptions. The more descriptive you can be, the more useful this document is.\n",
    "\n",
    "Example of a Fictional Data Dictionary Entry: \n",
    "\n",
    "|Feature|Type|Dataset|Description|\n",
    "|---|---|---|---|\n",
    "|**county_pop**|*integer*|2010 census|The population of the county (units in thousands, where 2.5 represents 2500 people).| \n",
    "|**per_poverty**|*float*|2010 census|The percent of the county over the age of 18 living below the 200% of official US poverty rate (units percent to two decimal places 98.10 means 98.1%)|\n",
    "\n",
    "[Here's a quick link to a short guide for formatting markdown in Jupyter notebooks](https://jupyter-notebook.readthedocs.io/en/stable/examples/Notebook/Working%20With%20Markdown%20Cells.html).\n",
    "\n",
    "Provided is the skeleton for formatting a markdown table, with columns headers that will help you create a data dictionary to quickly summarize your data, as well as some examples. **This would be a great thing to copy and paste into your custom README for this project.**"
   ]
  },
  {
   "cell_type": "markdown",
   "metadata": {},
   "source": [
    "|Feature|Type|Dataset|Description|\n",
    "|---|---|---|---|\n",
    "|column name|int/float/object|ACT/SAT|This is an example| \n"
   ]
  },
  {
   "cell_type": "markdown",
   "metadata": {},
   "source": [
    "|    Feature  |   Type  |  Dataset  |                 Description                         |\n",
    "|-------------|---------|-----------|-----------------------------------------------------|\n",
    "|state        | object  | SAT & ACT | A list of all 51 states in the US                   |\n",
    "|sat_part_17  | float64 | SAT 2017  | Participation rate for SAT in each city in 2017     |\n",
    "|sat_eng_17   | int64   | SAT 2017  | Average score for English in each state in 2017     |\n",
    "|sat_math_17  | int64   | SAT 2017  | Average score for Maths in each state in 2017       |\n",
    "|sat_total_17 | int64   | SAT 2017  | Average total score for SAT in each state in 2017   |\n",
    "|act_part_17  | float64 | ACT 2017  | Participation rate for ACT in each city in 2017     |\n",
    "|act_eng_17   | float64 | ACT 2017  | Average score for English in each state in 2017     |\n",
    "|act_math_17  | float64 | ACT 2017  | Average score for Math in each state in 2017        |\n",
    "|act_read_17  | float64 | ACT 2017  | Average score for Reading in each state in 2017     |\n",
    "|act_sci_17   | float64 | ACT 2017  | Average score for Science in each state in 2017     |\n",
    "|act_comp_17  | float64 | ACT 2017  | Average score for Composition in each state in 2017 |"
   ]
  },
  {
   "cell_type": "markdown",
   "metadata": {},
   "source": [
    "#### 9. Drop unnecessary rows\n",
    "\n",
    "One of our dataframes contains an extra row. Identify and remove this from the dataframe."
   ]
  },
  {
   "cell_type": "code",
   "execution_count": 13,
   "metadata": {},
   "outputs": [],
   "source": [
    "act_2017 = act_2017.iloc[1:]"
   ]
  },
  {
   "cell_type": "markdown",
   "metadata": {},
   "source": [
    "#### 10. Merge Dataframes\n",
    "\n",
    "Join the 2017 ACT and SAT dataframes using the state in each dataframe as the key. Assign this to a new variable."
   ]
  },
  {
   "cell_type": "code",
   "execution_count": 14,
   "metadata": {},
   "outputs": [],
   "source": [
    "combined_2017 = sat_2017.merge(act_2017, how = 'outer', on='state')"
   ]
  },
  {
   "cell_type": "markdown",
   "metadata": {},
   "source": [
    "#### 11. Save your cleaned, merged dataframe\n",
    "\n",
    "Use a relative path to save out your data as `combined_2017.csv`."
   ]
  },
  {
   "cell_type": "code",
   "execution_count": 15,
   "metadata": {},
   "outputs": [],
   "source": [
    "combined_2017.to_csv(\"../data/combined_2017.csv\")"
   ]
  },
  {
   "cell_type": "markdown",
   "metadata": {},
   "source": [
    "## 2018 Data Import and Cleaning"
   ]
  },
  {
   "cell_type": "markdown",
   "metadata": {},
   "source": [
    "Links to the 2018 ACT and SAT data are provided in the README. These data live in PDFs, and so you'll get to enjoy practicing some *manual* data collection. Save these data as a CSV in your `data` directory, and import, explore, and clean these data in the same way you did above. **Make sure you comment on your steps so it is clear *why* you are doing each process**."
   ]
  },
  {
   "cell_type": "markdown",
   "metadata": {},
   "source": [
    "Source:\n",
    "\n",
    "SAT Score by states 2018 :https://blog.prepscholar.com/average-sat-scores-by-state-most-recent\n",
    "\n",
    "SAT Score by states 2018 : https://reports.collegeboard.org/sat-suite-program-results/state-results\n",
    "\n",
    "ACT Participation 2018 :https://www.act.org/content/dam/act/unsecured/documents/cccr2018/Average-Scores-by-State.pdf\n",
    "\n",
    "ACT Score by states 2018 : https://magoosh.com/hs/act/2016/average-act-score-by-state/\n"
   ]
  },
  {
   "cell_type": "code",
   "execution_count": 16,
   "metadata": {
    "scrolled": true
   },
   "outputs": [
    {
     "name": "stdout",
     "output_type": "stream",
     "text": [
      "<class 'pandas.core.frame.DataFrame'>\n",
      "Int64Index: 51 entries, 0 to 50\n",
      "Data columns (total 11 columns):\n",
      "state           51 non-null object\n",
      "sat_part_17     51 non-null float64\n",
      "sat_eng_17      51 non-null int64\n",
      "sat_math_17     51 non-null int64\n",
      "sat_total_17    51 non-null int64\n",
      "act_part_17     51 non-null float64\n",
      "act_eng_17      51 non-null float64\n",
      "act_math_17     51 non-null float64\n",
      "act_read_17     51 non-null float64\n",
      "act_sci_17      51 non-null float64\n",
      "act_comp_17     51 non-null float64\n",
      "dtypes: float64(7), int64(3), object(1)\n",
      "memory usage: 4.8+ KB\n",
      "<class 'pandas.core.frame.DataFrame'>\n",
      "RangeIndex: 51 entries, 0 to 50\n",
      "Data columns (total 11 columns):\n",
      "state           51 non-null object\n",
      "sat_part_18     51 non-null float64\n",
      "sat_eng_18      51 non-null int64\n",
      "sat_math_18     51 non-null int64\n",
      "sat_total_18    51 non-null int64\n",
      "act_part_18     51 non-null float64\n",
      "act_eng_18      51 non-null float64\n",
      "act_math_18     51 non-null float64\n",
      "act_read_18     51 non-null float64\n",
      "act_sci_18      51 non-null float64\n",
      "act_comp_18     51 non-null float64\n",
      "dtypes: float64(7), int64(3), object(1)\n",
      "memory usage: 4.5+ KB\n"
     ]
    }
   ],
   "source": [
    "#importing csv\n",
    "combined_2018 = pd.read_csv('../data/combined_2018.csv') \n",
    "\n",
    "#check datatype for each coloumn, and consistency with combined_2017 in columns, entries\n",
    "combined_2017.info() \n",
    "combined_2018.info() "
   ]
  },
  {
   "cell_type": "markdown",
   "metadata": {},
   "source": [
    "#### Combine your 2017 and 2018 data into a single dataframe\n",
    "Joining on state names should work, assuming you formatted all your state names identically. Make sure none of your columns (other than state) have identical names. Do yourself a favor and decide if you're encoding participation rates as floats or integers and standardize this across your datasets.\n",
    "\n",
    "Save the contents of this merged dataframe as `final.csv`.\n",
    "\n",
    "**Use this combined dataframe for the remainder of the project**."
   ]
  },
  {
   "cell_type": "code",
   "execution_count": 17,
   "metadata": {},
   "outputs": [],
   "source": [
    "#combining both databases and exporting it to csv\n",
    "final = combined_2017.merge(combined_2018, how = 'outer', on='state') \n",
    "final.to_csv(\"../data/final.csv\") "
   ]
  },
  {
   "cell_type": "markdown",
   "metadata": {},
   "source": [
    "## Exploratory Data Analysis\n",
    "\n",
    "\n",
    "### Summary Statistics\n",
    "Transpose the output of pandas `describe` method to create a quick overview of each numeric feature."
   ]
  },
  {
   "cell_type": "code",
   "execution_count": 18,
   "metadata": {},
   "outputs": [
    {
     "data": {
      "text/html": [
       "<div>\n",
       "<style scoped>\n",
       "    .dataframe tbody tr th:only-of-type {\n",
       "        vertical-align: middle;\n",
       "    }\n",
       "\n",
       "    .dataframe tbody tr th {\n",
       "        vertical-align: top;\n",
       "    }\n",
       "\n",
       "    .dataframe thead th {\n",
       "        text-align: right;\n",
       "    }\n",
       "</style>\n",
       "<table border=\"1\" class=\"dataframe\">\n",
       "  <thead>\n",
       "    <tr style=\"text-align: right;\">\n",
       "      <th></th>\n",
       "      <th>count</th>\n",
       "      <th>mean</th>\n",
       "      <th>std</th>\n",
       "      <th>min</th>\n",
       "      <th>25%</th>\n",
       "      <th>50%</th>\n",
       "      <th>75%</th>\n",
       "      <th>max</th>\n",
       "    </tr>\n",
       "  </thead>\n",
       "  <tbody>\n",
       "    <tr>\n",
       "      <th>sat_part_17</th>\n",
       "      <td>51.0</td>\n",
       "      <td>0.398039</td>\n",
       "      <td>0.352766</td>\n",
       "      <td>0.02</td>\n",
       "      <td>0.040</td>\n",
       "      <td>0.38</td>\n",
       "      <td>0.660</td>\n",
       "      <td>1.0</td>\n",
       "    </tr>\n",
       "    <tr>\n",
       "      <th>sat_part_18</th>\n",
       "      <td>51.0</td>\n",
       "      <td>0.466275</td>\n",
       "      <td>0.380142</td>\n",
       "      <td>0.02</td>\n",
       "      <td>0.045</td>\n",
       "      <td>0.52</td>\n",
       "      <td>0.795</td>\n",
       "      <td>1.0</td>\n",
       "    </tr>\n",
       "    <tr>\n",
       "      <th>sat_eng_17</th>\n",
       "      <td>51.0</td>\n",
       "      <td>569.117647</td>\n",
       "      <td>45.666901</td>\n",
       "      <td>482.00</td>\n",
       "      <td>533.500</td>\n",
       "      <td>559.00</td>\n",
       "      <td>613.000</td>\n",
       "      <td>644.0</td>\n",
       "    </tr>\n",
       "    <tr>\n",
       "      <th>sat_eng_18</th>\n",
       "      <td>51.0</td>\n",
       "      <td>567.294118</td>\n",
       "      <td>45.317676</td>\n",
       "      <td>497.00</td>\n",
       "      <td>535.000</td>\n",
       "      <td>552.00</td>\n",
       "      <td>616.500</td>\n",
       "      <td>643.0</td>\n",
       "    </tr>\n",
       "    <tr>\n",
       "      <th>sat_math_17</th>\n",
       "      <td>51.0</td>\n",
       "      <td>556.882353</td>\n",
       "      <td>47.121395</td>\n",
       "      <td>468.00</td>\n",
       "      <td>523.500</td>\n",
       "      <td>548.00</td>\n",
       "      <td>599.000</td>\n",
       "      <td>651.0</td>\n",
       "    </tr>\n",
       "    <tr>\n",
       "      <th>sat_math_18</th>\n",
       "      <td>51.0</td>\n",
       "      <td>557.470588</td>\n",
       "      <td>49.213963</td>\n",
       "      <td>480.00</td>\n",
       "      <td>521.500</td>\n",
       "      <td>547.00</td>\n",
       "      <td>600.500</td>\n",
       "      <td>655.0</td>\n",
       "    </tr>\n",
       "    <tr>\n",
       "      <th>sat_total_17</th>\n",
       "      <td>51.0</td>\n",
       "      <td>1126.098039</td>\n",
       "      <td>92.494812</td>\n",
       "      <td>950.00</td>\n",
       "      <td>1055.500</td>\n",
       "      <td>1107.00</td>\n",
       "      <td>1212.000</td>\n",
       "      <td>1295.0</td>\n",
       "    </tr>\n",
       "    <tr>\n",
       "      <th>sat_total_18</th>\n",
       "      <td>51.0</td>\n",
       "      <td>1125.294118</td>\n",
       "      <td>94.442214</td>\n",
       "      <td>977.00</td>\n",
       "      <td>1062.500</td>\n",
       "      <td>1099.00</td>\n",
       "      <td>1229.500</td>\n",
       "      <td>1298.0</td>\n",
       "    </tr>\n",
       "    <tr>\n",
       "      <th>act_part_17</th>\n",
       "      <td>51.0</td>\n",
       "      <td>0.652549</td>\n",
       "      <td>0.321408</td>\n",
       "      <td>0.08</td>\n",
       "      <td>0.310</td>\n",
       "      <td>0.69</td>\n",
       "      <td>1.000</td>\n",
       "      <td>1.0</td>\n",
       "    </tr>\n",
       "    <tr>\n",
       "      <th>act_part_18</th>\n",
       "      <td>51.0</td>\n",
       "      <td>0.616471</td>\n",
       "      <td>0.340810</td>\n",
       "      <td>0.07</td>\n",
       "      <td>0.285</td>\n",
       "      <td>0.66</td>\n",
       "      <td>1.000</td>\n",
       "      <td>1.0</td>\n",
       "    </tr>\n",
       "    <tr>\n",
       "      <th>act_eng_17</th>\n",
       "      <td>51.0</td>\n",
       "      <td>20.931373</td>\n",
       "      <td>2.353677</td>\n",
       "      <td>16.30</td>\n",
       "      <td>19.000</td>\n",
       "      <td>20.70</td>\n",
       "      <td>23.300</td>\n",
       "      <td>25.5</td>\n",
       "    </tr>\n",
       "    <tr>\n",
       "      <th>act_eng_18</th>\n",
       "      <td>51.0</td>\n",
       "      <td>20.988235</td>\n",
       "      <td>2.446356</td>\n",
       "      <td>16.60</td>\n",
       "      <td>19.100</td>\n",
       "      <td>20.20</td>\n",
       "      <td>23.700</td>\n",
       "      <td>26.0</td>\n",
       "    </tr>\n",
       "    <tr>\n",
       "      <th>act_math_17</th>\n",
       "      <td>51.0</td>\n",
       "      <td>21.182353</td>\n",
       "      <td>1.981989</td>\n",
       "      <td>18.00</td>\n",
       "      <td>19.400</td>\n",
       "      <td>20.90</td>\n",
       "      <td>23.100</td>\n",
       "      <td>25.3</td>\n",
       "    </tr>\n",
       "    <tr>\n",
       "      <th>act_math_18</th>\n",
       "      <td>51.0</td>\n",
       "      <td>21.125490</td>\n",
       "      <td>2.035765</td>\n",
       "      <td>17.80</td>\n",
       "      <td>19.400</td>\n",
       "      <td>20.70</td>\n",
       "      <td>23.150</td>\n",
       "      <td>25.2</td>\n",
       "    </tr>\n",
       "    <tr>\n",
       "      <th>act_read_17</th>\n",
       "      <td>51.0</td>\n",
       "      <td>22.013725</td>\n",
       "      <td>2.067271</td>\n",
       "      <td>18.10</td>\n",
       "      <td>20.450</td>\n",
       "      <td>21.80</td>\n",
       "      <td>24.150</td>\n",
       "      <td>26.0</td>\n",
       "    </tr>\n",
       "    <tr>\n",
       "      <th>act_read_18</th>\n",
       "      <td>51.0</td>\n",
       "      <td>22.015686</td>\n",
       "      <td>2.167245</td>\n",
       "      <td>18.00</td>\n",
       "      <td>20.450</td>\n",
       "      <td>21.60</td>\n",
       "      <td>24.100</td>\n",
       "      <td>26.1</td>\n",
       "    </tr>\n",
       "    <tr>\n",
       "      <th>act_sci_17</th>\n",
       "      <td>51.0</td>\n",
       "      <td>21.450980</td>\n",
       "      <td>1.739353</td>\n",
       "      <td>18.20</td>\n",
       "      <td>19.950</td>\n",
       "      <td>21.30</td>\n",
       "      <td>23.200</td>\n",
       "      <td>24.9</td>\n",
       "    </tr>\n",
       "    <tr>\n",
       "      <th>act_sci_18</th>\n",
       "      <td>51.0</td>\n",
       "      <td>21.345098</td>\n",
       "      <td>1.870114</td>\n",
       "      <td>17.90</td>\n",
       "      <td>19.850</td>\n",
       "      <td>21.10</td>\n",
       "      <td>23.050</td>\n",
       "      <td>24.9</td>\n",
       "    </tr>\n",
       "    <tr>\n",
       "      <th>act_comp_17</th>\n",
       "      <td>51.0</td>\n",
       "      <td>21.519608</td>\n",
       "      <td>2.020695</td>\n",
       "      <td>17.80</td>\n",
       "      <td>19.800</td>\n",
       "      <td>21.40</td>\n",
       "      <td>23.600</td>\n",
       "      <td>25.5</td>\n",
       "    </tr>\n",
       "    <tr>\n",
       "      <th>act_comp_18</th>\n",
       "      <td>51.0</td>\n",
       "      <td>21.486275</td>\n",
       "      <td>2.106278</td>\n",
       "      <td>17.70</td>\n",
       "      <td>19.950</td>\n",
       "      <td>21.30</td>\n",
       "      <td>23.550</td>\n",
       "      <td>25.6</td>\n",
       "    </tr>\n",
       "  </tbody>\n",
       "</table>\n",
       "</div>"
      ],
      "text/plain": [
       "              count         mean        std     min       25%      50%  \\\n",
       "sat_part_17    51.0     0.398039   0.352766    0.02     0.040     0.38   \n",
       "sat_part_18    51.0     0.466275   0.380142    0.02     0.045     0.52   \n",
       "sat_eng_17     51.0   569.117647  45.666901  482.00   533.500   559.00   \n",
       "sat_eng_18     51.0   567.294118  45.317676  497.00   535.000   552.00   \n",
       "sat_math_17    51.0   556.882353  47.121395  468.00   523.500   548.00   \n",
       "sat_math_18    51.0   557.470588  49.213963  480.00   521.500   547.00   \n",
       "sat_total_17   51.0  1126.098039  92.494812  950.00  1055.500  1107.00   \n",
       "sat_total_18   51.0  1125.294118  94.442214  977.00  1062.500  1099.00   \n",
       "act_part_17    51.0     0.652549   0.321408    0.08     0.310     0.69   \n",
       "act_part_18    51.0     0.616471   0.340810    0.07     0.285     0.66   \n",
       "act_eng_17     51.0    20.931373   2.353677   16.30    19.000    20.70   \n",
       "act_eng_18     51.0    20.988235   2.446356   16.60    19.100    20.20   \n",
       "act_math_17    51.0    21.182353   1.981989   18.00    19.400    20.90   \n",
       "act_math_18    51.0    21.125490   2.035765   17.80    19.400    20.70   \n",
       "act_read_17    51.0    22.013725   2.067271   18.10    20.450    21.80   \n",
       "act_read_18    51.0    22.015686   2.167245   18.00    20.450    21.60   \n",
       "act_sci_17     51.0    21.450980   1.739353   18.20    19.950    21.30   \n",
       "act_sci_18     51.0    21.345098   1.870114   17.90    19.850    21.10   \n",
       "act_comp_17    51.0    21.519608   2.020695   17.80    19.800    21.40   \n",
       "act_comp_18    51.0    21.486275   2.106278   17.70    19.950    21.30   \n",
       "\n",
       "                   75%     max  \n",
       "sat_part_17      0.660     1.0  \n",
       "sat_part_18      0.795     1.0  \n",
       "sat_eng_17     613.000   644.0  \n",
       "sat_eng_18     616.500   643.0  \n",
       "sat_math_17    599.000   651.0  \n",
       "sat_math_18    600.500   655.0  \n",
       "sat_total_17  1212.000  1295.0  \n",
       "sat_total_18  1229.500  1298.0  \n",
       "act_part_17      1.000     1.0  \n",
       "act_part_18      1.000     1.0  \n",
       "act_eng_17      23.300    25.5  \n",
       "act_eng_18      23.700    26.0  \n",
       "act_math_17     23.100    25.3  \n",
       "act_math_18     23.150    25.2  \n",
       "act_read_17     24.150    26.0  \n",
       "act_read_18     24.100    26.1  \n",
       "act_sci_17      23.200    24.9  \n",
       "act_sci_18      23.050    24.9  \n",
       "act_comp_17     23.600    25.5  \n",
       "act_comp_18     23.550    25.6  "
      ]
     },
     "execution_count": 18,
     "metadata": {},
     "output_type": "execute_result"
    }
   ],
   "source": [
    "#rearrange the column titles\n",
    "final = final[['state', \n",
    "               'sat_part_17', \n",
    "               'sat_part_18', \n",
    "               'sat_eng_17', \n",
    "               'sat_eng_18', \n",
    "               'sat_math_17', \n",
    "               'sat_math_18', \n",
    "               'sat_total_17', \n",
    "               'sat_total_18', \n",
    "               'act_part_17', \n",
    "               'act_part_18', \n",
    "               'act_eng_17', \n",
    "               'act_eng_18', \n",
    "               'act_math_17', \n",
    "               'act_math_18', \n",
    "               'act_read_17', \n",
    "               'act_read_18', \n",
    "               'act_sci_17', \n",
    "               'act_sci_18', \n",
    "               'act_comp_17', \n",
    "               'act_comp_18']]\n",
    "final.describe().transpose()"
   ]
  },
  {
   "cell_type": "markdown",
   "metadata": {},
   "source": [
    "#### Manually calculate standard deviation\n",
    "\n",
    "$$\\sigma = \\sqrt{\\frac{1}{n}\\sum_{i=1}^n(x_i - \\mu)^2}$$\n",
    "\n",
    "- Write a function to calculate standard deviation using the formula above"
   ]
  },
  {
   "cell_type": "code",
   "execution_count": 19,
   "metadata": {},
   "outputs": [],
   "source": [
    "#function for sd\n",
    "def stdev(x):\n",
    "    mean = sum(x)/len(x)\n",
    "    variance = sum([(i-mean)**2 for i in x]) / len(x)\n",
    "    return (variance)**0.5"
   ]
  },
  {
   "cell_type": "markdown",
   "metadata": {},
   "source": [
    "- Use a **dictionary comprehension** to apply your standard deviation function to each numeric column in the dataframe.  **No loops**  \n",
    "- Assign the output to variable `sd` as a dictionary where: \n",
    "    - Each column name is now a key \n",
    "    - That standard deviation of the column is the value \n",
    "     \n",
    "*Example Output :* `{'ACT_Math': 120, 'ACT_Reading': 120, ...}`"
   ]
  },
  {
   "cell_type": "code",
   "execution_count": 20,
   "metadata": {},
   "outputs": [
    {
     "name": "stdout",
     "output_type": "stream",
     "text": [
      "{'sat_part_17': 0.3492907076664507, 'sat_part_18': 0.3763965409204987, 'sat_eng_17': 45.21697020437866, 'sat_eng_18': 44.87118561762388, 'sat_math_17': 46.65713364485503, 'sat_math_18': 48.72908417723463, 'sat_total_17': 91.58351056778743, 'sat_total_18': 93.51172603783118, 'act_part_17': 0.3182417575123181, 'act_part_18': 0.33745194881997503, 'act_eng_17': 2.3304876369363363, 'act_eng_18': 2.4222536143202795, 'act_math_17': 1.9624620273436781, 'act_math_18': 2.015707255555717, 'act_read_17': 2.0469029314842646, 'act_read_18': 2.145891884510421, 'act_sci_17': 1.7222161451443676, 'act_sci_18': 1.8516885484833543, 'act_comp_17': 2.000786081581989, 'act_comp_18': 2.0855261815801147}\n"
     ]
    }
   ],
   "source": [
    "sd = {s:stdev(final[s]) for s in list(final)[1:]}\n",
    "print(sd)"
   ]
  },
  {
   "cell_type": "markdown",
   "metadata": {},
   "source": [
    "Do your manually calculated standard deviations match up with the output from pandas `describe`? What about numpy's `std` method?"
   ]
  },
  {
   "cell_type": "markdown",
   "metadata": {},
   "source": [
    "No.\n",
    "\n",
    "SD from pandas assumes the data is from a sample, hence using the normaliser = 1/(n-1)\n",
    "\n",
    "The manual SD and numpy's SD assumes the data set is the from popoulation data set, hence using the normaliser = 1/(n)"
   ]
  },
  {
   "cell_type": "markdown",
   "metadata": {},
   "source": [
    "#### Investigate trends in the data\n",
    "Using sorting and/or masking (along with the `.head` method to not print our entire dataframe), consider the following questions:\n",
    "\n",
    "- Which states have the highest and lowest participation rates for the:\n",
    "    - 2017 SAT?\n",
    "    - 2018 SAT?\n",
    "    - 2017 ACT?\n",
    "    - 2018 ACT?\n",
    "- Which states have the highest and lowest mean total/composite scores for the:\n",
    "    - 2017 SAT?\n",
    "    - 2018 SAT?\n",
    "    - 2017 ACT?\n",
    "    - 2018 ACT?\n",
    "- Do any states with 100% participation on a given test have a rate change year-to-year?\n",
    "- Do any states show have >50% participation on *both* tests either year?\n",
    "\n",
    "Based on what you've just observed, have you identified any states that you're especially interested in? **Make a note of these and state *why* you think they're interesting**.\n",
    "\n",
    "**You should comment on your findings at each step in a markdown cell below your code block**. Make sure you include at least one example of sorting your dataframe by a column, and one example of using boolean filtering (i.e., masking) to select a subset of the dataframe."
   ]
  },
  {
   "cell_type": "code",
   "execution_count": 21,
   "metadata": {},
   "outputs": [
    {
     "data": {
      "text/html": [
       "<div>\n",
       "<style scoped>\n",
       "    .dataframe tbody tr th:only-of-type {\n",
       "        vertical-align: middle;\n",
       "    }\n",
       "\n",
       "    .dataframe tbody tr th {\n",
       "        vertical-align: top;\n",
       "    }\n",
       "\n",
       "    .dataframe thead th {\n",
       "        text-align: right;\n",
       "    }\n",
       "</style>\n",
       "<table border=\"1\" class=\"dataframe\">\n",
       "  <thead>\n",
       "    <tr style=\"text-align: right;\">\n",
       "      <th></th>\n",
       "      <th>state</th>\n",
       "      <th>sat_part_17</th>\n",
       "    </tr>\n",
       "  </thead>\n",
       "  <tbody>\n",
       "    <tr>\n",
       "      <th>34</th>\n",
       "      <td>North Dakota</td>\n",
       "      <td>0.02</td>\n",
       "    </tr>\n",
       "    <tr>\n",
       "      <th>24</th>\n",
       "      <td>Mississippi</td>\n",
       "      <td>0.02</td>\n",
       "    </tr>\n",
       "    <tr>\n",
       "      <th>15</th>\n",
       "      <td>Iowa</td>\n",
       "      <td>0.02</td>\n",
       "    </tr>\n",
       "    <tr>\n",
       "      <th>25</th>\n",
       "      <td>Missouri</td>\n",
       "      <td>0.03</td>\n",
       "    </tr>\n",
       "    <tr>\n",
       "      <th>44</th>\n",
       "      <td>Utah</td>\n",
       "      <td>0.03</td>\n",
       "    </tr>\n",
       "    <tr>\n",
       "      <th>41</th>\n",
       "      <td>South Dakota</td>\n",
       "      <td>0.03</td>\n",
       "    </tr>\n",
       "    <tr>\n",
       "      <th>27</th>\n",
       "      <td>Nebraska</td>\n",
       "      <td>0.03</td>\n",
       "    </tr>\n",
       "    <tr>\n",
       "      <th>49</th>\n",
       "      <td>Wisconsin</td>\n",
       "      <td>0.03</td>\n",
       "    </tr>\n",
       "    <tr>\n",
       "      <th>23</th>\n",
       "      <td>Minnesota</td>\n",
       "      <td>0.03</td>\n",
       "    </tr>\n",
       "    <tr>\n",
       "      <th>50</th>\n",
       "      <td>Wyoming</td>\n",
       "      <td>0.03</td>\n",
       "    </tr>\n",
       "  </tbody>\n",
       "</table>\n",
       "</div>"
      ],
      "text/plain": [
       "           state  sat_part_17\n",
       "34  North Dakota         0.02\n",
       "24   Mississippi         0.02\n",
       "15          Iowa         0.02\n",
       "25      Missouri         0.03\n",
       "44          Utah         0.03\n",
       "41  South Dakota         0.03\n",
       "27      Nebraska         0.03\n",
       "49     Wisconsin         0.03\n",
       "23     Minnesota         0.03\n",
       "50       Wyoming         0.03"
      ]
     },
     "execution_count": 21,
     "metadata": {},
     "output_type": "execute_result"
    }
   ],
   "source": [
    "#2017 SAT\n",
    "final[['state','sat_part_17']].sort_values(['sat_part_17'], ascending=False).head(10)\n",
    "#Highest participation rates: Columbia, Michigan, Connecticut, Delaware - 100% New Hampshire 96%\n",
    "\n",
    "final[['state','sat_part_17']].sort_values(['sat_part_17'], ascending=True).head(10)\n",
    "#Lowest participation rates: North Dakota, Missisiippi, Lowa - 2% Missouri, Utah, South Dakota, Nebraska, Wisconsin, Minnesota,\n",
    "#Wyoming, Arkansas - 3%"
   ]
  },
  {
   "cell_type": "code",
   "execution_count": 22,
   "metadata": {
    "scrolled": true
   },
   "outputs": [
    {
     "data": {
      "text/html": [
       "<div>\n",
       "<style scoped>\n",
       "    .dataframe tbody tr th:only-of-type {\n",
       "        vertical-align: middle;\n",
       "    }\n",
       "\n",
       "    .dataframe tbody tr th {\n",
       "        vertical-align: top;\n",
       "    }\n",
       "\n",
       "    .dataframe thead th {\n",
       "        text-align: right;\n",
       "    }\n",
       "</style>\n",
       "<table border=\"1\" class=\"dataframe\">\n",
       "  <thead>\n",
       "    <tr style=\"text-align: right;\">\n",
       "      <th></th>\n",
       "      <th>state</th>\n",
       "      <th>sat_part_18</th>\n",
       "    </tr>\n",
       "  </thead>\n",
       "  <tbody>\n",
       "    <tr>\n",
       "      <th>34</th>\n",
       "      <td>North Dakota</td>\n",
       "      <td>0.02</td>\n",
       "    </tr>\n",
       "    <tr>\n",
       "      <th>50</th>\n",
       "      <td>Wyoming</td>\n",
       "      <td>0.03</td>\n",
       "    </tr>\n",
       "    <tr>\n",
       "      <th>41</th>\n",
       "      <td>South Dakota</td>\n",
       "      <td>0.03</td>\n",
       "    </tr>\n",
       "    <tr>\n",
       "      <th>27</th>\n",
       "      <td>Nebraska</td>\n",
       "      <td>0.03</td>\n",
       "    </tr>\n",
       "    <tr>\n",
       "      <th>49</th>\n",
       "      <td>Wisconsin</td>\n",
       "      <td>0.03</td>\n",
       "    </tr>\n",
       "    <tr>\n",
       "      <th>24</th>\n",
       "      <td>Mississippi</td>\n",
       "      <td>0.03</td>\n",
       "    </tr>\n",
       "    <tr>\n",
       "      <th>15</th>\n",
       "      <td>Iowa</td>\n",
       "      <td>0.03</td>\n",
       "    </tr>\n",
       "    <tr>\n",
       "      <th>44</th>\n",
       "      <td>Utah</td>\n",
       "      <td>0.04</td>\n",
       "    </tr>\n",
       "    <tr>\n",
       "      <th>23</th>\n",
       "      <td>Minnesota</td>\n",
       "      <td>0.04</td>\n",
       "    </tr>\n",
       "    <tr>\n",
       "      <th>18</th>\n",
       "      <td>Louisiana</td>\n",
       "      <td>0.04</td>\n",
       "    </tr>\n",
       "  </tbody>\n",
       "</table>\n",
       "</div>"
      ],
      "text/plain": [
       "           state  sat_part_18\n",
       "34  North Dakota         0.02\n",
       "50       Wyoming         0.03\n",
       "41  South Dakota         0.03\n",
       "27      Nebraska         0.03\n",
       "49     Wisconsin         0.03\n",
       "24   Mississippi         0.03\n",
       "15          Iowa         0.03\n",
       "44          Utah         0.04\n",
       "23     Minnesota         0.04\n",
       "18     Louisiana         0.04"
      ]
     },
     "execution_count": 22,
     "metadata": {},
     "output_type": "execute_result"
    }
   ],
   "source": [
    "#2018 SAT\n",
    "final[['state','sat_part_18']].sort_values(['sat_part_18'], ascending=False).head(10)\n",
    "#Highest participation rates: Coloado, Michigan, Connecticut, Delaware, Idaho - 100%\n",
    "\n",
    "final[['state','sat_part_18']].sort_values(['sat_part_18'], ascending=True).head(10)\n",
    "#Lowest participation rates: North Dakota - 2% Wyoming, South Dakota, Nebraska, Wisconsin, Missisiippi, Lowa - 3%"
   ]
  },
  {
   "cell_type": "code",
   "execution_count": 23,
   "metadata": {},
   "outputs": [
    {
     "data": {
      "text/html": [
       "<div>\n",
       "<style scoped>\n",
       "    .dataframe tbody tr th:only-of-type {\n",
       "        vertical-align: middle;\n",
       "    }\n",
       "\n",
       "    .dataframe tbody tr th {\n",
       "        vertical-align: top;\n",
       "    }\n",
       "\n",
       "    .dataframe thead th {\n",
       "        text-align: right;\n",
       "    }\n",
       "</style>\n",
       "<table border=\"1\" class=\"dataframe\">\n",
       "  <thead>\n",
       "    <tr style=\"text-align: right;\">\n",
       "      <th></th>\n",
       "      <th>state</th>\n",
       "      <th>act_part_17</th>\n",
       "    </tr>\n",
       "  </thead>\n",
       "  <tbody>\n",
       "    <tr>\n",
       "      <th>19</th>\n",
       "      <td>Maine</td>\n",
       "      <td>0.08</td>\n",
       "    </tr>\n",
       "    <tr>\n",
       "      <th>29</th>\n",
       "      <td>New Hampshire</td>\n",
       "      <td>0.18</td>\n",
       "    </tr>\n",
       "    <tr>\n",
       "      <th>7</th>\n",
       "      <td>Delaware</td>\n",
       "      <td>0.18</td>\n",
       "    </tr>\n",
       "    <tr>\n",
       "      <th>39</th>\n",
       "      <td>Rhode Island</td>\n",
       "      <td>0.21</td>\n",
       "    </tr>\n",
       "    <tr>\n",
       "      <th>38</th>\n",
       "      <td>Pennsylvania</td>\n",
       "      <td>0.23</td>\n",
       "    </tr>\n",
       "    <tr>\n",
       "      <th>20</th>\n",
       "      <td>Maryland</td>\n",
       "      <td>0.28</td>\n",
       "    </tr>\n",
       "    <tr>\n",
       "      <th>45</th>\n",
       "      <td>Vermont</td>\n",
       "      <td>0.29</td>\n",
       "    </tr>\n",
       "    <tr>\n",
       "      <th>21</th>\n",
       "      <td>Massachusetts</td>\n",
       "      <td>0.29</td>\n",
       "    </tr>\n",
       "    <tr>\n",
       "      <th>22</th>\n",
       "      <td>Michigan</td>\n",
       "      <td>0.29</td>\n",
       "    </tr>\n",
       "    <tr>\n",
       "      <th>46</th>\n",
       "      <td>Virginia</td>\n",
       "      <td>0.29</td>\n",
       "    </tr>\n",
       "  </tbody>\n",
       "</table>\n",
       "</div>"
      ],
      "text/plain": [
       "            state  act_part_17\n",
       "19          Maine         0.08\n",
       "29  New Hampshire         0.18\n",
       "7        Delaware         0.18\n",
       "39   Rhode Island         0.21\n",
       "38   Pennsylvania         0.23\n",
       "20       Maryland         0.28\n",
       "45        Vermont         0.29\n",
       "21  Massachusetts         0.29\n",
       "22       Michigan         0.29\n",
       "46       Virginia         0.29"
      ]
     },
     "execution_count": 23,
     "metadata": {},
     "output_type": "execute_result"
    }
   ],
   "source": [
    "#2017 ACT\n",
    "final[['state','act_part_17']].sort_values(['act_part_17'], ascending=False).head(18)\n",
    "#Highest participation rates: Alabama, Kentucky, Wisconsin, Utah, Tennessee, South Carolina, Oklahoma, North Carolina,\n",
    "#Nevada, Montana, Mississippi, Minnesota, Louisiana, Missouri, Wyoming, Colorado, Arkansas - 100%\n",
    "\n",
    "final[['state','act_part_17']].sort_values(['act_part_17'], ascending=True).head(10)\n",
    "#Lowest participation rates: Maine - 8%, New Hampshire, Delaware - 18%, Rhode Island 21%, Pennsylvania 23%"
   ]
  },
  {
   "cell_type": "code",
   "execution_count": 24,
   "metadata": {},
   "outputs": [
    {
     "data": {
      "text/html": [
       "<div>\n",
       "<style scoped>\n",
       "    .dataframe tbody tr th:only-of-type {\n",
       "        vertical-align: middle;\n",
       "    }\n",
       "\n",
       "    .dataframe tbody tr th {\n",
       "        vertical-align: top;\n",
       "    }\n",
       "\n",
       "    .dataframe thead th {\n",
       "        text-align: right;\n",
       "    }\n",
       "</style>\n",
       "<table border=\"1\" class=\"dataframe\">\n",
       "  <thead>\n",
       "    <tr style=\"text-align: right;\">\n",
       "      <th></th>\n",
       "      <th>state</th>\n",
       "      <th>act_part_18</th>\n",
       "    </tr>\n",
       "  </thead>\n",
       "  <tbody>\n",
       "    <tr>\n",
       "      <th>19</th>\n",
       "      <td>Maine</td>\n",
       "      <td>0.07</td>\n",
       "    </tr>\n",
       "    <tr>\n",
       "      <th>39</th>\n",
       "      <td>Rhode Island</td>\n",
       "      <td>0.15</td>\n",
       "    </tr>\n",
       "    <tr>\n",
       "      <th>29</th>\n",
       "      <td>New Hampshire</td>\n",
       "      <td>0.16</td>\n",
       "    </tr>\n",
       "    <tr>\n",
       "      <th>7</th>\n",
       "      <td>Delaware</td>\n",
       "      <td>0.17</td>\n",
       "    </tr>\n",
       "    <tr>\n",
       "      <th>38</th>\n",
       "      <td>Pennsylvania</td>\n",
       "      <td>0.20</td>\n",
       "    </tr>\n",
       "    <tr>\n",
       "      <th>22</th>\n",
       "      <td>Michigan</td>\n",
       "      <td>0.22</td>\n",
       "    </tr>\n",
       "    <tr>\n",
       "      <th>47</th>\n",
       "      <td>Washington</td>\n",
       "      <td>0.24</td>\n",
       "    </tr>\n",
       "    <tr>\n",
       "      <th>45</th>\n",
       "      <td>Vermont</td>\n",
       "      <td>0.24</td>\n",
       "    </tr>\n",
       "    <tr>\n",
       "      <th>46</th>\n",
       "      <td>Virginia</td>\n",
       "      <td>0.24</td>\n",
       "    </tr>\n",
       "    <tr>\n",
       "      <th>21</th>\n",
       "      <td>Massachusetts</td>\n",
       "      <td>0.25</td>\n",
       "    </tr>\n",
       "  </tbody>\n",
       "</table>\n",
       "</div>"
      ],
      "text/plain": [
       "            state  act_part_18\n",
       "19          Maine         0.07\n",
       "39   Rhode Island         0.15\n",
       "29  New Hampshire         0.16\n",
       "7        Delaware         0.17\n",
       "38   Pennsylvania         0.20\n",
       "22       Michigan         0.22\n",
       "47     Washington         0.24\n",
       "45        Vermont         0.24\n",
       "46       Virginia         0.24\n",
       "21  Massachusetts         0.25"
      ]
     },
     "execution_count": 24,
     "metadata": {},
     "output_type": "execute_result"
    }
   ],
   "source": [
    "#2018 ACT\n",
    "final[['state','act_part_18']].sort_values(['act_part_18'], ascending=False).head(20)\n",
    "#Highest participation rates: Alabama, Kentucky, Wisconsin, Utah, Tennessee, South Carolina, Oklahoma, Ohio*, North Carolina,\n",
    "#Nevada, Nebraska, Montana, Mississippi, Louisiana, Missouri, Wyoming, Arkansas - 100%\n",
    "\n",
    "final[['state','act_part_18']].sort_values(['act_part_18'], ascending=True).head(10)\n",
    "#Lowest participation rates: Maine - 7%, Rhode Island 15%, New Hampshire 16%, Delaware 17%,, Pennsylvania 20%"
   ]
  },
  {
   "cell_type": "code",
   "execution_count": 25,
   "metadata": {},
   "outputs": [
    {
     "data": {
      "text/html": [
       "<div>\n",
       "<style scoped>\n",
       "    .dataframe tbody tr th:only-of-type {\n",
       "        vertical-align: middle;\n",
       "    }\n",
       "\n",
       "    .dataframe tbody tr th {\n",
       "        vertical-align: top;\n",
       "    }\n",
       "\n",
       "    .dataframe thead th {\n",
       "        text-align: right;\n",
       "    }\n",
       "</style>\n",
       "<table border=\"1\" class=\"dataframe\">\n",
       "  <thead>\n",
       "    <tr style=\"text-align: right;\">\n",
       "      <th></th>\n",
       "      <th>state</th>\n",
       "      <th>sat_total_17</th>\n",
       "    </tr>\n",
       "  </thead>\n",
       "  <tbody>\n",
       "    <tr>\n",
       "      <th>8</th>\n",
       "      <td>District of Columbia</td>\n",
       "      <td>950</td>\n",
       "    </tr>\n",
       "    <tr>\n",
       "      <th>7</th>\n",
       "      <td>Delaware</td>\n",
       "      <td>996</td>\n",
       "    </tr>\n",
       "    <tr>\n",
       "      <th>12</th>\n",
       "      <td>Idaho</td>\n",
       "      <td>1005</td>\n",
       "    </tr>\n",
       "    <tr>\n",
       "      <th>22</th>\n",
       "      <td>Michigan</td>\n",
       "      <td>1005</td>\n",
       "    </tr>\n",
       "    <tr>\n",
       "      <th>19</th>\n",
       "      <td>Maine</td>\n",
       "      <td>1012</td>\n",
       "    </tr>\n",
       "    <tr>\n",
       "      <th>9</th>\n",
       "      <td>Florida</td>\n",
       "      <td>1017</td>\n",
       "    </tr>\n",
       "    <tr>\n",
       "      <th>43</th>\n",
       "      <td>Texas</td>\n",
       "      <td>1020</td>\n",
       "    </tr>\n",
       "    <tr>\n",
       "      <th>6</th>\n",
       "      <td>Connecticut</td>\n",
       "      <td>1041</td>\n",
       "    </tr>\n",
       "    <tr>\n",
       "      <th>36</th>\n",
       "      <td>Oklahoma</td>\n",
       "      <td>1047</td>\n",
       "    </tr>\n",
       "    <tr>\n",
       "      <th>10</th>\n",
       "      <td>Georgia</td>\n",
       "      <td>1050</td>\n",
       "    </tr>\n",
       "  </tbody>\n",
       "</table>\n",
       "</div>"
      ],
      "text/plain": [
       "                   state  sat_total_17\n",
       "8   District of Columbia           950\n",
       "7               Delaware           996\n",
       "12                 Idaho          1005\n",
       "22              Michigan          1005\n",
       "19                 Maine          1012\n",
       "9                Florida          1017\n",
       "43                 Texas          1020\n",
       "6            Connecticut          1041\n",
       "36              Oklahoma          1047\n",
       "10               Georgia          1050"
      ]
     },
     "execution_count": 25,
     "metadata": {},
     "output_type": "execute_result"
    }
   ],
   "source": [
    "#highest and lowest mean total/composite scores\n",
    "\n",
    "#2017 SAT\n",
    "final[['state','sat_total_17']].sort_values(['sat_total_17'], ascending=False).head(10)\n",
    "#Highest total score: Minnesota - 1295, Wisconsin - 1291, Lowa - 1275, Missouri - 1271, Kansas - 1260\n",
    "final[['state','sat_total_17']].sort_values(['sat_total_17'], ascending=True).head(10)\n",
    "#Lowest total score: Columbia - 950, Delaware - 996, Idaho - 1005, Michigan - 1005, Maine - 1012,"
   ]
  },
  {
   "cell_type": "code",
   "execution_count": 26,
   "metadata": {},
   "outputs": [
    {
     "data": {
      "text/html": [
       "<div>\n",
       "<style scoped>\n",
       "    .dataframe tbody tr th:only-of-type {\n",
       "        vertical-align: middle;\n",
       "    }\n",
       "\n",
       "    .dataframe tbody tr th {\n",
       "        vertical-align: top;\n",
       "    }\n",
       "\n",
       "    .dataframe thead th {\n",
       "        text-align: right;\n",
       "    }\n",
       "</style>\n",
       "<table border=\"1\" class=\"dataframe\">\n",
       "  <thead>\n",
       "    <tr style=\"text-align: right;\">\n",
       "      <th></th>\n",
       "      <th>state</th>\n",
       "      <th>sat_total_18</th>\n",
       "    </tr>\n",
       "  </thead>\n",
       "  <tbody>\n",
       "    <tr>\n",
       "      <th>8</th>\n",
       "      <td>District of Columbia</td>\n",
       "      <td>977</td>\n",
       "    </tr>\n",
       "    <tr>\n",
       "      <th>7</th>\n",
       "      <td>Delaware</td>\n",
       "      <td>998</td>\n",
       "    </tr>\n",
       "    <tr>\n",
       "      <th>48</th>\n",
       "      <td>West Virginia</td>\n",
       "      <td>999</td>\n",
       "    </tr>\n",
       "    <tr>\n",
       "      <th>12</th>\n",
       "      <td>Idaho</td>\n",
       "      <td>1001</td>\n",
       "    </tr>\n",
       "    <tr>\n",
       "      <th>22</th>\n",
       "      <td>Michigan</td>\n",
       "      <td>1011</td>\n",
       "    </tr>\n",
       "    <tr>\n",
       "      <th>19</th>\n",
       "      <td>Maine</td>\n",
       "      <td>1013</td>\n",
       "    </tr>\n",
       "    <tr>\n",
       "      <th>9</th>\n",
       "      <td>Florida</td>\n",
       "      <td>1014</td>\n",
       "    </tr>\n",
       "    <tr>\n",
       "      <th>39</th>\n",
       "      <td>Rhode Island</td>\n",
       "      <td>1018</td>\n",
       "    </tr>\n",
       "    <tr>\n",
       "      <th>13</th>\n",
       "      <td>Illinois</td>\n",
       "      <td>1019</td>\n",
       "    </tr>\n",
       "    <tr>\n",
       "      <th>5</th>\n",
       "      <td>Colorado</td>\n",
       "      <td>1025</td>\n",
       "    </tr>\n",
       "  </tbody>\n",
       "</table>\n",
       "</div>"
      ],
      "text/plain": [
       "                   state  sat_total_18\n",
       "8   District of Columbia           977\n",
       "7               Delaware           998\n",
       "48         West Virginia           999\n",
       "12                 Idaho          1001\n",
       "22              Michigan          1011\n",
       "19                 Maine          1013\n",
       "9                Florida          1014\n",
       "39          Rhode Island          1018\n",
       "13              Illinois          1019\n",
       "5               Colorado          1025"
      ]
     },
     "execution_count": 26,
     "metadata": {},
     "output_type": "execute_result"
    }
   ],
   "source": [
    "#2018 SAT\n",
    "final[['state','sat_total_18']].sort_values(['sat_total_18'], ascending=False).head(10)\n",
    "#Highest total score: Minnesota - 1298, Wisconsin - 1294, North Dakota - 1283, Lowa - 1265, Kansas - 1265\n",
    "final[['state','sat_total_18']].sort_values(['sat_total_18'], ascending=True).head(10)\n",
    "#Lowest total score: Columbia - 977, Delaware - 998, West Virginia - 999, Idaho - 1001, Michigan - 1011"
   ]
  },
  {
   "cell_type": "code",
   "execution_count": 27,
   "metadata": {},
   "outputs": [
    {
     "data": {
      "text/html": [
       "<div>\n",
       "<style scoped>\n",
       "    .dataframe tbody tr th:only-of-type {\n",
       "        vertical-align: middle;\n",
       "    }\n",
       "\n",
       "    .dataframe tbody tr th {\n",
       "        vertical-align: top;\n",
       "    }\n",
       "\n",
       "    .dataframe thead th {\n",
       "        text-align: right;\n",
       "    }\n",
       "</style>\n",
       "<table border=\"1\" class=\"dataframe\">\n",
       "  <thead>\n",
       "    <tr style=\"text-align: right;\">\n",
       "      <th></th>\n",
       "      <th>state</th>\n",
       "      <th>act_comp_17</th>\n",
       "    </tr>\n",
       "  </thead>\n",
       "  <tbody>\n",
       "    <tr>\n",
       "      <th>28</th>\n",
       "      <td>Nevada</td>\n",
       "      <td>17.8</td>\n",
       "    </tr>\n",
       "    <tr>\n",
       "      <th>24</th>\n",
       "      <td>Mississippi</td>\n",
       "      <td>18.6</td>\n",
       "    </tr>\n",
       "    <tr>\n",
       "      <th>40</th>\n",
       "      <td>South Carolina</td>\n",
       "      <td>18.7</td>\n",
       "    </tr>\n",
       "    <tr>\n",
       "      <th>11</th>\n",
       "      <td>Hawaii</td>\n",
       "      <td>19.0</td>\n",
       "    </tr>\n",
       "    <tr>\n",
       "      <th>33</th>\n",
       "      <td>North Carolina</td>\n",
       "      <td>19.1</td>\n",
       "    </tr>\n",
       "    <tr>\n",
       "      <th>0</th>\n",
       "      <td>Alabama</td>\n",
       "      <td>19.2</td>\n",
       "    </tr>\n",
       "    <tr>\n",
       "      <th>3</th>\n",
       "      <td>Arkansas</td>\n",
       "      <td>19.4</td>\n",
       "    </tr>\n",
       "    <tr>\n",
       "      <th>36</th>\n",
       "      <td>Oklahoma</td>\n",
       "      <td>19.4</td>\n",
       "    </tr>\n",
       "    <tr>\n",
       "      <th>18</th>\n",
       "      <td>Louisiana</td>\n",
       "      <td>19.5</td>\n",
       "    </tr>\n",
       "    <tr>\n",
       "      <th>2</th>\n",
       "      <td>Arizona</td>\n",
       "      <td>19.7</td>\n",
       "    </tr>\n",
       "  </tbody>\n",
       "</table>\n",
       "</div>"
      ],
      "text/plain": [
       "             state  act_comp_17\n",
       "28          Nevada         17.8\n",
       "24     Mississippi         18.6\n",
       "40  South Carolina         18.7\n",
       "11          Hawaii         19.0\n",
       "33  North Carolina         19.1\n",
       "0          Alabama         19.2\n",
       "3         Arkansas         19.4\n",
       "36        Oklahoma         19.4\n",
       "18       Louisiana         19.5\n",
       "2          Arizona         19.7"
      ]
     },
     "execution_count": 27,
     "metadata": {},
     "output_type": "execute_result"
    }
   ],
   "source": [
    "#2017 ACT\n",
    "final[['state','act_comp_17']].sort_values(['act_comp_17'], ascending=False).head(10)\n",
    "#Highest composite score: New Hampshire - 25.5, Massachusetts - 25.4, Connecticut - 25.2, Maine - 24.3, Comlumbia - 24.2\n",
    "final[['state','act_comp_17']].sort_values(['act_comp_17'], ascending=True).head(10)\n",
    "#Lowest composite score: Nevada - 17.8 Mississippi - 18.6, South Carolina - 18.7, Hawaii - 19.0, North Carolina - 19.1"
   ]
  },
  {
   "cell_type": "code",
   "execution_count": 28,
   "metadata": {},
   "outputs": [
    {
     "data": {
      "text/html": [
       "<div>\n",
       "<style scoped>\n",
       "    .dataframe tbody tr th:only-of-type {\n",
       "        vertical-align: middle;\n",
       "    }\n",
       "\n",
       "    .dataframe tbody tr th {\n",
       "        vertical-align: top;\n",
       "    }\n",
       "\n",
       "    .dataframe thead th {\n",
       "        text-align: right;\n",
       "    }\n",
       "</style>\n",
       "<table border=\"1\" class=\"dataframe\">\n",
       "  <thead>\n",
       "    <tr style=\"text-align: right;\">\n",
       "      <th></th>\n",
       "      <th>state</th>\n",
       "      <th>act_comp_18</th>\n",
       "    </tr>\n",
       "  </thead>\n",
       "  <tbody>\n",
       "    <tr>\n",
       "      <th>28</th>\n",
       "      <td>Nevada</td>\n",
       "      <td>17.7</td>\n",
       "    </tr>\n",
       "    <tr>\n",
       "      <th>40</th>\n",
       "      <td>South Carolina</td>\n",
       "      <td>18.3</td>\n",
       "    </tr>\n",
       "    <tr>\n",
       "      <th>24</th>\n",
       "      <td>Mississippi</td>\n",
       "      <td>18.6</td>\n",
       "    </tr>\n",
       "    <tr>\n",
       "      <th>11</th>\n",
       "      <td>Hawaii</td>\n",
       "      <td>18.9</td>\n",
       "    </tr>\n",
       "    <tr>\n",
       "      <th>0</th>\n",
       "      <td>Alabama</td>\n",
       "      <td>19.1</td>\n",
       "    </tr>\n",
       "    <tr>\n",
       "      <th>33</th>\n",
       "      <td>North Carolina</td>\n",
       "      <td>19.1</td>\n",
       "    </tr>\n",
       "    <tr>\n",
       "      <th>2</th>\n",
       "      <td>Arizona</td>\n",
       "      <td>19.2</td>\n",
       "    </tr>\n",
       "    <tr>\n",
       "      <th>18</th>\n",
       "      <td>Louisiana</td>\n",
       "      <td>19.2</td>\n",
       "    </tr>\n",
       "    <tr>\n",
       "      <th>36</th>\n",
       "      <td>Oklahoma</td>\n",
       "      <td>19.3</td>\n",
       "    </tr>\n",
       "    <tr>\n",
       "      <th>3</th>\n",
       "      <td>Arkansas</td>\n",
       "      <td>19.4</td>\n",
       "    </tr>\n",
       "  </tbody>\n",
       "</table>\n",
       "</div>"
      ],
      "text/plain": [
       "             state  act_comp_18\n",
       "28          Nevada         17.7\n",
       "40  South Carolina         18.3\n",
       "24     Mississippi         18.6\n",
       "11          Hawaii         18.9\n",
       "0          Alabama         19.1\n",
       "33  North Carolina         19.1\n",
       "2          Arizona         19.2\n",
       "18       Louisiana         19.2\n",
       "36        Oklahoma         19.3\n",
       "3         Arkansas         19.4"
      ]
     },
     "execution_count": 28,
     "metadata": {},
     "output_type": "execute_result"
    }
   ],
   "source": [
    "#2018 ACT\n",
    "final[['state','act_comp_18']].sort_values(['act_comp_18'], ascending=False).head(10)\n",
    "#Highest composite score: Connecticut - 25.6, Massachusetts - 25.5, New Hampshire - 25.1, New York - 24.5, Michigan - 24.4\n",
    "final[['state','act_comp_18']].sort_values(['act_comp_18'], ascending=True).head(10)\n",
    "#Lowest composite score: Nevada - 17.7, South Carolina - 18.3, Mississippi - 18.6, , Hawaii - 18.9, Alabama - 19.1, North Carolina - 19.1"
   ]
  },
  {
   "cell_type": "code",
   "execution_count": 29,
   "metadata": {},
   "outputs": [
    {
     "data": {
      "text/html": [
       "<div>\n",
       "<style scoped>\n",
       "    .dataframe tbody tr th:only-of-type {\n",
       "        vertical-align: middle;\n",
       "    }\n",
       "\n",
       "    .dataframe tbody tr th {\n",
       "        vertical-align: top;\n",
       "    }\n",
       "\n",
       "    .dataframe thead th {\n",
       "        text-align: right;\n",
       "    }\n",
       "</style>\n",
       "<table border=\"1\" class=\"dataframe\">\n",
       "  <thead>\n",
       "    <tr style=\"text-align: right;\">\n",
       "      <th></th>\n",
       "      <th>state</th>\n",
       "      <th>sat_part_17</th>\n",
       "      <th>sat_part_18</th>\n",
       "    </tr>\n",
       "  </thead>\n",
       "  <tbody>\n",
       "    <tr>\n",
       "      <th>5</th>\n",
       "      <td>Colorado</td>\n",
       "      <td>0.11</td>\n",
       "      <td>1.0</td>\n",
       "    </tr>\n",
       "    <tr>\n",
       "      <th>12</th>\n",
       "      <td>Idaho</td>\n",
       "      <td>0.93</td>\n",
       "      <td>1.0</td>\n",
       "    </tr>\n",
       "  </tbody>\n",
       "</table>\n",
       "</div>"
      ],
      "text/plain": [
       "       state  sat_part_17  sat_part_18\n",
       "5   Colorado         0.11          1.0\n",
       "12     Idaho         0.93          1.0"
      ]
     },
     "execution_count": 29,
     "metadata": {},
     "output_type": "execute_result"
    }
   ],
   "source": [
    "#Do any states with 100% participation on a given test have a rate change year-to-year?\n",
    "#SAT\n",
    "sat_part_delta = final[(final['sat_part_17'] == 1) & (final['sat_part_18']!=1)]\n",
    "sat_part_delta[['state','sat_part_17','sat_part_18']]\n",
    "#SAT: 2017 to 2018: Yes, decrease from 100% to 92%, District of Columbia\n",
    "\n",
    "sat_part_delta2 = final[(final['sat_part_17'] != 1) & (final['sat_part_18']==1)]\n",
    "sat_part_delta2[['state','sat_part_17','sat_part_18']]\n",
    "#SAT: 2017 to 2018: increase from 11% from 100%, Colorado and increase from 93% to 100% Idaho"
   ]
  },
  {
   "cell_type": "code",
   "execution_count": 30,
   "metadata": {},
   "outputs": [
    {
     "data": {
      "text/html": [
       "<div>\n",
       "<style scoped>\n",
       "    .dataframe tbody tr th:only-of-type {\n",
       "        vertical-align: middle;\n",
       "    }\n",
       "\n",
       "    .dataframe tbody tr th {\n",
       "        vertical-align: top;\n",
       "    }\n",
       "\n",
       "    .dataframe thead th {\n",
       "        text-align: right;\n",
       "    }\n",
       "</style>\n",
       "<table border=\"1\" class=\"dataframe\">\n",
       "  <thead>\n",
       "    <tr style=\"text-align: right;\">\n",
       "      <th></th>\n",
       "      <th>state</th>\n",
       "      <th>act_part_17</th>\n",
       "      <th>act_part_18</th>\n",
       "    </tr>\n",
       "  </thead>\n",
       "  <tbody>\n",
       "    <tr>\n",
       "      <th>27</th>\n",
       "      <td>Nebraska</td>\n",
       "      <td>0.84</td>\n",
       "      <td>1.0</td>\n",
       "    </tr>\n",
       "    <tr>\n",
       "      <th>35</th>\n",
       "      <td>Ohio</td>\n",
       "      <td>0.75</td>\n",
       "      <td>1.0</td>\n",
       "    </tr>\n",
       "  </tbody>\n",
       "</table>\n",
       "</div>"
      ],
      "text/plain": [
       "       state  act_part_17  act_part_18\n",
       "27  Nebraska         0.84          1.0\n",
       "35      Ohio         0.75          1.0"
      ]
     },
     "execution_count": 30,
     "metadata": {},
     "output_type": "execute_result"
    }
   ],
   "source": [
    "#Do any states with 100% participation on a given test have a rate change year-to-year?\n",
    "#ACT\n",
    "act_part_delta = final[(final['act_part_17'] == 1) & (final['act_part_18']!=1)]\n",
    "act_part_delta[['state','act_part_17','act_part_18']]\n",
    "#ACT: 2017 to 2018: decrease from 100% (to 99%, Minnesota), (to 30%, Colorado)\n",
    "\n",
    "act_part_delta2 = final[(final['act_part_17'] != 1) & (final['act_part_18']==1)]\n",
    "act_part_delta2[['state','act_part_17','act_part_18']]\n",
    "#ACT: 2017 to 2018: increase to 100% (from 75%, Ohio), (from 84%, Nebraska)"
   ]
  },
  {
   "cell_type": "code",
   "execution_count": 31,
   "metadata": {},
   "outputs": [
    {
     "data": {
      "text/html": [
       "<div>\n",
       "<style scoped>\n",
       "    .dataframe tbody tr th:only-of-type {\n",
       "        vertical-align: middle;\n",
       "    }\n",
       "\n",
       "    .dataframe tbody tr th {\n",
       "        vertical-align: top;\n",
       "    }\n",
       "\n",
       "    .dataframe thead th {\n",
       "        text-align: right;\n",
       "    }\n",
       "</style>\n",
       "<table border=\"1\" class=\"dataframe\">\n",
       "  <thead>\n",
       "    <tr style=\"text-align: right;\">\n",
       "      <th></th>\n",
       "      <th>state</th>\n",
       "      <th>sat_part_17</th>\n",
       "      <th>sat_part_18</th>\n",
       "      <th>sat_eng_17</th>\n",
       "      <th>sat_eng_18</th>\n",
       "      <th>sat_math_17</th>\n",
       "      <th>sat_math_18</th>\n",
       "      <th>sat_total_17</th>\n",
       "      <th>sat_total_18</th>\n",
       "      <th>act_part_17</th>\n",
       "      <th>act_part_18</th>\n",
       "    </tr>\n",
       "  </thead>\n",
       "  <tbody>\n",
       "    <tr>\n",
       "      <th>9</th>\n",
       "      <td>Florida</td>\n",
       "      <td>0.83</td>\n",
       "      <td>0.97</td>\n",
       "      <td>520</td>\n",
       "      <td>522</td>\n",
       "      <td>497</td>\n",
       "      <td>493</td>\n",
       "      <td>1017</td>\n",
       "      <td>1014</td>\n",
       "      <td>0.73</td>\n",
       "      <td>0.66</td>\n",
       "    </tr>\n",
       "    <tr>\n",
       "      <th>10</th>\n",
       "      <td>Georgia</td>\n",
       "      <td>0.61</td>\n",
       "      <td>0.70</td>\n",
       "      <td>535</td>\n",
       "      <td>542</td>\n",
       "      <td>515</td>\n",
       "      <td>522</td>\n",
       "      <td>1050</td>\n",
       "      <td>1064</td>\n",
       "      <td>0.55</td>\n",
       "      <td>0.53</td>\n",
       "    </tr>\n",
       "    <tr>\n",
       "      <th>11</th>\n",
       "      <td>Hawaii</td>\n",
       "      <td>0.55</td>\n",
       "      <td>0.56</td>\n",
       "      <td>544</td>\n",
       "      <td>550</td>\n",
       "      <td>541</td>\n",
       "      <td>549</td>\n",
       "      <td>1085</td>\n",
       "      <td>1099</td>\n",
       "      <td>0.90</td>\n",
       "      <td>0.89</td>\n",
       "    </tr>\n",
       "  </tbody>\n",
       "</table>\n",
       "</div>"
      ],
      "text/plain": [
       "      state  sat_part_17  sat_part_18  sat_eng_17  sat_eng_18  sat_math_17  \\\n",
       "9   Florida         0.83         0.97         520         522          497   \n",
       "10  Georgia         0.61         0.70         535         542          515   \n",
       "11   Hawaii         0.55         0.56         544         550          541   \n",
       "\n",
       "    sat_math_18  sat_total_17  sat_total_18  act_part_17  act_part_18  \n",
       "9           493          1017          1014         0.73         0.66  \n",
       "10          522          1050          1064         0.55         0.53  \n",
       "11          549          1085          1099         0.90         0.89  "
      ]
     },
     "execution_count": 31,
     "metadata": {},
     "output_type": "execute_result"
    }
   ],
   "source": [
    "#Do any states show have >50% participation on both tests either year?\n",
    "more_than_half = final[(final['sat_part_17']>0.5) & (final['sat_part_18']>0.5) & (final['act_part_17']>0.5) & (final['act_part_18']>0.5)]\n",
    "more_than_half.iloc[:,0:11]\n",
    "#Yes. Florida, Georgia, Hawaii"
   ]
  },
  {
   "cell_type": "markdown",
   "metadata": {},
   "source": [
    "## Visualize the data\n",
    "\n",
    "There's not a magic bullet recommendation for the right number of plots to understand a given dataset, but visualizing your data is *always* a good idea. Not only does it allow you to quickly convey your findings (even if you have a non-technical audience), it will often reveal trends in your data that escaped you when you were looking only at numbers.\n",
    "\n",
    "Some recommendations on plotting:\n",
    "- Plots have titles\n",
    "- Plots have axis labels\n",
    "- Plots have appropriate tick labels\n",
    "- All text is legible in a plot\n",
    "- Plots demonstrate meaningful and valid relationships\n",
    "- Plots are interpreted to aid understanding\n",
    "\n",
    "There is such a thing as too many plots, and there are a *lot* of bad plots. You might make some! (But hopefully not with the guided prompts below)."
   ]
  },
  {
   "cell_type": "markdown",
   "metadata": {},
   "source": [
    "#### Use Seaborn's heatmap with pandas `.corr()` to visualize correlations between all numeric features\n",
    "\n",
    "Heatmaps are generally not appropriate for presentations, and should often be excluded from reports as they can be visually overwhelming. **However**, they can be extremely useful in identify relationships of potential interest (as well as identifying potential collinearity before modeling).\n",
    "\n",
    "*example*:\n",
    "```python\n",
    "sns.heatmap(df.corr())\n",
    "```\n",
    "\n",
    "Please take time to format your output, adding a title. Look through some of the additional arguments and options. (Axis labels aren't really necessary, as long as the title is informative)."
   ]
  },
  {
   "cell_type": "code",
   "execution_count": 32,
   "metadata": {},
   "outputs": [
    {
     "data": {
      "text/plain": [
       "<matplotlib.axes._subplots.AxesSubplot at 0x1a23882eb8>"
      ]
     },
     "execution_count": 32,
     "metadata": {},
     "output_type": "execute_result"
    },
    {
     "data": {
      "image/png": "[encoded data removed]",
      "text/plain": [
       "<Figure size 720x720 with 2 Axes>"
      ]
     },
     "metadata": {
      "needs_background": "light"
     },
     "output_type": "display_data"
    }
   ],
   "source": [
    "fig, ax = plt.subplots(figsize=(10,10)) \n",
    "ax.set_title('Heat Map for all columns')\n",
    "sns.heatmap(final.corr(), ax = ax, annot=False, annot_kws={\"size\": 20})"
   ]
  },
  {
   "cell_type": "markdown",
   "metadata": {},
   "source": [
    "#### Define a custom function to subplot histograms\n",
    "\n",
    "We have data for two tests for two years. We only have composite (and not subtest scores) for the 2018 ACT. We should write a function that will take the names of 2+ columns and subplot histograms. While you can use pandas plotting or Seaborn here, matplotlib gives you greater control over all aspects of your plots.\n",
    "\n",
    "[Helpful Link for Plotting Multiple Figures](https://matplotlib.org/users/pyplot_tutorial.html#working-with-multiple-figures-and-axes)\n",
    "\n",
    "Here's some starter code:"
   ]
  },
  {
   "cell_type": "code",
   "execution_count": 33,
   "metadata": {},
   "outputs": [
    {
     "data": {
      "image/png": "[encoded data removed]",
      "text/plain": [
       "<Figure size 1080x648 with 4 Axes>"
      ]
     },
     "metadata": {
      "needs_background": "light"
     },
     "output_type": "display_data"
    }
   ],
   "source": [
    "#test function\n",
    "c = ['sat_part_17','sat_part_18','act_part_17','act_part_18']\n",
    "t = ['SAT Participation 2017','SAT Participation 2018', 'ACT Avg Math Scores 2017','ACT Participation 2018']\n",
    "\n",
    "\n",
    "def subplot_histograms(dataframe, list_of_columns, list_of_titles, list_of_xlabels):\n",
    "    nrows = int(np.ceil(len(list_of_columns)/2)) # Makes sure you have enough rows\n",
    "    fig, ax = plt.subplots(nrows=nrows, ncols=2, figsize=(15,9)) # You'll want to specify your figsize\n",
    "    ax = ax.ravel() # Ravel turns a matrix into a vector, which is easier to iterate\n",
    "    for i, column in enumerate(list_of_columns): # Gives us an index value to get into all our lists\n",
    "        ax[i].hist(dataframe[column]) # feel free to add more settings\n",
    "        ax[i].set_title(list_of_titles[i], fontsize=15)\n",
    "    fig.suptitle(\"Comparison of Participation Rates for ACT/SAT tests in 2017/2018\", fontsize=22)\n",
    "   # Set titles, labels, etc here for each subplot\n",
    "\n",
    "subplot_histograms(final,c,t,t)"
   ]
  },
  {
   "cell_type": "markdown",
   "metadata": {},
   "source": [
    "#### Plot and interpret histograms \n",
    "For each of the following:\n",
    "- Participation rates for SAT & ACT\n",
    "- Math scores for SAT & ACT\n",
    "- Reading/verbal scores for SAT & ACT"
   ]
  },
  {
   "cell_type": "code",
   "execution_count": 34,
   "metadata": {},
   "outputs": [
    {
     "data": {
      "text/plain": [
       "Text(0, 0.5, 'No. of states')"
      ]
     },
     "execution_count": 34,
     "metadata": {},
     "output_type": "execute_result"
    },
    {
     "data": {
      "image/png": "[encoded data removed]",
      "text/plain": [
       "<Figure size 1440x720 with 4 Axes>"
      ]
     },
     "metadata": {
      "needs_background": "light"
     },
     "output_type": "display_data"
    }
   ],
   "source": [
    "#Participation rates for SAT and ACT\n",
    "%matplotlib inline\n",
    "fig, (ax , ax2) = plt.subplots(2, 2, sharey = 'all' , figsize=(20,10))\n",
    "b=8\n",
    "\n",
    "ax = plt.subplot(231)\n",
    "plt.hist(final['sat_part_17'], bins=b, label = 'Sat 2017')\n",
    "ax.set_xlim(0,1)\n",
    "ax.set_ylim(0,25)\n",
    "ax.set_xlabel('SAT Participation 2017', fontsize = 14)\n",
    "ax.set_ylabel('No. of states', fontsize= 14)\n",
    "\n",
    "ax2 = plt.subplot(232)\n",
    "plt.hist(final['sat_part_18'], bins=b, label = 'Sat 2018')\n",
    "ax2.set_xlim(0,1)\n",
    "ax2.set_ylim(0,25)\n",
    "ax2.set_xlabel('SAT Participation 2018', fontsize = 14)\n",
    "ax2.set_ylabel('No. of states', fontsize= 14)\n",
    "\n",
    "ax3 = plt.subplot(234)\n",
    "plt.hist(final['act_part_17'], bins=b, label = 'Act 2017')\n",
    "ax3.set_xlim(0,1)\n",
    "ax3.set_ylim(0,25)\n",
    "ax3.set_xlabel('ACT Participation 2017', fontsize = 14)\n",
    "ax3.set_ylabel('No. of states', fontsize= 14)\n",
    "\n",
    "ax4 = plt.subplot(235)\n",
    "plt.hist(final['act_part_18'], bins=b, label = 'Act 2018')\n",
    "ax4.set_xlim(0,1)\n",
    "ax4.set_ylim(0,25)\n",
    "ax4.set_xlabel('ACT Participation 2018', fontsize = 14)\n",
    "ax4.set_ylabel('No. of states', fontsize= 14)"
   ]
  },
  {
   "cell_type": "code",
   "execution_count": 35,
   "metadata": {},
   "outputs": [
    {
     "data": {
      "text/plain": [
       "Text(0, 0.5, 'No. of states')"
      ]
     },
     "execution_count": 35,
     "metadata": {},
     "output_type": "execute_result"
    },
    {
     "data": {
      "image/png": "[encoded data removed]",
      "text/plain": [
       "<Figure size 1440x720 with 4 Axes>"
      ]
     },
     "metadata": {
      "needs_background": "light"
     },
     "output_type": "display_data"
    }
   ],
   "source": [
    "#Maths Score for SAT and ACT\n",
    "%matplotlib inline\n",
    "fig, (ax , ax2) = plt.subplots(2, 2, sharey = 'all' , figsize=(20,10))\n",
    "b=10\n",
    "\n",
    "ax = plt.subplot(231)\n",
    "plt.hist(final['sat_math_17'], bins=b, label = 'Sat 2017')\n",
    "ax.set_xlim(450,660)\n",
    "ax.set_ylim(0,14)\n",
    "ax.set_xlabel('SAT Avg Math Scores 2017', fontsize = 14)\n",
    "ax.set_ylabel('No. of states', fontsize= 14)\n",
    "\n",
    "ax2 = plt.subplot(232)\n",
    "plt.hist(final['sat_math_18'], bins=b, label = 'Sat 2018')\n",
    "ax2.set_xlim(450,660)\n",
    "ax2.set_ylim(0,14)\n",
    "ax2.set_xlabel('SAT Avg Math Scores 2018', fontsize = 14)\n",
    "ax2.set_ylabel('No. of states', fontsize= 14)\n",
    "\n",
    "ax3 = plt.subplot(234)\n",
    "plt.hist(final['act_math_17'], bins=b, label = 'Act 2017')\n",
    "ax3.set_xlim(17,26)\n",
    "ax3.set_ylim(0,14)\n",
    "ax3.set_xlabel('ACT Avg Math Scores 2017', fontsize = 14)\n",
    "ax3.set_ylabel('No. of states', fontsize= 14)\n",
    "\n",
    "ax4 = plt.subplot(235)\n",
    "plt.hist(final['act_math_18'], bins=b, label = 'Act 2018')\n",
    "ax4.set_xlim(17,26)\n",
    "ax4.set_ylim(0,14)\n",
    "ax4.set_xlabel('ACT Avg Math Scores 2018', fontsize = 14)\n",
    "ax4.set_ylabel('No. of states', fontsize= 14)"
   ]
  },
  {
   "cell_type": "code",
   "execution_count": 36,
   "metadata": {},
   "outputs": [
    {
     "data": {
      "text/plain": [
       "Text(0, 0.5, 'No. of states')"
      ]
     },
     "execution_count": 36,
     "metadata": {},
     "output_type": "execute_result"
    },
    {
     "data": {
      "image/png": "[encoded data removed]",
      "text/plain": [
       "<Figure size 1440x720 with 4 Axes>"
      ]
     },
     "metadata": {
      "needs_background": "light"
     },
     "output_type": "display_data"
    }
   ],
   "source": [
    "#English/Reading for SAT and ACT\n",
    "%matplotlib inline\n",
    "fig, (ax , ax2) = plt.subplots(2, 2, sharey = 'all' , figsize=(20,10))\n",
    "b=10\n",
    "\n",
    "ax = plt.subplot(231)\n",
    "plt.hist(final['sat_eng_17'], bins=b, label = 'Sat 2017')\n",
    "ax.set_xlim(475,660)\n",
    "ax.set_ylim(0,14)\n",
    "ax.set_xlabel('SAT Avg English Scores 2017', fontsize = 14)\n",
    "ax.set_ylabel('No. of states', fontsize= 14)\n",
    "\n",
    "ax2 = plt.subplot(232)\n",
    "plt.hist(final['sat_eng_18'], bins=b, label = 'Sat 2018')\n",
    "ax2.set_xlim(475,660)\n",
    "ax2.set_ylim(0,14)\n",
    "ax2.set_xlabel('SAT Avg English Scores 2018', fontsize = 14)\n",
    "ax2.set_ylabel('No. of states', fontsize= 14)\n",
    "\n",
    "ax3 = plt.subplot(234)\n",
    "plt.hist(final['act_read_17'], bins=b, label = 'Act 2017')\n",
    "ax3.set_xlim(17,27)\n",
    "ax3.set_ylim(0,14)\n",
    "ax3.set_xlabel('ACT Avg Reading Scores 2017', fontsize = 14)\n",
    "ax3.set_ylabel('No. of states', fontsize= 14)\n",
    "\n",
    "ax4 = plt.subplot(235)\n",
    "plt.hist(final['act_read_18'], bins=b, label = 'Act 2018')\n",
    "ax4.set_xlim(17,27)\n",
    "ax4.set_ylim(0,14)\n",
    "ax4.set_xlabel('ACT Avg Reading Scores 2018', fontsize = 14)\n",
    "ax4.set_ylabel('No. of states', fontsize= 14)"
   ]
  },
  {
   "cell_type": "markdown",
   "metadata": {},
   "source": [
    "#### Plot and interpret scatter plots\n",
    "\n",
    "For each of the following:\n",
    "- SAT vs. ACT math scores for 2017\n",
    "- SAT vs. ACT verbal/reading scores for 2017\n",
    "- SAT vs. ACT total/composite scores for 2017\n",
    "- Total scores for SAT 2017 vs. 2018\n",
    "- Composite scores for ACT 2017 vs. 2018\n",
    "\n",
    "Plot the two variables against each other using matplotlib or Seaborn\n",
    "\n",
    "Your plots should show:\n",
    "- Two clearly labeled axes\n",
    "- A proper title\n",
    "- Using colors and symbols that are clear and unmistakable\n",
    "\n",
    "**Feel free to write a custom function, and subplot if you'd like.** Functions save both time and space.\n"
   ]
  },
  {
   "cell_type": "code",
   "execution_count": 37,
   "metadata": {},
   "outputs": [
    {
     "data": {
      "text/plain": [
       "Text(0, 0.5, 'ACT Avg Maths Score 2017')"
      ]
     },
     "execution_count": 37,
     "metadata": {},
     "output_type": "execute_result"
    },
    {
     "data": {
      "image/png": "[encoded data removed]",
      "text/plain": [
       "<Figure size 720x720 with 1 Axes>"
      ]
     },
     "metadata": {
      "needs_background": "light"
     },
     "output_type": "display_data"
    }
   ],
   "source": [
    "#Scatterplot for SAT and ACT maths score 2017\n",
    "fig = plt.figure(figsize=(10,10))\n",
    "plt.scatter(final['sat_math_17'], final['act_math_17'] , c = 'green')\n",
    "plt.title('Scatter plot SAT and ACT average Maths Score in US States 2017')\n",
    "plt.xlabel('SAT Avg Maths Score 2017', fontsize = 14)\n",
    "plt.ylabel('ACT Avg Maths Score 2017', fontsize= 14)"
   ]
  },
  {
   "cell_type": "code",
   "execution_count": 38,
   "metadata": {},
   "outputs": [
    {
     "data": {
      "text/plain": [
       "Text(0, 0.5, 'ACT Avg Reading Score 2017')"
      ]
     },
     "execution_count": 38,
     "metadata": {},
     "output_type": "execute_result"
    },
    {
     "data": {
      "image/png": "[encoded data removed]",
      "text/plain": [
       "<Figure size 720x720 with 1 Axes>"
      ]
     },
     "metadata": {
      "needs_background": "light"
     },
     "output_type": "display_data"
    }
   ],
   "source": [
    "#Scatterplot for SAT verbal and ACT reading score 2017\n",
    "fig = plt.figure(figsize=(10,10))\n",
    "plt.scatter(final['sat_eng_17'], final['act_read_17'] , c = 'red')\n",
    "plt.title('Scatter plot for SAT English and ACT Reading average score in US States 2017')\n",
    "plt.xlabel('SAT Avg English Score 2017', fontsize = 14)\n",
    "plt.ylabel('ACT Avg Reading Score 2017', fontsize= 14)"
   ]
  },
  {
   "cell_type": "code",
   "execution_count": 39,
   "metadata": {
    "scrolled": false
   },
   "outputs": [
    {
     "data": {
      "text/plain": [
       "Text(0, 0.5, 'ACT Avg Composite Score 2017')"
      ]
     },
     "execution_count": 39,
     "metadata": {},
     "output_type": "execute_result"
    },
    {
     "data": {
      "image/png": "[encoded data removed]",
      "text/plain": [
       "<Figure size 720x720 with 1 Axes>"
      ]
     },
     "metadata": {
      "needs_background": "light"
     },
     "output_type": "display_data"
    }
   ],
   "source": [
    "#Scatterplot for SAT total and ACT Comp for 2017\n",
    "fig = plt.figure(figsize=(10,10))\n",
    "plt.scatter(final['sat_total_17'], final['act_comp_17'] , c = 'blue')\n",
    "plt.title('Scatter plot for Total SAT and ACT Composite average score in US States 2017')\n",
    "plt.xlabel('SAT Avg Total Score 2017', fontsize = 14)\n",
    "plt.ylabel('ACT Avg Composite Score 2017', fontsize= 14)"
   ]
  },
  {
   "cell_type": "code",
   "execution_count": 40,
   "metadata": {
    "scrolled": true
   },
   "outputs": [
    {
     "data": {
      "text/plain": [
       "Text(0, 0.5, 'SAT Total Avg Score 2018')"
      ]
     },
     "execution_count": 40,
     "metadata": {},
     "output_type": "execute_result"
    },
    {
     "data": {
      "image/png": "[encoded data removed]",
      "text/plain": [
       "<Figure size 720x720 with 1 Axes>"
      ]
     },
     "metadata": {
      "needs_background": "light"
     },
     "output_type": "display_data"
    }
   ],
   "source": [
    "#Scatterplot for Total SAT score 2017,2018\n",
    "fig = plt.figure(figsize=(10,10))\n",
    "plt.scatter(final['sat_total_17'], final['sat_total_18'] , c = 'green')\n",
    "plt.title('Scatter plot for Total SAT score in US States for 2017 and 2018')\n",
    "plt.xlabel('SAT Total Avg Score 2017', fontsize = 14)\n",
    "plt.ylabel('SAT Total Avg Score 2018', fontsize= 14)"
   ]
  },
  {
   "cell_type": "code",
   "execution_count": 41,
   "metadata": {},
   "outputs": [
    {
     "data": {
      "text/plain": [
       "Text(0, 0.5, 'ACT Avg Composite Score 2018')"
      ]
     },
     "execution_count": 41,
     "metadata": {},
     "output_type": "execute_result"
    },
    {
     "data": {
      "image/png": "[encoded data removed]",
      "text/plain": [
       "<Figure size 720x720 with 1 Axes>"
      ]
     },
     "metadata": {
      "needs_background": "light"
     },
     "output_type": "display_data"
    }
   ],
   "source": [
    "#Scatterplot for ACT composite score 2017,2018\n",
    "fig = plt.figure(figsize=(10,10))\n",
    "plt.scatter(final['act_comp_17'], final['act_comp_18'] , c = 'Red')\n",
    "plt.title('Scatter plot for ACT composite score in US States for 2017 and 2018',fontsize = 20)\n",
    "plt.xlabel('ACT Avg Composite Score 2017', fontsize = 16)\n",
    "plt.ylabel('ACT Avg Composite Score 2018', fontsize= 16)"
   ]
  },
  {
   "cell_type": "markdown",
   "metadata": {},
   "source": [
    "#### Plot and interpret boxplots\n",
    "\n",
    "For each numeric variable in the dataframe create a boxplot using Seaborn. Boxplots demonstrate central tendency and spread in variables. In a certain sense, these are somewhat redundant with histograms, but you may be better able to identify clear outliers or differences in IQR, etc.\n",
    "\n",
    "Multiple values can be plotted to a single boxplot as long as they are of the same relative scale (meaning they have similar min/max values).\n",
    "\n",
    "Each boxplot should:\n",
    "- Only include variables of a similar scale\n",
    "- Have clear labels for each variable\n",
    "- Have appropriate titles and labels"
   ]
  },
  {
   "cell_type": "code",
   "execution_count": 42,
   "metadata": {
    "scrolled": false
   },
   "outputs": [
    {
     "data": {
      "image/png": "[encoded data removed]",
      "text/plain": [
       "<Figure size 720x720 with 1 Axes>"
      ]
     },
     "metadata": {
      "needs_background": "light"
     },
     "output_type": "display_data"
    }
   ],
   "source": [
    "fig, ax = plt.subplots(figsize=(10,10))\n",
    "ax = sns.boxplot(data = final, order = ['sat_part_17','sat_part_18','act_part_17','act_part_18'], \n",
    "                 orient = 'v', width = 0.5, fliersize = 10).set(\n",
    "    xlabel='Partipation rates for SAT 2017/2018 & ACT 2017/2018', ylabel='Participation rate')"
   ]
  },
  {
   "cell_type": "code",
   "execution_count": 43,
   "metadata": {},
   "outputs": [
    {
     "data": {
      "image/png": "[encoded data removed]",
      "text/plain": [
       "<Figure size 720x720 with 1 Axes>"
      ]
     },
     "metadata": {
      "needs_background": "light"
     },
     "output_type": "display_data"
    }
   ],
   "source": [
    "fig, ax = plt.subplots(figsize=(10,10))\n",
    "ax = sns.boxplot(data = final, order = ['sat_eng_17','sat_eng_18','sat_math_17','sat_math_18'], \n",
    "                 orient = 'v', width = 0.5, fliersize = 10).set(\n",
    "    xlabel='Average scores for SAT Eng 2017/2018 & SAT Math 2017/2018' , ylabel='Average scores across states')"
   ]
  },
  {
   "cell_type": "code",
   "execution_count": 44,
   "metadata": {},
   "outputs": [
    {
     "data": {
      "image/png": "[encoded data removed]",
      "text/plain": [
       "<Figure size 720x720 with 1 Axes>"
      ]
     },
     "metadata": {
      "needs_background": "light"
     },
     "output_type": "display_data"
    }
   ],
   "source": [
    "fig, ax = plt.subplots(figsize=(10,10))\n",
    "ax = sns.boxplot(data = final, order=['sat_total_17','sat_total_18'], \n",
    "                 orient = 'v', width = 0.5, fliersize = 10).set(\n",
    "    xlabel='SAT Total Scores for 2017/2018' , ylabel='Average scores across states')"
   ]
  },
  {
   "cell_type": "code",
   "execution_count": 45,
   "metadata": {},
   "outputs": [
    {
     "data": {
      "image/png": "[encoded data removed]",
      "text/plain": [
       "<Figure size 1080x720 with 1 Axes>"
      ]
     },
     "metadata": {
      "needs_background": "light"
     },
     "output_type": "display_data"
    }
   ],
   "source": [
    "fig, ax = plt.subplots(figsize=(15,10))\n",
    "ax = sns.boxplot(data = final, order = ['act_eng_17',\n",
    "                                        'act_eng_18', \n",
    "                                        'act_math_17', \n",
    "                                        'act_math_18', \n",
    "                                        'act_read_17', \n",
    "                                        'act_read_18', \n",
    "                                        'act_sci_17', \n",
    "                                        'act_sci_18', \n",
    "                                        'act_comp_17', \n",
    "                                        'act_comp_18'], \n",
    "                 orient = 'v', width = 0.5, fliersize = 10).set(\n",
    "    xlabel='ACT Scores for English 2017/2018, Math 2017/2018, Reading 2017/2018, Science 2017/2018 and Composite 2017/2018', \n",
    "    ylabel='Average scores across states')\n",
    "              "
   ]
  },
  {
   "cell_type": "markdown",
   "metadata": {},
   "source": [
    "#### Feel free to do additional plots below\n",
    "*(do research and choose your own chart types & variables)*\n",
    "\n",
    "Are there any additional trends or relationships you haven't explored? Was there something interesting you saw that you'd like to dive further into? It's likely that there are a few more plots you might want to generate to support your narrative and recommendations that you are building toward. **As always, make sure you're interpreting your plots as you go**."
   ]
  },
  {
   "cell_type": "code",
   "execution_count": null,
   "metadata": {},
   "outputs": [],
   "source": []
  },
  {
   "cell_type": "markdown",
   "metadata": {},
   "source": [
    "#### (Optional): Using Tableau, create a choropleth map for each variable using a map of the US. \n",
    "\n",
    "Save this plot as an image file in an images directory, provide a relative path, and insert the image into notebook in markdown."
   ]
  },
  {
   "cell_type": "markdown",
   "metadata": {},
   "source": [
    "#not Tableau, but heat map based on US states nonetheless:\n",
    "#sat participation heatmap\n",
    "('../screenshots/sat_2017.png')\n",
    "('../screenshots/sat_2018.png')\n",
    "('../screenshots/sat_part.gif')\n",
    "\n",
    "#act participation heatmap\n",
    "('../screenshots/act_2017.png')\n",
    "('../screenshots/act_2018.png')\n",
    "('../screenshots/act_part.gif')\n",
    "\n",
    "#act vs sat participation heatmap\n",
    "('../screenshots/actvsat_2017.png')\n",
    "('../screenshots/actvsat_2018.png')\n",
    "('../screenshots/sat_act_part.gif')\n",
    "\n",
    "#sat 17 vs sat 18 participation heatmap\n",
    "('../screenshots/sat_17v18.png')\n",
    "#act 17 vs act 18 participation heatmap\n",
    "('../screenshots/act_17v18.png')"
   ]
  },
  {
   "cell_type": "markdown",
   "metadata": {},
   "source": [
    "## Descriptive and Inferential Statistics"
   ]
  },
  {
   "cell_type": "markdown",
   "metadata": {},
   "source": [
    "#### Summarizing Distributions\n",
    "\n",
    "Above, we used pandas `describe` to provide quick summary statistics of our numeric columns. We also demonstrated many visual relationships.\n",
    "\n",
    "As data scientists, having a complete understanding of data is imperative prior to modeling.\n",
    "\n",
    "While we will continue to build our analytic tools, we know that measures of *central tendency*, *spread*, and *shape/skewness* provide a quick summary of distributions.\n",
    "\n",
    "For each variable in your data, summarize the underlying distributions (in words & statistics)\n",
    " - Be thorough in your verbal description of these distributions.\n",
    " - Be sure to back up these summaries with statistics."
   ]
  },
  {
   "cell_type": "markdown",
   "metadata": {},
   "source": [
    "Answers:\n",
    "\n",
    "1. SAT Participation 2017, 2018:\n",
    "\n",
    "The National participation average rose from 40% to 47% and median rose from 38% to 52%.\n",
    "\n",
    "Since, average < median, this suggest that SAT has gained participation from states that are from the middle percentiles while the bottom states remained unchanged. \n",
    "\n",
    "This is further supported by each quartile's performance within the participation rates.\n",
    "Q1,Q2,Q3 in 2018 performed better than 2017.\n",
    "\n",
    "In terms of distribution, both set of datas seem right-skewed\n",
    "\n",
    "2. ACT Participation 2017, 2018:\n",
    "\n",
    "The National participation average decreased from 65% to 61%\n",
    "\n",
    "While participation has decreased slightly, the test retains it's importance in existing states as states in the 75th percentile and above retains 100% participation in these states.\n",
    "\n",
    "In terms of distribution, both set of datas seem left-skewed\n",
    "\n",
    "3. SAT English, Maths and Total scores 2017 and 2018:\n",
    "\n",
    "From the plots above, it has been proven that SAT's participation rates and scores from each components correlates negatively. Despite this prior knowledge, the scores from 2017 to 2018 only declined marginally.\n",
    "\n",
    "English:\n",
    "\n",
    ".mean decreased slightly from 569 to 567\n",
    "\n",
    ".median had decreased from 559 to 552\n",
    "\n",
    ".since the gap between mean and median is now slightly wider, the distribution leans slightly away from normal distribution\n",
    "\n",
    "Maths:\n",
    "\n",
    ".mean rose from 556 to 557\n",
    "\n",
    ".median maintained from 548 to 547\n",
    "\n",
    "Total:\n",
    "\n",
    ".mean maintained from 1126 to 1125\n",
    "\n",
    ".median decreased slightly from 1107 to 1099\n",
    "\n",
    ".since the gap between mean and median is now slightly wider, the distribution leans slightly away from normal distribution\n",
    "\n",
    "SAT English,Maths,Total scores - close to normal distribution, but peak slightly towards the left\n",
    "\n",
    "4. ACT English, Maths, Reading, Science and Composite scores 2017 and 2018:\n",
    "\n",
    "Simailar to SAT scores, the negative correlation would mean that scores in ACT should see an increase.\n",
    "However, scores seem undisturbed from previous year\n",
    "\n",
    "English:\n",
    "\n",
    ".mean and median remained the same at 20\n",
    "Maths:\n",
    "\n",
    ".mean remained the same at 21, median at 20\n",
    "Reading:\n",
    "\n",
    ".mean remained at 22, median at 21\n",
    "Science\n",
    "\n",
    ".mean at 21, median 21\n",
    "Composite\n",
    "\n",
    ".mean at 21, median 21\n",
    "\n",
    "In terms of distribution, data seem to be normally distributed"
   ]
  },
  {
   "cell_type": "code",
   "execution_count": 46,
   "metadata": {
    "scrolled": true
   },
   "outputs": [
    {
     "data": {
      "text/html": [
       "<div>\n",
       "<style scoped>\n",
       "    .dataframe tbody tr th:only-of-type {\n",
       "        vertical-align: middle;\n",
       "    }\n",
       "\n",
       "    .dataframe tbody tr th {\n",
       "        vertical-align: top;\n",
       "    }\n",
       "\n",
       "    .dataframe thead th {\n",
       "        text-align: right;\n",
       "    }\n",
       "</style>\n",
       "<table border=\"1\" class=\"dataframe\">\n",
       "  <thead>\n",
       "    <tr style=\"text-align: right;\">\n",
       "      <th></th>\n",
       "      <th>count</th>\n",
       "      <th>mean</th>\n",
       "      <th>std</th>\n",
       "      <th>min</th>\n",
       "      <th>25%</th>\n",
       "      <th>50%</th>\n",
       "      <th>75%</th>\n",
       "      <th>max</th>\n",
       "    </tr>\n",
       "  </thead>\n",
       "  <tbody>\n",
       "    <tr>\n",
       "      <th>sat_part_17</th>\n",
       "      <td>51.0</td>\n",
       "      <td>0.398039</td>\n",
       "      <td>0.352766</td>\n",
       "      <td>0.02</td>\n",
       "      <td>0.040</td>\n",
       "      <td>0.38</td>\n",
       "      <td>0.660</td>\n",
       "      <td>1.0</td>\n",
       "    </tr>\n",
       "    <tr>\n",
       "      <th>sat_part_18</th>\n",
       "      <td>51.0</td>\n",
       "      <td>0.466275</td>\n",
       "      <td>0.380142</td>\n",
       "      <td>0.02</td>\n",
       "      <td>0.045</td>\n",
       "      <td>0.52</td>\n",
       "      <td>0.795</td>\n",
       "      <td>1.0</td>\n",
       "    </tr>\n",
       "    <tr>\n",
       "      <th>sat_eng_17</th>\n",
       "      <td>51.0</td>\n",
       "      <td>569.117647</td>\n",
       "      <td>45.666901</td>\n",
       "      <td>482.00</td>\n",
       "      <td>533.500</td>\n",
       "      <td>559.00</td>\n",
       "      <td>613.000</td>\n",
       "      <td>644.0</td>\n",
       "    </tr>\n",
       "    <tr>\n",
       "      <th>sat_eng_18</th>\n",
       "      <td>51.0</td>\n",
       "      <td>567.294118</td>\n",
       "      <td>45.317676</td>\n",
       "      <td>497.00</td>\n",
       "      <td>535.000</td>\n",
       "      <td>552.00</td>\n",
       "      <td>616.500</td>\n",
       "      <td>643.0</td>\n",
       "    </tr>\n",
       "    <tr>\n",
       "      <th>sat_math_17</th>\n",
       "      <td>51.0</td>\n",
       "      <td>556.882353</td>\n",
       "      <td>47.121395</td>\n",
       "      <td>468.00</td>\n",
       "      <td>523.500</td>\n",
       "      <td>548.00</td>\n",
       "      <td>599.000</td>\n",
       "      <td>651.0</td>\n",
       "    </tr>\n",
       "    <tr>\n",
       "      <th>sat_math_18</th>\n",
       "      <td>51.0</td>\n",
       "      <td>557.470588</td>\n",
       "      <td>49.213963</td>\n",
       "      <td>480.00</td>\n",
       "      <td>521.500</td>\n",
       "      <td>547.00</td>\n",
       "      <td>600.500</td>\n",
       "      <td>655.0</td>\n",
       "    </tr>\n",
       "    <tr>\n",
       "      <th>sat_total_17</th>\n",
       "      <td>51.0</td>\n",
       "      <td>1126.098039</td>\n",
       "      <td>92.494812</td>\n",
       "      <td>950.00</td>\n",
       "      <td>1055.500</td>\n",
       "      <td>1107.00</td>\n",
       "      <td>1212.000</td>\n",
       "      <td>1295.0</td>\n",
       "    </tr>\n",
       "    <tr>\n",
       "      <th>sat_total_18</th>\n",
       "      <td>51.0</td>\n",
       "      <td>1125.294118</td>\n",
       "      <td>94.442214</td>\n",
       "      <td>977.00</td>\n",
       "      <td>1062.500</td>\n",
       "      <td>1099.00</td>\n",
       "      <td>1229.500</td>\n",
       "      <td>1298.0</td>\n",
       "    </tr>\n",
       "    <tr>\n",
       "      <th>act_part_17</th>\n",
       "      <td>51.0</td>\n",
       "      <td>0.652549</td>\n",
       "      <td>0.321408</td>\n",
       "      <td>0.08</td>\n",
       "      <td>0.310</td>\n",
       "      <td>0.69</td>\n",
       "      <td>1.000</td>\n",
       "      <td>1.0</td>\n",
       "    </tr>\n",
       "    <tr>\n",
       "      <th>act_part_18</th>\n",
       "      <td>51.0</td>\n",
       "      <td>0.616471</td>\n",
       "      <td>0.340810</td>\n",
       "      <td>0.07</td>\n",
       "      <td>0.285</td>\n",
       "      <td>0.66</td>\n",
       "      <td>1.000</td>\n",
       "      <td>1.0</td>\n",
       "    </tr>\n",
       "    <tr>\n",
       "      <th>act_eng_17</th>\n",
       "      <td>51.0</td>\n",
       "      <td>20.931373</td>\n",
       "      <td>2.353677</td>\n",
       "      <td>16.30</td>\n",
       "      <td>19.000</td>\n",
       "      <td>20.70</td>\n",
       "      <td>23.300</td>\n",
       "      <td>25.5</td>\n",
       "    </tr>\n",
       "    <tr>\n",
       "      <th>act_eng_18</th>\n",
       "      <td>51.0</td>\n",
       "      <td>20.988235</td>\n",
       "      <td>2.446356</td>\n",
       "      <td>16.60</td>\n",
       "      <td>19.100</td>\n",
       "      <td>20.20</td>\n",
       "      <td>23.700</td>\n",
       "      <td>26.0</td>\n",
       "    </tr>\n",
       "    <tr>\n",
       "      <th>act_math_17</th>\n",
       "      <td>51.0</td>\n",
       "      <td>21.182353</td>\n",
       "      <td>1.981989</td>\n",
       "      <td>18.00</td>\n",
       "      <td>19.400</td>\n",
       "      <td>20.90</td>\n",
       "      <td>23.100</td>\n",
       "      <td>25.3</td>\n",
       "    </tr>\n",
       "    <tr>\n",
       "      <th>act_math_18</th>\n",
       "      <td>51.0</td>\n",
       "      <td>21.125490</td>\n",
       "      <td>2.035765</td>\n",
       "      <td>17.80</td>\n",
       "      <td>19.400</td>\n",
       "      <td>20.70</td>\n",
       "      <td>23.150</td>\n",
       "      <td>25.2</td>\n",
       "    </tr>\n",
       "    <tr>\n",
       "      <th>act_read_17</th>\n",
       "      <td>51.0</td>\n",
       "      <td>22.013725</td>\n",
       "      <td>2.067271</td>\n",
       "      <td>18.10</td>\n",
       "      <td>20.450</td>\n",
       "      <td>21.80</td>\n",
       "      <td>24.150</td>\n",
       "      <td>26.0</td>\n",
       "    </tr>\n",
       "    <tr>\n",
       "      <th>act_read_18</th>\n",
       "      <td>51.0</td>\n",
       "      <td>22.015686</td>\n",
       "      <td>2.167245</td>\n",
       "      <td>18.00</td>\n",
       "      <td>20.450</td>\n",
       "      <td>21.60</td>\n",
       "      <td>24.100</td>\n",
       "      <td>26.1</td>\n",
       "    </tr>\n",
       "    <tr>\n",
       "      <th>act_sci_17</th>\n",
       "      <td>51.0</td>\n",
       "      <td>21.450980</td>\n",
       "      <td>1.739353</td>\n",
       "      <td>18.20</td>\n",
       "      <td>19.950</td>\n",
       "      <td>21.30</td>\n",
       "      <td>23.200</td>\n",
       "      <td>24.9</td>\n",
       "    </tr>\n",
       "    <tr>\n",
       "      <th>act_sci_18</th>\n",
       "      <td>51.0</td>\n",
       "      <td>21.345098</td>\n",
       "      <td>1.870114</td>\n",
       "      <td>17.90</td>\n",
       "      <td>19.850</td>\n",
       "      <td>21.10</td>\n",
       "      <td>23.050</td>\n",
       "      <td>24.9</td>\n",
       "    </tr>\n",
       "    <tr>\n",
       "      <th>act_comp_17</th>\n",
       "      <td>51.0</td>\n",
       "      <td>21.519608</td>\n",
       "      <td>2.020695</td>\n",
       "      <td>17.80</td>\n",
       "      <td>19.800</td>\n",
       "      <td>21.40</td>\n",
       "      <td>23.600</td>\n",
       "      <td>25.5</td>\n",
       "    </tr>\n",
       "    <tr>\n",
       "      <th>act_comp_18</th>\n",
       "      <td>51.0</td>\n",
       "      <td>21.486275</td>\n",
       "      <td>2.106278</td>\n",
       "      <td>17.70</td>\n",
       "      <td>19.950</td>\n",
       "      <td>21.30</td>\n",
       "      <td>23.550</td>\n",
       "      <td>25.6</td>\n",
       "    </tr>\n",
       "  </tbody>\n",
       "</table>\n",
       "</div>"
      ],
      "text/plain": [
       "              count         mean        std     min       25%      50%  \\\n",
       "sat_part_17    51.0     0.398039   0.352766    0.02     0.040     0.38   \n",
       "sat_part_18    51.0     0.466275   0.380142    0.02     0.045     0.52   \n",
       "sat_eng_17     51.0   569.117647  45.666901  482.00   533.500   559.00   \n",
       "sat_eng_18     51.0   567.294118  45.317676  497.00   535.000   552.00   \n",
       "sat_math_17    51.0   556.882353  47.121395  468.00   523.500   548.00   \n",
       "sat_math_18    51.0   557.470588  49.213963  480.00   521.500   547.00   \n",
       "sat_total_17   51.0  1126.098039  92.494812  950.00  1055.500  1107.00   \n",
       "sat_total_18   51.0  1125.294118  94.442214  977.00  1062.500  1099.00   \n",
       "act_part_17    51.0     0.652549   0.321408    0.08     0.310     0.69   \n",
       "act_part_18    51.0     0.616471   0.340810    0.07     0.285     0.66   \n",
       "act_eng_17     51.0    20.931373   2.353677   16.30    19.000    20.70   \n",
       "act_eng_18     51.0    20.988235   2.446356   16.60    19.100    20.20   \n",
       "act_math_17    51.0    21.182353   1.981989   18.00    19.400    20.90   \n",
       "act_math_18    51.0    21.125490   2.035765   17.80    19.400    20.70   \n",
       "act_read_17    51.0    22.013725   2.067271   18.10    20.450    21.80   \n",
       "act_read_18    51.0    22.015686   2.167245   18.00    20.450    21.60   \n",
       "act_sci_17     51.0    21.450980   1.739353   18.20    19.950    21.30   \n",
       "act_sci_18     51.0    21.345098   1.870114   17.90    19.850    21.10   \n",
       "act_comp_17    51.0    21.519608   2.020695   17.80    19.800    21.40   \n",
       "act_comp_18    51.0    21.486275   2.106278   17.70    19.950    21.30   \n",
       "\n",
       "                   75%     max  \n",
       "sat_part_17      0.660     1.0  \n",
       "sat_part_18      0.795     1.0  \n",
       "sat_eng_17     613.000   644.0  \n",
       "sat_eng_18     616.500   643.0  \n",
       "sat_math_17    599.000   651.0  \n",
       "sat_math_18    600.500   655.0  \n",
       "sat_total_17  1212.000  1295.0  \n",
       "sat_total_18  1229.500  1298.0  \n",
       "act_part_17      1.000     1.0  \n",
       "act_part_18      1.000     1.0  \n",
       "act_eng_17      23.300    25.5  \n",
       "act_eng_18      23.700    26.0  \n",
       "act_math_17     23.100    25.3  \n",
       "act_math_18     23.150    25.2  \n",
       "act_read_17     24.150    26.0  \n",
       "act_read_18     24.100    26.1  \n",
       "act_sci_17      23.200    24.9  \n",
       "act_sci_18      23.050    24.9  \n",
       "act_comp_17     23.600    25.5  \n",
       "act_comp_18     23.550    25.6  "
      ]
     },
     "execution_count": 46,
     "metadata": {},
     "output_type": "execute_result"
    }
   ],
   "source": [
    "final.describe().transpose()"
   ]
  },
  {
   "cell_type": "markdown",
   "metadata": {},
   "source": [
    "#### We generally assuming that data we sample from a population will be normally distributed. Do we observe this trend?"
   ]
  },
  {
   "cell_type": "markdown",
   "metadata": {},
   "source": [
    "Answer: Yes, scores from each states generally follows the same distribution, close to normal distribution \n",
    "(or log-normal distribution)"
   ]
  },
  {
   "cell_type": "markdown",
   "metadata": {},
   "source": [
    "Does This Assumption Hold for:\n",
    "    - Math\n",
    "    - Reading\n",
    "    - Rates\n",
    "Explain your answers for each distribution and how you think this will affect estimates made from these data."
   ]
  },
  {
   "cell_type": "markdown",
   "metadata": {},
   "source": [
    "Answer: Yes, the assumption holds for both math and reading as their mean and median are close to each other. It also holds true for all components in SAT and ACT test. \n",
    "\n",
    "Distribution for rates on both test follows a non normal distribution (either continuous bernoulli distribution or log normal distribution) as there are a high level dependency between states taking SAT or ACT despite slightly overlapping (ie. students taking both tests).\n",
    "\n",
    "Better gauge of distributions will help minimise the error of the predictions, allow the algorithm converge properly and hence reduce cost."
   ]
  },
  {
   "cell_type": "markdown",
   "metadata": {},
   "source": [
    "#### Estimate Limits of Data\n",
    "\n",
    "Suppose we only seek to understand the relationship between SAT and ACT participation rates in 2017. \n",
    "\n",
    "##### Does it make sense to conduct statistical inference given these data specifically? \n",
    "\n",
    "Why or why not?\n",
    "\n",
    "*(think about granularity, aggregation, the relationships between populations size & rates...consider the actually populations these data describe in answering this question)*"
   ]
  },
  {
   "cell_type": "markdown",
   "metadata": {},
   "source": [
    "Yes. From the scatterplots, we understand that they are negatively correlated which coincides with the information and research we have derived. The current sample size of n=51 will allow us to either test the national relationship between the two tests or go deeper test this within the state itself."
   ]
  },
  {
   "cell_type": "markdown",
   "metadata": {},
   "source": [
    "##### Is it appropriate to compare *these* specific SAT and ACT math scores? \n",
    "\n",
    "Why or why not?"
   ]
  },
  {
   "cell_type": "markdown",
   "metadata": {},
   "source": [
    "No. From the scatterplots, we understand that they have low correlation. In addition, SAT and ACT test takers are mostly mutally exclusive with very little overlaps in each state. Hence, the a maths result from SAT will be independent from one in ACT. Therefore, it would neither help in understanding the paricipation rates of both tests, nor any new relationships of the maths score in both tests"
   ]
  },
  {
   "cell_type": "markdown",
   "metadata": {},
   "source": [
    "#### Statistical Evaluation of Distributions \n",
    "\n",
    "**If you feel it's appropriate**, using methods we discussed in class, run hypothesis tests to compare variables of interest in our dataset. "
   ]
  },
  {
   "cell_type": "markdown",
   "metadata": {},
   "source": [
    "Within the dataset, we will test if there are significant differences\n",
    "in the partipation rates for:\n",
    "    1. SAT 2017 vs SAT 2018\n",
    "    2. ACT 2017 vs ACT 2018\n",
    "    \n",
    "    Test 1: \n",
    "        H0: sat_part_17 = sat_part_18\n",
    "        H1: sat_part_17 != sat_part_18\n",
    "            \n",
    "    Test 2:\n",
    "        H0: act_part_17 = act_part_18\n",
    "        H1: act_part_17 != act_part_18"
   ]
  },
  {
   "cell_type": "code",
   "execution_count": 47,
   "metadata": {
    "scrolled": true
   },
   "outputs": [
    {
     "name": "stdout",
     "output_type": "stream",
     "text": [
      "Ttest_indResult(statistic=-0.9396299045734352, pvalue=0.34967156915092745)\n",
      "Ttest_indResult(statistic=0.5499970052081805, pvalue=0.5835477949005085)\n"
     ]
    }
   ],
   "source": [
    "#Test 1 - for SAT Participation\n",
    "print(stats.ttest_ind(final['sat_part_17'],final['sat_part_18']))\n",
    "\n",
    "#Test 2 - for ACT Participation\n",
    "print(stats.ttest_ind(final['act_part_17'],final['act_part_18']))\n"
   ]
  },
  {
   "cell_type": "markdown",
   "metadata": {},
   "source": [
    "At 5% significance level,\n",
    "Test 1:\n",
    "    p < alpha, therefore reject null hypothesis. \n",
    "    The average participation rate for SAT 2017 is significantly different from SAT 2018.\n",
    "    \n",
    "Test 2:\n",
    "    p > alpha, therefore do not reject null hypothesis.\n",
    "    The average participation rate for ACT 2017 is NOT significantly different from ACT 2018.\n",
    "\n",
    "Conclusion: The change in format and other background causes significantly changed the participation rates \n",
    "    for SAT from 2017 to 2018. However, this change does not seem to affect ACT as their change from\n",
    "    2017 to 2018 is not statistically significant."
   ]
  },
  {
   "cell_type": "markdown",
   "metadata": {},
   "source": [
    "## Outside Research"
   ]
  },
  {
   "cell_type": "markdown",
   "metadata": {},
   "source": [
    "Based upon your observations, choose **three** states that demonstrate interesting trends in their SAT and/or ACT participation rates. Spend some time doing outside research on state policies that might influence these rates, and summarize your findings below. **Feel free to go back and create new plots that highlight these states of interest**. If you bring in any outside tables or charts, make sure you are explicit about having borrowed them. If you quote any text, make sure that it renders as being quoted. (Make sure that you cite your sources -- check with you local instructor for citation preferences)."
   ]
  },
  {
   "cell_type": "code",
   "execution_count": 48,
   "metadata": {},
   "outputs": [],
   "source": [
    "#Only using the participation rates from both test \n",
    "combined_part = final.iloc[:,0:11]\n",
    "combined_part['sat_diff'] = combined_part['sat_part_18']-combined_part['sat_part_17']\n",
    "combined_part['act_diff'] = combined_part['act_part_18']-combined_part['act_part_17']"
   ]
  },
  {
   "cell_type": "code",
   "execution_count": 49,
   "metadata": {},
   "outputs": [
    {
     "data": {
      "text/html": [
       "<div>\n",
       "<style scoped>\n",
       "    .dataframe tbody tr th:only-of-type {\n",
       "        vertical-align: middle;\n",
       "    }\n",
       "\n",
       "    .dataframe tbody tr th {\n",
       "        vertical-align: top;\n",
       "    }\n",
       "\n",
       "    .dataframe thead th {\n",
       "        text-align: right;\n",
       "    }\n",
       "</style>\n",
       "<table border=\"1\" class=\"dataframe\">\n",
       "  <thead>\n",
       "    <tr style=\"text-align: right;\">\n",
       "      <th></th>\n",
       "      <th>state</th>\n",
       "      <th>act_part_17</th>\n",
       "      <th>act_part_18</th>\n",
       "      <th>act_diff</th>\n",
       "    </tr>\n",
       "  </thead>\n",
       "  <tbody>\n",
       "    <tr>\n",
       "      <th>5</th>\n",
       "      <td>Colorado</td>\n",
       "      <td>1.00</td>\n",
       "      <td>0.30</td>\n",
       "      <td>-0.70</td>\n",
       "    </tr>\n",
       "    <tr>\n",
       "      <th>13</th>\n",
       "      <td>Illinois</td>\n",
       "      <td>0.93</td>\n",
       "      <td>0.43</td>\n",
       "      <td>-0.50</td>\n",
       "    </tr>\n",
       "    <tr>\n",
       "      <th>1</th>\n",
       "      <td>Alaska</td>\n",
       "      <td>0.65</td>\n",
       "      <td>0.33</td>\n",
       "      <td>-0.32</td>\n",
       "    </tr>\n",
       "    <tr>\n",
       "      <th>22</th>\n",
       "      <td>Michigan</td>\n",
       "      <td>0.29</td>\n",
       "      <td>0.22</td>\n",
       "      <td>-0.07</td>\n",
       "    </tr>\n",
       "    <tr>\n",
       "      <th>9</th>\n",
       "      <td>Florida</td>\n",
       "      <td>0.73</td>\n",
       "      <td>0.66</td>\n",
       "      <td>-0.07</td>\n",
       "    </tr>\n",
       "  </tbody>\n",
       "</table>\n",
       "</div>"
      ],
      "text/plain": [
       "       state  act_part_17  act_part_18  act_diff\n",
       "5   Colorado         1.00         0.30     -0.70\n",
       "13  Illinois         0.93         0.43     -0.50\n",
       "1     Alaska         0.65         0.33     -0.32\n",
       "22  Michigan         0.29         0.22     -0.07\n",
       "9    Florida         0.73         0.66     -0.07"
      ]
     },
     "execution_count": 49,
     "metadata": {},
     "output_type": "execute_result"
    }
   ],
   "source": [
    "#To find out which ACT states declined rapidly\n",
    "combined_part[['state','act_part_17','act_part_18','act_diff']].sort_values('act_diff',ascending=True).head()\n",
    "#Illinois, Colorado"
   ]
  },
  {
   "cell_type": "code",
   "execution_count": 50,
   "metadata": {},
   "outputs": [
    {
     "data": {
      "text/html": [
       "<div>\n",
       "<style scoped>\n",
       "    .dataframe tbody tr th:only-of-type {\n",
       "        vertical-align: middle;\n",
       "    }\n",
       "\n",
       "    .dataframe tbody tr th {\n",
       "        vertical-align: top;\n",
       "    }\n",
       "\n",
       "    .dataframe thead th {\n",
       "        text-align: right;\n",
       "    }\n",
       "</style>\n",
       "<table border=\"1\" class=\"dataframe\">\n",
       "  <thead>\n",
       "    <tr style=\"text-align: right;\">\n",
       "      <th></th>\n",
       "      <th>state</th>\n",
       "      <th>sat_part_17</th>\n",
       "      <th>sat_part_18</th>\n",
       "      <th>act_part_17</th>\n",
       "      <th>act_part_18</th>\n",
       "    </tr>\n",
       "  </thead>\n",
       "  <tbody>\n",
       "    <tr>\n",
       "      <th>37</th>\n",
       "      <td>Oregon</td>\n",
       "      <td>0.43</td>\n",
       "      <td>0.48</td>\n",
       "      <td>0.4</td>\n",
       "      <td>0.42</td>\n",
       "    </tr>\n",
       "  </tbody>\n",
       "</table>\n",
       "</div>"
      ],
      "text/plain": [
       "     state  sat_part_17  sat_part_18  act_part_17  act_part_18\n",
       "37  Oregon         0.43         0.48          0.4         0.42"
      ]
     },
     "execution_count": 50,
     "metadata": {},
     "output_type": "execute_result"
    }
   ],
   "source": [
    "#Do any states show have >50% participation on both tests either year?\n",
    "more_than_half = final[(final['sat_part_17']>0.5) & (final['sat_part_18']>0.5) & (final['act_part_17']>0.5) & (final['act_part_18']>0.5)]\n",
    "more_than_half[['state','sat_part_17','sat_part_18','act_part_17','act_part_18']]\n",
    "#Yes. Florida, Georgia, Hawaii\n",
    "\n",
    "#Any states with less than half for both years\n",
    "less_than_half = final[(final['sat_part_17']<0.5) & (final['sat_part_18']<0.5) & (final['act_part_17']<0.5) & (final['act_part_18']<0.5)]\n",
    "less_than_half[['state','sat_part_17','sat_part_18','act_part_17','act_part_18']]\n",
    "#Oregon"
   ]
  },
  {
   "cell_type": "code",
   "execution_count": 51,
   "metadata": {},
   "outputs": [],
   "source": [
    "#Hugest shift SAT :                     Illinois and Colorado\n",
    "#Both test more than 50% in both years: Florida, Georgia, Hawaii\n",
    "#Both test less than 50% in both years: Oregon"
   ]
  },
  {
   "cell_type": "code",
   "execution_count": 52,
   "metadata": {},
   "outputs": [],
   "source": [
    "#including some outside research for the conclusion below\n",
    "#importing an extended database with 2017 GDP per capita by US states 2018\n",
    "final_plus = pd.read_csv('../data/final_plus.csv')"
   ]
  },
  {
   "cell_type": "code",
   "execution_count": 53,
   "metadata": {
    "scrolled": true
   },
   "outputs": [
    {
     "data": {
      "text/plain": [
       "Text(0, 0.5, 'GDP Per Capita 2018')"
      ]
     },
     "execution_count": 53,
     "metadata": {},
     "output_type": "execute_result"
    },
    {
     "data": {
      "image/png": "[encoded data removed]",
      "text/plain": [
       "<Figure size 720x720 with 1 Axes>"
      ]
     },
     "metadata": {
      "needs_background": "light"
     },
     "output_type": "display_data"
    }
   ],
   "source": [
    "#Scatterplot for GDP per capita 2018 vs SAT Total score 2018\n",
    "fig = plt.figure(figsize=(10,10))\n",
    "plt.scatter(final_plus['sat_total_18'], final_plus['gdp_per_captial'] , c = 'Red')\n",
    "plt.title('Scatterplot for GDP per capita 2018 vs SAT Total score 2018',fontsize = 20)\n",
    "plt.xlabel('SAT Total 2018', fontsize = 16)\n",
    "plt.ylabel('GDP Per Capita 2018', fontsize= 16)"
   ]
  },
  {
   "cell_type": "code",
   "execution_count": 54,
   "metadata": {},
   "outputs": [],
   "source": [
    "final_plus.drop('Unnamed: 0', axis=1, inplace=True)\n",
    "final_plus.drop(8, axis=0, inplace=True)\n",
    "#dropping outlier row in this file to test this again."
   ]
  },
  {
   "cell_type": "code",
   "execution_count": 55,
   "metadata": {
    "scrolled": false
   },
   "outputs": [
    {
     "data": {
      "text/plain": [
       "Text(0, 0.5, 'GDP Per Capita 2018')"
      ]
     },
     "execution_count": 55,
     "metadata": {},
     "output_type": "execute_result"
    },
    {
     "data": {
      "image/png": "[encoded data removed]",
      "text/plain": [
       "<Figure size 720x720 with 1 Axes>"
      ]
     },
     "metadata": {
      "needs_background": "light"
     },
     "output_type": "display_data"
    }
   ],
   "source": [
    "#Scatterplot for GDP per capita 2018 vs SAT Total score 2018\n",
    "fig = plt.figure(figsize=(10,10))\n",
    "plt.scatter(final_plus['sat_total_18'], final_plus['gdp_per_captial'] , c = 'Red')\n",
    "plt.title('Scatterplot for GDP per capita 2018 vs SAT Total score 2018',fontsize = 20)\n",
    "plt.xlabel('SAT Total 2018', fontsize = 16)\n",
    "plt.ylabel('GDP Per Capita 2018', fontsize= 16)"
   ]
  },
  {
   "cell_type": "code",
   "execution_count": 56,
   "metadata": {
    "scrolled": false
   },
   "outputs": [
    {
     "data": {
      "text/plain": [
       "Text(0, 0.5, 'GDP Per Capita 2018')"
      ]
     },
     "execution_count": 56,
     "metadata": {},
     "output_type": "execute_result"
    },
    {
     "data": {
      "image/png": "[encoded data removed]",
      "text/plain": [
       "<Figure size 720x720 with 1 Axes>"
      ]
     },
     "metadata": {
      "needs_background": "light"
     },
     "output_type": "display_data"
    }
   ],
   "source": [
    "#Scatterplot for GDP per capita 2018 vs ACT Composite score 2018\n",
    "fig = plt.figure(figsize=(10,10))\n",
    "plt.scatter(final_plus['act_comp_18'], final_plus['gdp_per_captial'] , c = 'Green')\n",
    "plt.title('Scatterplot for GDP per capita 2018 vs ACT COmposite score 2018',fontsize = 20)\n",
    "plt.xlabel('ACT Composite Score 2018', fontsize = 16)\n",
    "plt.ylabel('GDP Per Capita 2018', fontsize= 16)"
   ]
  },
  {
   "cell_type": "markdown",
   "metadata": {},
   "source": [
    "Based on the analysis below, here are the 3 states of interest:\n",
    "    \n",
    "*Illinois*, a state where ACT participation declined drastically from 100% to 30%.\n",
    "This is due to the colleage board winnng a $14.3m bid to give it's exam to all public high school graduates.[1]\n",
    "\n",
    "*Florida*, a state where there are more than 50% of participants from both test papers.\n",
    "Florida has their own \"Florida Standards Assessments\" which is deemed to be more difficult than both papers\n",
    "and hence there are no policies for students to take either SAT or ACT.[2]\n",
    "\n",
    "Given the fact that most colleges and universities uses either SAT or ACT as an entry requirement, it would be\n",
    "advantages for students of Florida to take either or both papers since it is deemed easier than Florida Standard\n",
    "Assessments and also helps them applies for schools outside of Florida.[3]\n",
    "\n",
    "\n",
    "*Oregon*, a state where there are less than 50% of participants from both test papers.\n",
    "In general, Oregon has a relatively low GDP per capita, and it has been linked with low test results in this state.\n",
    "Preliminary research suggest that the population there less likely to enter colleges and universities.[4][5]\n",
    "\n",
    "Although unconclusive, GDP per capita seems to correlate strongly with ACT Composite scores but not with SAT scores.\n",
    "(From further plots and research above)\n",
    "\n",
    "In addition, policies from each state will determine which paper has higher participation in the state:[6]\n",
    "\n",
    "There are 11 states that require the ACT:\n",
    "Alabama, \n",
    "Hawaii, \n",
    "Kentucky, \n",
    "Mississippi, \n",
    "Montana, \n",
    "Nebraska, \n",
    "Nevada, \n",
    "North Carolina, \n",
    "Utah, \n",
    "Wisconsin, \n",
    "Wyoming \n",
    "\n",
    "And there are 10 states/regions that require the SAT:\n",
    "Colorado, \n",
    "Connecticut, \n",
    "Delaware, \n",
    "District of Columbia, \n",
    "Illinois, \n",
    "Maine, \n",
    "Michigan, \n",
    "New Hampshire, \n",
    "Rhode Island, \n",
    "West Virginia \n",
    "\n",
    "\n",
    "\n",
    "Sources:\n",
    "\n",
    "[1]https://www.chicagotribune.com/news/ct-illinois-chooses-sat-met-20160211-story.html\n",
    "\n",
    "[2]https://www.orlandosentinel.com/news/education/os-act-sat-fsa-florida-tests-20180104-story.html\n",
    "\n",
    "[3]https://www.nytimes.com/2013/08/04/education/edlife/more-students-are-taking-both-the-act-and-sat.html\n",
    "\n",
    "[4]https://www.opb.org/news/article/oregon-schools-students-test-scores-2018-2017/\n",
    "\n",
    "[5]https://en.wikipedia.org/wiki/List_of_U.S._states_by_GDP_per_capita#Map\n",
    "\n",
    "[6]https://blog.prepscholar.com/act-vs-sat"
   ]
  },
  {
   "cell_type": "markdown",
   "metadata": {},
   "source": [
    "## Conclusions and Recommendations"
   ]
  },
  {
   "cell_type": "markdown",
   "metadata": {},
   "source": [
    "Based on your exploration of the data, what are you key takeaways and recommendations? Choose one state with a lower participation rate and provide a suggestion for how the College Board might increase participation amongst graduating seniors in this state. Are there additional data you desire that would better inform your investigations?"
   ]
  },
  {
   "cell_type": "markdown",
   "metadata": {},
   "source": [
    "Key takeaways:\n",
    "1. Participation rates between the two tests are negatively correlated. A high participation score for one test \n",
    "in a state is likely to result in low participation in another test.\n",
    "\n",
    "2. Stronghold states for a test is likely due to a government policy and it is unlikely to be changed in the \n",
    "short term.\n",
    "\n",
    "3. Scores are slightly negatively correlated with participation rates. The higher average scores are derived from\n",
    "lower participation rates from each state for both tests.\n",
    "\n",
    "Recommendations:\n",
    "1. Target recommendation: Alaska\n",
    "2. From 17 to 18: ACT participation dropped from 65% to 33%, however SAT increased from 38% to 43%\n",
    "3. Alaska has high school test called PEAKS but there isnt any exit exam,\n",
    "the College Board will then be able to enter and promote the test by:[1]\n",
    "\n",
    "    a) Showing that elite school students usually take SAT [2]\n",
    "    \n",
    "    b) SAT is arguably better than ACT [3]\n",
    "    \n",
    "    c) SAT's growing presence in the West coast makes SAT more relevant\n",
    "    \n",
    "\n",
    "Source:\n",
    "[1]https://www.edweek.org/ew/section/multimedia/states-require-students-take-sat-or-act.html\n",
    "\n",
    "[2]https://archive.nytimes.com/www.nytimes.com/interactive/2013/08/04/education/edlife/where-the-sat-and-act-dominate.html\n",
    "\n",
    "[3]https://www.studyusa.com/en/a/1305/act-vs-sat-ultimate-guide-to-choosing-the-right-test"
   ]
  },
  {
   "cell_type": "code",
   "execution_count": 57,
   "metadata": {
    "scrolled": false
   },
   "outputs": [
    {
     "name": "stdout",
     "output_type": "stream",
     "text": [
      "state           Alaska\n",
      "sat_part_17       0.38\n",
      "sat_part_18       0.43\n",
      "sat_eng_17         547\n",
      "sat_eng_18         562\n",
      "sat_math_17        533\n",
      "sat_math_18        544\n",
      "sat_total_17      1080\n",
      "sat_total_18      1106\n",
      "act_part_17       0.65\n",
      "act_part_18       0.33\n",
      "act_eng_17        18.7\n",
      "act_eng_18        19.8\n",
      "act_math_17       19.8\n",
      "act_math_18       20.6\n",
      "act_read_17       20.4\n",
      "act_read_18       21.6\n",
      "act_sci_17        19.9\n",
      "act_sci_18        20.7\n",
      "act_comp_17       19.8\n",
      "act_comp_18       20.8\n",
      "Name: 1, dtype: object\n"
     ]
    }
   ],
   "source": [
    "print(final.iloc[1,:])"
   ]
  },
  {
   "cell_type": "code",
   "execution_count": 58,
   "metadata": {},
   "outputs": [
    {
     "data": {
      "text/plain": [
       "Text(0, 0.5, 'GDP Per Capita 2018')"
      ]
     },
     "execution_count": 58,
     "metadata": {},
     "output_type": "execute_result"
    },
    {
     "data": {
      "image/png": "[encoded data removed]",
      "text/plain": [
       "<Figure size 576x576 with 1 Axes>"
      ]
     },
     "metadata": {
      "needs_background": "light"
     },
     "output_type": "display_data"
    }
   ],
   "source": [
    "#Scatterplot for GDP per capita 2018 vs SAT Participation 2018\n",
    "fig = plt.figure(figsize=(8,8))\n",
    "plt.scatter(final_plus['sat_part_18'], final_plus['gdp_per_captial'] , c = 'Red')\n",
    "plt.title('Scatterplot for GDP per capita 2018 vs SAT Participation 2018',fontsize = 16)\n",
    "plt.xlabel('SAT Participation 2018', fontsize = 14)\n",
    "plt.ylabel('GDP Per Capita 2018', fontsize= 14)"
   ]
  }
 ],
 "metadata": {
  "anaconda-cloud": {},
  "kernelspec": {
   "display_name": "Python 3",
   "language": "python",
   "name": "python3"
  },
  "language_info": {
   "codemirror_mode": {
    "name": "ipython",
    "version": 3
   },
   "file_extension": ".py",
   "mimetype": "text/x-python",
   "name": "python",
   "nbconvert_exporter": "python",
   "pygments_lexer": "ipython3",
   "version": "3.7.3"
  }
 },
 "nbformat": 4,
 "nbformat_minor": 2
}
