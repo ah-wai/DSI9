{
 "cells": [
  {
   "cell_type": "markdown",
   "metadata": {},
   "source": [
    "# Classifying posts into the different threads based on titles on Reddit (Natural language processing - NLP)\n",
    "\n",
    "## Problem Statement:\n",
    "Social media landscape in the world today are filled with consumer feedbacks within their own social media pages\n",
    "or forums. If brands wish to take consumer sentiments outside of their own brand page or to deep dive into\n",
    "their competitors brand \"health\" from the eyes of the consumer, this tool (while still in it's prototype phase) will help you to segregate these posts into the respective brands.\n",
    "\n",
    "## Objective:\n",
    "We will be investigating two supermarket chains in the US, Kroger and Publix to see if our model is able to\n",
    "classify the posts accurately into the respective brands based on the text in their titles.\n",
    "\n",
    "\n",
    "## Methodology:\n",
    "We are focused on Reddit as our practice API this round but in reality, with some minor tweaks, it should work on most\n",
    "platforms. Due to Reddit constraints, we will only collect up to 1000 unique titles from Reddit as our database to\n",
    "work with.\n",
    "\n",
    "We have used two different language processing methods to trial (1 with \"\"\"SpaCy\"\"\" and another with TFIDF vectorizer),\n",
    "in addition, we also used two different models in this classification project (NaiveBayes and LogisticRegression)\n",
    "\n",
    "## Constrains:\n",
    "Within Reddit, some posts are pictorial based (such as gif or memes) and hence a pure text classification will not be \n",
    "completely useful.\n",
    "           \n",
    "We were also not able to get the location of the post which will help us determine which supermarket is within the city\n",
    "or neighborhood\n",
    "           \n",
    "As with any NLP, the challenge is to decode abbreviations or potential spelling errors.\n",
    "\n",
    "## Materials: \n",
    "\n",
    "   ### 1. Data:\n",
    "   The raw csv files are within this folder.\n",
    "   \n",
    "|File name | Description                                     |\n",
    "|----------|-------------------------------------------------|\n",
    "|df_k.csv  | Raw Data from Reddit Kroger                     |\n",
    "|df_p.csv  | Raw Data from Reddit Publix                     |\n",
    "|final.csv | Combined and cleaned data from Kroger and Publix|\n",
    "    \n",
    "   ### 2. Notebooks\n",
    "   The project details and codes are within this folder where we store the codes for\n",
    "   scraping, pre-processing, modelling and analysis \n",
    "   \n",
    "|File name    |   Description                                                                                       |\n",
    "|-------------|-----------------------------------------------------------------------------------------------------|\n",
    "|Project 3.1  | Data scraping from Reddit                                                                           |\n",
    "|Project 3.2  |Pre-processing, modelling and analysis, method 1 SpaCy(pre-processing), NaiveBayes and LogisticRegression (modelling)|\n",
    "|Project 3.3  | Pre-processing, modelling and analysis, method 2 TFDIF vectoriser(pre-processing), NaiveBayes and   LogisticRegression (modelling)|\n",
    "|Project 3.4  | Pre-processing, modelling and analysis, method 3 TFDIF vectoriser(pre-processing), NaiveBayes and   RandomForest (modelling)|\n",
    "\n",
    "   ### 3. Presentation slides\n",
    "   Short presentation on the topic (here)\n",
    "      \n",
    "References:<br>\n",
    "https://www.reddit.com/r/kroger/ <br>\n",
    "https://www.reddit.com/r/publix/ <br>\n",
    "https://www.youtube.com/watch?v=5Y3ZE26Ciuk"
   ]
  },
  {
   "cell_type": "code",
   "execution_count": null,
   "metadata": {},
   "outputs": [],
   "source": []
  },
  {
   "cell_type": "code",
   "execution_count": null,
   "metadata": {},
   "outputs": [],
   "source": []
  }
 ],
 "metadata": {
  "kernelspec": {
   "display_name": "Python 3",
   "language": "python",
   "name": "python3"
  },
  "language_info": {
   "codemirror_mode": {
    "name": "ipython",
    "version": 3
   },
   "file_extension": ".py",
   "mimetype": "text/x-python",
   "name": "python",
   "nbconvert_exporter": "python",
   "pygments_lexer": "ipython3",
   "version": "3.7.3"
  }
 },
 "nbformat": 4,
 "nbformat_minor": 2
}
