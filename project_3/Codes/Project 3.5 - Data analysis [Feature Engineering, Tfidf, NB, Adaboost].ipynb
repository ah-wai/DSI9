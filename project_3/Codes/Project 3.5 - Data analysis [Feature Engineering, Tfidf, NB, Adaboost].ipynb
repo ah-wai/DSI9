{
 "cells": [
  {
   "cell_type": "code",
   "execution_count": 1,
   "metadata": {},
   "outputs": [],
   "source": [
    "#Using the data that was scraped from the previous notebook,\n",
    "#instead of using spaCy, we will analyse the data using TFIDF Vectorizer\n",
    "#and run our model via NaiveBayes and Adaboost to compare the models"
   ]
  },
  {
   "cell_type": "code",
   "execution_count": 2,
   "metadata": {},
   "outputs": [],
   "source": [
    "import pandas as pd\n",
    "import numpy as np"
   ]
  },
  {
   "cell_type": "code",
   "execution_count": 3,
   "metadata": {},
   "outputs": [],
   "source": [
    "from sklearn.feature_extraction.text import TfidfVectorizer"
   ]
  },
  {
   "cell_type": "code",
   "execution_count": 4,
   "metadata": {},
   "outputs": [],
   "source": [
    "final = pd.read_csv('../Datasets/final.csv')"
   ]
  },
  {
   "cell_type": "code",
   "execution_count": 5,
   "metadata": {},
   "outputs": [
    {
     "data": {
      "text/plain": [
       "(1988, 2)"
      ]
     },
     "execution_count": 5,
     "metadata": {},
     "output_type": "execute_result"
    }
   ],
   "source": [
    "final.shape"
   ]
  },
  {
   "cell_type": "code",
   "execution_count": 6,
   "metadata": {},
   "outputs": [
    {
     "data": {
      "text/html": [
       "<div>\n",
       "<style scoped>\n",
       "    .dataframe tbody tr th:only-of-type {\n",
       "        vertical-align: middle;\n",
       "    }\n",
       "\n",
       "    .dataframe tbody tr th {\n",
       "        vertical-align: top;\n",
       "    }\n",
       "\n",
       "    .dataframe thead th {\n",
       "        text-align: right;\n",
       "    }\n",
       "</style>\n",
       "<table border=\"1\" class=\"dataframe\">\n",
       "  <thead>\n",
       "    <tr style=\"text-align: right;\">\n",
       "      <th></th>\n",
       "      <th>text</th>\n",
       "      <th>target</th>\n",
       "    </tr>\n",
       "  </thead>\n",
       "  <tbody>\n",
       "    <tr>\n",
       "      <th>0</th>\n",
       "      <td>Welcome to Kroger Join our community Discord s...</td>\n",
       "      <td>Kroger</td>\n",
       "    </tr>\n",
       "    <tr>\n",
       "      <th>1</th>\n",
       "      <td>/r/kroger Renovation</td>\n",
       "      <td>Kroger</td>\n",
       "    </tr>\n",
       "    <tr>\n",
       "      <th>2</th>\n",
       "      <td>This is fine.</td>\n",
       "      <td>Kroger</td>\n",
       "    </tr>\n",
       "    <tr>\n",
       "      <th>3</th>\n",
       "      <td>Thats just a fact</td>\n",
       "      <td>Kroger</td>\n",
       "    </tr>\n",
       "    <tr>\n",
       "      <th>4</th>\n",
       "      <td>When you just get to work and your boss immedi...</td>\n",
       "      <td>Kroger</td>\n",
       "    </tr>\n",
       "  </tbody>\n",
       "</table>\n",
       "</div>"
      ],
      "text/plain": [
       "                                                text  target\n",
       "0  Welcome to Kroger Join our community Discord s...  Kroger\n",
       "1                               /r/kroger Renovation  Kroger\n",
       "2                                      This is fine.  Kroger\n",
       "3                                  Thats just a fact  Kroger\n",
       "4  When you just get to work and your boss immedi...  Kroger"
      ]
     },
     "execution_count": 6,
     "metadata": {},
     "output_type": "execute_result"
    }
   ],
   "source": [
    "final.head(5)"
   ]
  },
  {
   "cell_type": "markdown",
   "metadata": {},
   "source": [
    "## First we change our target to binary"
   ]
  },
  {
   "cell_type": "code",
   "execution_count": 7,
   "metadata": {},
   "outputs": [],
   "source": [
    "#1 = Kroger, 0 = Publix\n",
    "final['target'] = final['target'].map(lambda x: 1 if x == 'Kroger' else 0)"
   ]
  },
  {
   "cell_type": "markdown",
   "metadata": {},
   "source": [
    "## Then we will start by starting some features"
   ]
  },
  {
   "cell_type": "code",
   "execution_count": 8,
   "metadata": {},
   "outputs": [],
   "source": [
    "#Adding a few new features: \n",
    "# 1. word count\n",
    "# 2. number of characters\n",
    "# 3. average word count\n",
    "# 4. stop word count\n",
    "# 5. number of hastags\n",
    "# 6. number of numerics\n",
    "# 7. number of upper cased words\n",
    "\n",
    "\n",
    "final['word_count'] = final['text'].apply(lambda x: len(str(x).split(\" \")))\n",
    "final['char_count'] = final['text'].str.len()\n",
    "\n",
    "def avg_word(sentence):\n",
    "  words = sentence.split()\n",
    "  return (sum(len(word) for word in words)/len(words))\n",
    "final['avg_word'] = final['text'].apply(lambda x: avg_word(x))\n",
    "\n",
    "from nltk.corpus import stopwords\n",
    "stop = stopwords.words('english')\n",
    "final['stopwords'] = final['text'].apply(lambda x: len([x for x in x.split() if x in stop]))\n",
    "\n",
    "final['hastags'] = final['text'].apply(lambda x: len([x for x in x.split() if x.startswith('#')]))\n",
    "final['numerics'] = final['text'].apply(lambda x: len([x for x in x.split() if x.isdigit()]))\n",
    "final['upper'] = final['text'].apply(lambda x: len([x for x in x.split() if x.isupper()]))"
   ]
  },
  {
   "cell_type": "markdown",
   "metadata": {},
   "source": [
    "### Next we will preprocess the words accordingly"
   ]
  },
  {
   "cell_type": "code",
   "execution_count": 9,
   "metadata": {},
   "outputs": [],
   "source": [
    "#Part two: Preprocessing the words\n",
    "#1. change all to lower case\n",
    "#2. remove punctuation \n",
    "#3. remove stop words\n",
    "\n",
    "final['text'] = final['text'].apply(lambda x: \" \".join(x.lower() for x in x.split()))\n",
    "final['text'] = final['text'].str.replace('[^\\w\\s/r/!.#$@%*)(]','')\n",
    "final['text'] = final['text'].apply(lambda x: \" \".join(x for x in x.split() if x not in stop))"
   ]
  },
  {
   "cell_type": "code",
   "execution_count": 10,
   "metadata": {},
   "outputs": [],
   "source": [
    "#Now to remove frequently appeared words since they won't help us in our analysis\n",
    "\n",
    "freq = pd.Series(' '.join(final['text']).split()).value_counts()[:10]\n",
    "freq\n",
    "\n",
    "freq = list(freq.index)\n",
    "final['text'] = final['text'].apply(lambda x: \" \".join(x for x in x.split() if x not in freq))"
   ]
  },
  {
   "cell_type": "code",
   "execution_count": 11,
   "metadata": {
    "scrolled": true
   },
   "outputs": [],
   "source": [
    "#And also to remove rare words since they are just noise\n",
    "freq_low = pd.Series(' '.join(final['text']).split()).value_counts()[-10:]\n",
    "freq_low\n",
    "\n",
    "freq_low = list(freq_low.index)\n",
    "final['text'] = final['text'].apply(lambda x: \" \".join(x for x in x.split() if x not in freq_low))"
   ]
  },
  {
   "cell_type": "code",
   "execution_count": 12,
   "metadata": {},
   "outputs": [],
   "source": [
    "#Next it is to stem our words\n",
    "\n",
    "from nltk.stem import PorterStemmer\n",
    "st = PorterStemmer()\n",
    "final['text'] = final['text'].apply(lambda x: \" \".join([st.stem(word) for word in x.split()]))"
   ]
  },
  {
   "cell_type": "markdown",
   "metadata": {},
   "source": [
    "## We will then proceed to extract features using NLP techniques with TFIDF vectorizer"
   ]
  },
  {
   "cell_type": "code",
   "execution_count": 13,
   "metadata": {
    "scrolled": true
   },
   "outputs": [],
   "source": [
    "#, max_features=1000\n",
    "tvec = TfidfVectorizer(stop_words='english')\n",
    "tvec_ft = tvec.fit_transform(final.text)"
   ]
  },
  {
   "cell_type": "code",
   "execution_count": 14,
   "metadata": {
    "scrolled": false
   },
   "outputs": [
    {
     "name": "stderr",
     "output_type": "stream",
     "text": [
      "/anaconda3/lib/python3.7/site-packages/sklearn/preprocessing/data.py:645: DataConversionWarning: Data with input dtype int64, float64 were all converted to float64 by StandardScaler.\n",
      "  return self.partial_fit(X, y)\n",
      "/anaconda3/lib/python3.7/site-packages/sklearn/base.py:464: DataConversionWarning: Data with input dtype int64, float64 were all converted to float64 by StandardScaler.\n",
      "  return self.fit(X, **fit_params).transform(X)\n"
     ]
    }
   ],
   "source": [
    "from sklearn.preprocessing import StandardScaler\n",
    "X1 = pd.DataFrame(tvec_ft.todense(),\n",
    "                   columns=tvec.get_feature_names())\n",
    "X2 = final.iloc[:,2:]\n",
    "\n",
    "X = pd.concat([X1,X2] ,axis=1)\n",
    "y = final.target\n",
    "\n",
    "ss = StandardScaler()\n",
    "Xs = ss.fit_transform(X)"
   ]
  },
  {
   "cell_type": "code",
   "execution_count": 15,
   "metadata": {},
   "outputs": [],
   "source": [
    "from sklearn.model_selection import train_test_split\n",
    "\n",
    "X_train, X_test, y_train, y_test = train_test_split(Xs,\n",
    "                                                    y,\n",
    "                                                    test_size=0.25,\n",
    "                                                    random_state=40,\n",
    "                                                    stratify=y)"
   ]
  },
  {
   "cell_type": "markdown",
   "metadata": {},
   "source": [
    "## We will start with our first model: Gaussian NB"
   ]
  },
  {
   "cell_type": "code",
   "execution_count": 16,
   "metadata": {},
   "outputs": [],
   "source": [
    "from sklearn.naive_bayes import GaussianNB\n",
    "nb = GaussianNB()"
   ]
  },
  {
   "cell_type": "code",
   "execution_count": 17,
   "metadata": {},
   "outputs": [],
   "source": [
    "model_nb = nb.fit(X_train,y_train)"
   ]
  },
  {
   "cell_type": "code",
   "execution_count": 18,
   "metadata": {
    "scrolled": true
   },
   "outputs": [
    {
     "data": {
      "text/plain": [
       "0.9336016096579477"
      ]
     },
     "execution_count": 18,
     "metadata": {},
     "output_type": "execute_result"
    }
   ],
   "source": [
    "# Score our model on the training set.\n",
    "model_nb.score(X_train, y_train)\n",
    "#could it be overfitting?"
   ]
  },
  {
   "cell_type": "code",
   "execution_count": 19,
   "metadata": {},
   "outputs": [
    {
     "data": {
      "text/plain": [
       "0.5893936150916017"
      ]
     },
     "execution_count": 19,
     "metadata": {},
     "output_type": "execute_result"
    }
   ],
   "source": [
    "from sklearn.model_selection import cross_val_score\n",
    "model_nb_score = cross_val_score(model_nb, X_train, y_train, cv=10).mean()\n",
    "model_nb_score"
   ]
  },
  {
   "cell_type": "code",
   "execution_count": 20,
   "metadata": {},
   "outputs": [
    {
     "data": {
      "text/plain": [
       "0.5875251509054326"
      ]
     },
     "execution_count": 20,
     "metadata": {},
     "output_type": "execute_result"
    }
   ],
   "source": [
    "#prediction score\n",
    "model_nb.score(X_test, y_test)"
   ]
  },
  {
   "cell_type": "code",
   "execution_count": 21,
   "metadata": {},
   "outputs": [],
   "source": [
    "predictions = model_nb.predict(X_test)"
   ]
  },
  {
   "cell_type": "code",
   "execution_count": 22,
   "metadata": {},
   "outputs": [
    {
     "data": {
      "text/plain": [
       "array([[135, 114],\n",
       "       [ 91, 157]])"
      ]
     },
     "execution_count": 22,
     "metadata": {},
     "output_type": "execute_result"
    }
   ],
   "source": [
    "# Import the confusion matrix function.\n",
    "from sklearn.metrics import confusion_matrix\n",
    "confusion_matrix(y_test,predictions)"
   ]
  },
  {
   "cell_type": "code",
   "execution_count": 23,
   "metadata": {},
   "outputs": [],
   "source": [
    "tn, fp, fn, tp = confusion_matrix(y_test, predictions).ravel()"
   ]
  },
  {
   "cell_type": "code",
   "execution_count": 24,
   "metadata": {},
   "outputs": [
    {
     "name": "stdout",
     "output_type": "stream",
     "text": [
      "True Negatives: 135\n",
      "False Positives: 114\n",
      "False Negatives: 91\n",
      "True Positives: 157\n",
      "\n",
      "Accuracy = 0.59\n",
      "Recall = 0.63\n",
      "Specificity = 0.54\n"
     ]
    }
   ],
   "source": [
    "print(\"True Negatives: %s\" % tn)\n",
    "print(\"False Positives: %s\" % fp)\n",
    "print(\"False Negatives: %s\" % fn)\n",
    "print(\"True Positives: %s\" % tp)\n",
    "print(\"\")\n",
    "\n",
    "#Much more balanced in terms of overall prediction\n",
    "print(\"Accuracy =\",\"{0:.2f}\".format((tp + tn)/(tn+fp+fn+tp)))\n",
    "#59% overall accuracy\n",
    "\n",
    "print(\"Recall =\",\"{0:.2f}\".format(tp/(fn+tp)))\n",
    "#correctly predicted Kroger 63% of the time\n",
    "print(\"Specificity =\",\"{0:.2f}\".format(tn/(tn+fp)))\n",
    "#correctly predicted Publix 54% of the time"
   ]
  },
  {
   "cell_type": "markdown",
   "metadata": {},
   "source": [
    "## followed by a 2nd model, AdaBoostClassifier"
   ]
  },
  {
   "cell_type": "code",
   "execution_count": 25,
   "metadata": {},
   "outputs": [
    {
     "data": {
      "text/plain": [
       "0.5744490715542447"
      ]
     },
     "execution_count": 25,
     "metadata": {},
     "output_type": "execute_result"
    }
   ],
   "source": [
    "#building a secondary model - AdaBoostClassifier\n",
    "from sklearn.ensemble import AdaBoostClassifier, GradientBoostingClassifier\n",
    "\n",
    "abc = AdaBoostClassifier(n_estimators=100, learning_rate=1.0)\n",
    "model = abc.fit(X_train, y_train)  \n",
    "\n",
    "cross_val_score(abc, X, y, cv=5).mean()"
   ]
  },
  {
   "cell_type": "markdown",
   "metadata": {},
   "source": [
    "## Warning: the following codes takes about an hour to run\n",
    "The params code was intentionally # so that it won't run"
   ]
  },
  {
   "cell_type": "code",
   "execution_count": 42,
   "metadata": {
    "scrolled": true
   },
   "outputs": [
    {
     "name": "stdout",
     "output_type": "stream",
     "text": [
      "Fitting 5 folds for each of 18 candidates, totalling 90 fits\n",
      "[Parallel(n_jobs=1)]: Using backend SequentialBackend with 1 concurrent workers.\n",
      "[CV] learning_rate=0.01, n_estimators=1000 ...........................\n",
      "[CV]  learning_rate=0.01, n_estimators=1000, score=0.5953177257525084, total=  21.1s\n",
      "[Parallel(n_jobs=1)]: Done   1 out of   1 | elapsed:   21.8s remaining:    0.0s\n",
      "[CV] learning_rate=0.01, n_estimators=1000 ...........................\n",
      "[CV]  learning_rate=0.01, n_estimators=1000, score=0.5536912751677853, total=  21.3s\n",
      "[Parallel(n_jobs=1)]: Done   2 out of   2 | elapsed:   44.0s remaining:    0.0s\n",
      "[CV] learning_rate=0.01, n_estimators=1000 ...........................\n",
      "[CV]  learning_rate=0.01, n_estimators=1000, score=0.6174496644295302, total=  22.1s\n",
      "[Parallel(n_jobs=1)]: Done   3 out of   3 | elapsed:  1.1min remaining:    0.0s\n",
      "[CV] learning_rate=0.01, n_estimators=1000 ...........................\n",
      "[CV]  learning_rate=0.01, n_estimators=1000, score=0.5604026845637584, total=  22.8s\n",
      "[Parallel(n_jobs=1)]: Done   4 out of   4 | elapsed:  1.5min remaining:    0.0s\n",
      "[CV] learning_rate=0.01, n_estimators=1000 ...........................\n",
      "[CV]  learning_rate=0.01, n_estimators=1000, score=0.6140939597315436, total=  21.5s\n",
      "[Parallel(n_jobs=1)]: Done   5 out of   5 | elapsed:  1.9min remaining:    0.0s\n",
      "[CV] learning_rate=0.01, n_estimators=1200 ...........................\n",
      "[CV]  learning_rate=0.01, n_estimators=1200, score=0.6020066889632107, total=  24.9s\n",
      "[Parallel(n_jobs=1)]: Done   6 out of   6 | elapsed:  2.3min remaining:    0.0s\n",
      "[CV] learning_rate=0.01, n_estimators=1200 ...........................\n",
      "[CV]  learning_rate=0.01, n_estimators=1200, score=0.5637583892617449, total=  25.9s\n",
      "[Parallel(n_jobs=1)]: Done   7 out of   7 | elapsed:  2.8min remaining:    0.0s\n",
      "[CV] learning_rate=0.01, n_estimators=1200 ...........................\n",
      "[CV]  learning_rate=0.01, n_estimators=1200, score=0.6208053691275168, total=  26.6s\n",
      "[Parallel(n_jobs=1)]: Done   8 out of   8 | elapsed:  3.2min remaining:    0.0s\n",
      "[CV] learning_rate=0.01, n_estimators=1200 ...........................\n",
      "[CV]  learning_rate=0.01, n_estimators=1200, score=0.5671140939597316, total=  26.5s\n",
      "[Parallel(n_jobs=1)]: Done   9 out of   9 | elapsed:  3.7min remaining:    0.0s\n",
      "[CV] learning_rate=0.01, n_estimators=1200 ...........................\n",
      "[CV]  learning_rate=0.01, n_estimators=1200, score=0.610738255033557, total=  25.6s\n",
      "[Parallel(n_jobs=1)]: Done  10 out of  10 | elapsed:  4.1min remaining:    0.0s\n",
      "[CV] learning_rate=0.01, n_estimators=1800 ...........................\n",
      "[CV]  learning_rate=0.01, n_estimators=1800, score=0.6187290969899666, total=  39.6s\n",
      "[Parallel(n_jobs=1)]: Done  11 out of  11 | elapsed:  4.8min remaining:    0.0s\n",
      "[CV] learning_rate=0.01, n_estimators=1800 ...........................\n",
      "[CV]  learning_rate=0.01, n_estimators=1800, score=0.5704697986577181, total=  40.3s\n",
      "[Parallel(n_jobs=1)]: Done  12 out of  12 | elapsed:  5.5min remaining:    0.0s\n",
      "[CV] learning_rate=0.01, n_estimators=1800 ...........................\n",
      "[CV]  learning_rate=0.01, n_estimators=1800, score=0.62751677852349, total=  38.6s\n",
      "[Parallel(n_jobs=1)]: Done  13 out of  13 | elapsed:  6.2min remaining:    0.0s\n",
      "[CV] learning_rate=0.01, n_estimators=1800 ...........................\n",
      "[CV]  learning_rate=0.01, n_estimators=1800, score=0.5604026845637584, total=  39.7s\n",
      "[Parallel(n_jobs=1)]: Done  14 out of  14 | elapsed:  6.9min remaining:    0.0s\n",
      "[CV] learning_rate=0.01, n_estimators=1800 ...........................\n",
      "[CV]  learning_rate=0.01, n_estimators=1800, score=0.5973154362416108, total=  39.7s\n",
      "[Parallel(n_jobs=1)]: Done  15 out of  15 | elapsed:  7.6min remaining:    0.0s\n",
      "[CV] learning_rate=0.01, n_estimators=2000 ...........................\n",
      "[CV]  learning_rate=0.01, n_estimators=2000, score=0.6120401337792643, total=  43.9s\n",
      "[Parallel(n_jobs=1)]: Done  16 out of  16 | elapsed:  8.3min remaining:    0.0s\n",
      "[CV] learning_rate=0.01, n_estimators=2000 ...........................\n",
      "[CV]  learning_rate=0.01, n_estimators=2000, score=0.5671140939597316, total=  43.6s\n",
      "[Parallel(n_jobs=1)]: Done  17 out of  17 | elapsed:  9.1min remaining:    0.0s\n",
      "[CV] learning_rate=0.01, n_estimators=2000 ...........................\n",
      "[CV]  learning_rate=0.01, n_estimators=2000, score=0.6174496644295302, total=  43.1s\n",
      "[Parallel(n_jobs=1)]: Done  18 out of  18 | elapsed:  9.8min remaining:    0.0s\n",
      "[CV] learning_rate=0.01, n_estimators=2000 ...........................\n",
      "[CV]  learning_rate=0.01, n_estimators=2000, score=0.5704697986577181, total=  44.1s\n",
      "[Parallel(n_jobs=1)]: Done  19 out of  19 | elapsed: 10.6min remaining:    0.0s\n",
      "[CV] learning_rate=0.01, n_estimators=2000 ...........................\n",
      "[CV]  learning_rate=0.01, n_estimators=2000, score=0.610738255033557, total=  43.8s\n",
      "[Parallel(n_jobs=1)]: Done  20 out of  20 | elapsed: 11.3min remaining:    0.0s\n",
      "[CV] learning_rate=0.01, n_estimators=2300 ...........................\n",
      "[CV]  learning_rate=0.01, n_estimators=2300, score=0.6120401337792643, total=  49.6s\n",
      "[Parallel(n_jobs=1)]: Done  21 out of  21 | elapsed: 12.2min remaining:    0.0s\n",
      "[CV] learning_rate=0.01, n_estimators=2300 ...........................\n",
      "[CV]  learning_rate=0.01, n_estimators=2300, score=0.5805369127516778, total=  50.2s\n",
      "[Parallel(n_jobs=1)]: Done  22 out of  22 | elapsed: 13.1min remaining:    0.0s\n",
      "[CV] learning_rate=0.01, n_estimators=2300 ...........................\n",
      "[CV]  learning_rate=0.01, n_estimators=2300, score=0.6241610738255033, total=  48.1s\n",
      "[Parallel(n_jobs=1)]: Done  23 out of  23 | elapsed: 13.9min remaining:    0.0s\n",
      "[CV] learning_rate=0.01, n_estimators=2300 ...........................\n",
      "[CV]  learning_rate=0.01, n_estimators=2300, score=0.5704697986577181, total=  47.0s\n",
      "[Parallel(n_jobs=1)]: Done  24 out of  24 | elapsed: 14.7min remaining:    0.0s\n",
      "[CV] learning_rate=0.01, n_estimators=2300 ...........................\n",
      "[CV]  learning_rate=0.01, n_estimators=2300, score=0.6073825503355704, total=  47.3s\n",
      "[Parallel(n_jobs=1)]: Done  25 out of  25 | elapsed: 15.5min remaining:    0.0s\n",
      "[CV] learning_rate=0.01, n_estimators=2494 ...........................\n",
      "[CV]  learning_rate=0.01, n_estimators=2494, score=0.6053511705685619, total=  50.7s\n",
      "[Parallel(n_jobs=1)]: Done  26 out of  26 | elapsed: 16.4min remaining:    0.0s\n",
      "[CV] learning_rate=0.01, n_estimators=2494 ...........................\n",
      "[CV]  learning_rate=0.01, n_estimators=2494, score=0.5838926174496645, total=  51.2s\n",
      "[Parallel(n_jobs=1)]: Done  27 out of  27 | elapsed: 17.3min remaining:    0.0s\n",
      "[CV] learning_rate=0.01, n_estimators=2494 ...........................\n",
      "[CV]  learning_rate=0.01, n_estimators=2494, score=0.62751677852349, total=  50.8s\n",
      "[Parallel(n_jobs=1)]: Done  28 out of  28 | elapsed: 18.2min remaining:    0.0s\n",
      "[CV] learning_rate=0.01, n_estimators=2494 ...........................\n",
      "[CV]  learning_rate=0.01, n_estimators=2494, score=0.5771812080536913, total=  51.1s\n",
      "[Parallel(n_jobs=1)]: Done  29 out of  29 | elapsed: 19.0min remaining:    0.0s\n",
      "[CV] learning_rate=0.01, n_estimators=2494 ...........................\n",
      "[CV]  learning_rate=0.01, n_estimators=2494, score=0.6006711409395973, total=  50.9s\n",
      "[Parallel(n_jobs=1)]: Done  30 out of  30 | elapsed: 19.9min remaining:    0.0s\n",
      "[CV] learning_rate=0.1, n_estimators=1000 ............................\n",
      "[CV]  learning_rate=0.1, n_estimators=1000, score=0.6321070234113713, total=  20.5s\n",
      "[Parallel(n_jobs=1)]: Done  31 out of  31 | elapsed: 20.3min remaining:    0.0s\n",
      "[CV] learning_rate=0.1, n_estimators=1000 ............................\n",
      "[CV]  learning_rate=0.1, n_estimators=1000, score=0.5939597315436241, total=  21.4s\n",
      "[Parallel(n_jobs=1)]: Done  32 out of  32 | elapsed: 20.6min remaining:    0.0s\n",
      "[CV] learning_rate=0.1, n_estimators=1000 ............................\n",
      "[CV]  learning_rate=0.1, n_estimators=1000, score=0.6140939597315436, total=  20.4s\n",
      "[Parallel(n_jobs=1)]: Done  33 out of  33 | elapsed: 21.0min remaining:    0.0s\n",
      "[CV] learning_rate=0.1, n_estimators=1000 ............................\n",
      "[CV]  learning_rate=0.1, n_estimators=1000, score=0.5838926174496645, total=  20.4s\n",
      "[Parallel(n_jobs=1)]: Done  34 out of  34 | elapsed: 21.4min remaining:    0.0s\n",
      "[CV] learning_rate=0.1, n_estimators=1000 ............................\n"
     ]
    },
    {
     "name": "stdout",
     "output_type": "stream",
     "text": [
      "[CV]  learning_rate=0.1, n_estimators=1000, score=0.6208053691275168, total=  20.4s\n",
      "[Parallel(n_jobs=1)]: Done  35 out of  35 | elapsed: 21.7min remaining:    0.0s\n",
      "[CV] learning_rate=0.1, n_estimators=1200 ............................\n",
      "[CV]  learning_rate=0.1, n_estimators=1200, score=0.6187290969899666, total=  24.5s\n",
      "[Parallel(n_jobs=1)]: Done  36 out of  36 | elapsed: 22.1min remaining:    0.0s\n",
      "[CV] learning_rate=0.1, n_estimators=1200 ............................\n",
      "[CV]  learning_rate=0.1, n_estimators=1200, score=0.6073825503355704, total=  24.6s\n",
      "[Parallel(n_jobs=1)]: Done  37 out of  37 | elapsed: 22.6min remaining:    0.0s\n",
      "[CV] learning_rate=0.1, n_estimators=1200 ............................\n",
      "[CV]  learning_rate=0.1, n_estimators=1200, score=0.6208053691275168, total=  24.5s\n",
      "[Parallel(n_jobs=1)]: Done  38 out of  38 | elapsed: 23.0min remaining:    0.0s\n",
      "[CV] learning_rate=0.1, n_estimators=1200 ............................\n",
      "[CV]  learning_rate=0.1, n_estimators=1200, score=0.5906040268456376, total=  24.6s\n",
      "[Parallel(n_jobs=1)]: Done  39 out of  39 | elapsed: 23.4min remaining:    0.0s\n",
      "[CV] learning_rate=0.1, n_estimators=1200 ............................\n",
      "[CV]  learning_rate=0.1, n_estimators=1200, score=0.610738255033557, total=  24.6s\n",
      "[Parallel(n_jobs=1)]: Done  40 out of  40 | elapsed: 23.8min remaining:    0.0s\n",
      "[CV] learning_rate=0.1, n_estimators=1800 ............................\n",
      "[CV]  learning_rate=0.1, n_estimators=1800, score=0.5986622073578596, total=  36.7s\n",
      "[Parallel(n_jobs=1)]: Done  41 out of  41 | elapsed: 24.5min remaining:    0.0s\n",
      "[CV] learning_rate=0.1, n_estimators=1800 ............................\n",
      "[CV]  learning_rate=0.1, n_estimators=1800, score=0.587248322147651, total=  31.1s\n",
      "[Parallel(n_jobs=1)]: Done  42 out of  42 | elapsed: 25.0min remaining:    0.0s\n",
      "[CV] learning_rate=0.1, n_estimators=1800 ............................\n",
      "[CV]  learning_rate=0.1, n_estimators=1800, score=0.6073825503355704, total=  30.5s\n",
      "[Parallel(n_jobs=1)]: Done  43 out of  43 | elapsed: 25.5min remaining:    0.0s\n",
      "[CV] learning_rate=0.1, n_estimators=1800 ............................\n",
      "[CV]  learning_rate=0.1, n_estimators=1800, score=0.587248322147651, total=  37.8s\n",
      "[Parallel(n_jobs=1)]: Done  44 out of  44 | elapsed: 26.2min remaining:    0.0s\n",
      "[CV] learning_rate=0.1, n_estimators=1800 ............................\n",
      "[CV]  learning_rate=0.1, n_estimators=1800, score=0.5805369127516778, total=  36.9s\n",
      "[Parallel(n_jobs=1)]: Done  45 out of  45 | elapsed: 26.8min remaining:    0.0s\n",
      "[CV] learning_rate=0.1, n_estimators=2000 ............................\n",
      "[CV]  learning_rate=0.1, n_estimators=2000, score=0.6254180602006689, total=  40.8s\n",
      "[Parallel(n_jobs=1)]: Done  46 out of  46 | elapsed: 27.5min remaining:    0.0s\n",
      "[CV] learning_rate=0.1, n_estimators=2000 ............................\n",
      "[CV]  learning_rate=0.1, n_estimators=2000, score=0.5973154362416108, total=  41.0s\n",
      "[Parallel(n_jobs=1)]: Done  47 out of  47 | elapsed: 28.2min remaining:    0.0s\n",
      "[CV] learning_rate=0.1, n_estimators=2000 ............................\n",
      "[CV]  learning_rate=0.1, n_estimators=2000, score=0.610738255033557, total=  40.8s\n",
      "[Parallel(n_jobs=1)]: Done  48 out of  48 | elapsed: 28.9min remaining:    0.0s\n",
      "[CV] learning_rate=0.1, n_estimators=2000 ............................\n",
      "[CV]  learning_rate=0.1, n_estimators=2000, score=0.587248322147651, total=  41.2s\n",
      "[Parallel(n_jobs=1)]: Done  49 out of  49 | elapsed: 29.6min remaining:    0.0s\n",
      "[CV] learning_rate=0.1, n_estimators=2000 ............................\n",
      "[CV]  learning_rate=0.1, n_estimators=2000, score=0.5604026845637584, total=  40.9s\n",
      "[Parallel(n_jobs=1)]: Done  50 out of  50 | elapsed: 30.4min remaining:    0.0s\n",
      "[CV] learning_rate=0.1, n_estimators=2300 ............................\n",
      "[CV]  learning_rate=0.1, n_estimators=2300, score=0.6187290969899666, total=  46.8s\n",
      "[Parallel(n_jobs=1)]: Done  51 out of  51 | elapsed: 31.2min remaining:    0.0s\n",
      "[CV] learning_rate=0.1, n_estimators=2300 ............................\n",
      "[CV]  learning_rate=0.1, n_estimators=2300, score=0.5805369127516778, total=  47.0s\n",
      "[Parallel(n_jobs=1)]: Done  52 out of  52 | elapsed: 32.0min remaining:    0.0s\n",
      "[CV] learning_rate=0.1, n_estimators=2300 ............................\n",
      "[CV]  learning_rate=0.1, n_estimators=2300, score=0.6308724832214765, total=  46.8s\n",
      "[Parallel(n_jobs=1)]: Done  53 out of  53 | elapsed: 32.8min remaining:    0.0s\n",
      "[CV] learning_rate=0.1, n_estimators=2300 ............................\n",
      "[CV]  learning_rate=0.1, n_estimators=2300, score=0.5838926174496645, total=  47.1s\n",
      "[Parallel(n_jobs=1)]: Done  54 out of  54 | elapsed: 33.6min remaining:    0.0s\n",
      "[CV] learning_rate=0.1, n_estimators=2300 ............................\n",
      "[CV]  learning_rate=0.1, n_estimators=2300, score=0.5906040268456376, total=  47.0s\n",
      "[Parallel(n_jobs=1)]: Done  55 out of  55 | elapsed: 34.4min remaining:    0.0s\n",
      "[CV] learning_rate=0.1, n_estimators=2494 ............................\n",
      "[CV]  learning_rate=0.1, n_estimators=2494, score=0.6053511705685619, total=  50.9s\n",
      "[Parallel(n_jobs=1)]: Done  56 out of  56 | elapsed: 35.3min remaining:    0.0s\n",
      "[CV] learning_rate=0.1, n_estimators=2494 ............................\n",
      "[CV]  learning_rate=0.1, n_estimators=2494, score=0.6073825503355704, total=  50.9s\n",
      "[Parallel(n_jobs=1)]: Done  57 out of  57 | elapsed: 36.2min remaining:    0.0s\n",
      "[CV] learning_rate=0.1, n_estimators=2494 ............................\n",
      "[CV]  learning_rate=0.1, n_estimators=2494, score=0.6174496644295302, total=  50.9s\n",
      "[Parallel(n_jobs=1)]: Done  58 out of  58 | elapsed: 37.0min remaining:    0.0s\n",
      "[CV] learning_rate=0.1, n_estimators=2494 ............................\n",
      "[CV]  learning_rate=0.1, n_estimators=2494, score=0.5838926174496645, total=  51.2s\n",
      "[Parallel(n_jobs=1)]: Done  59 out of  59 | elapsed: 37.9min remaining:    0.0s\n",
      "[CV] learning_rate=0.1, n_estimators=2494 ............................\n",
      "[CV]  learning_rate=0.1, n_estimators=2494, score=0.5805369127516778, total=  51.0s\n",
      "[Parallel(n_jobs=1)]: Done  60 out of  60 | elapsed: 38.8min remaining:    0.0s\n",
      "[CV] learning_rate=1, n_estimators=1000 ..............................\n",
      "[CV]  learning_rate=1, n_estimators=1000, score=0.5618729096989966, total=  20.5s\n",
      "[Parallel(n_jobs=1)]: Done  61 out of  61 | elapsed: 39.2min remaining:    0.0s\n",
      "[CV] learning_rate=1, n_estimators=1000 ..............................\n",
      "[CV]  learning_rate=1, n_estimators=1000, score=0.5838926174496645, total=  20.4s\n",
      "[Parallel(n_jobs=1)]: Done  62 out of  62 | elapsed: 39.5min remaining:    0.0s\n",
      "[CV] learning_rate=1, n_estimators=1000 ..............................\n",
      "[CV]  learning_rate=1, n_estimators=1000, score=0.5604026845637584, total=  21.3s\n",
      "[Parallel(n_jobs=1)]: Done  63 out of  63 | elapsed: 39.9min remaining:    0.0s\n",
      "[CV] learning_rate=1, n_estimators=1000 ..............................\n",
      "[CV]  learning_rate=1, n_estimators=1000, score=0.5805369127516778, total=  20.4s\n",
      "[Parallel(n_jobs=1)]: Done  64 out of  64 | elapsed: 40.2min remaining:    0.0s\n",
      "[CV] learning_rate=1, n_estimators=1000 ..............................\n",
      "[CV]  learning_rate=1, n_estimators=1000, score=0.5939597315436241, total=  21.1s\n",
      "[Parallel(n_jobs=1)]: Done  65 out of  65 | elapsed: 40.6min remaining:    0.0s\n",
      "[CV] learning_rate=1, n_estimators=1200 ..............................\n",
      "[CV]  learning_rate=1, n_estimators=1200, score=0.5752508361204013, total=  24.5s\n",
      "[Parallel(n_jobs=1)]: Done  66 out of  66 | elapsed: 41.0min remaining:    0.0s\n",
      "[CV] learning_rate=1, n_estimators=1200 ..............................\n",
      "[CV]  learning_rate=1, n_estimators=1200, score=0.5671140939597316, total=  24.6s\n",
      "[Parallel(n_jobs=1)]: Done  67 out of  67 | elapsed: 41.5min remaining:    0.0s\n",
      "[CV] learning_rate=1, n_estimators=1200 ..............................\n",
      "[CV]  learning_rate=1, n_estimators=1200, score=0.5973154362416108, total=  24.5s\n",
      "[Parallel(n_jobs=1)]: Done  68 out of  68 | elapsed: 41.9min remaining:    0.0s\n",
      "[CV] learning_rate=1, n_estimators=1200 ..............................\n",
      "[CV]  learning_rate=1, n_estimators=1200, score=0.5704697986577181, total=  24.5s\n",
      "[Parallel(n_jobs=1)]: Done  69 out of  69 | elapsed: 42.3min remaining:    0.0s\n",
      "[CV] learning_rate=1, n_estimators=1200 ..............................\n"
     ]
    },
    {
     "name": "stdout",
     "output_type": "stream",
     "text": [
      "[CV]  learning_rate=1, n_estimators=1200, score=0.5604026845637584, total=  24.5s\n",
      "[Parallel(n_jobs=1)]: Done  70 out of  70 | elapsed: 42.7min remaining:    0.0s\n",
      "[CV] learning_rate=1, n_estimators=1800 ..............................\n",
      "[CV]  learning_rate=1, n_estimators=1800, score=0.5886287625418061, total=  36.7s\n",
      "[Parallel(n_jobs=1)]: Done  71 out of  71 | elapsed: 43.4min remaining:    0.0s\n",
      "[CV] learning_rate=1, n_estimators=1800 ..............................\n",
      "[CV]  learning_rate=1, n_estimators=1800, score=0.5906040268456376, total=  36.8s\n",
      "[Parallel(n_jobs=1)]: Done  72 out of  72 | elapsed: 44.0min remaining:    0.0s\n",
      "[CV] learning_rate=1, n_estimators=1800 ..............................\n",
      "[CV]  learning_rate=1, n_estimators=1800, score=0.5671140939597316, total=  36.6s\n",
      "[Parallel(n_jobs=1)]: Done  73 out of  73 | elapsed: 44.6min remaining:    0.0s\n",
      "[CV] learning_rate=1, n_estimators=1800 ..............................\n",
      "[CV]  learning_rate=1, n_estimators=1800, score=0.6140939597315436, total=  36.8s\n",
      "[Parallel(n_jobs=1)]: Done  74 out of  74 | elapsed: 45.3min remaining:    0.0s\n",
      "[CV] learning_rate=1, n_estimators=1800 ..............................\n",
      "[CV]  learning_rate=1, n_estimators=1800, score=0.5704697986577181, total=  36.8s\n",
      "[Parallel(n_jobs=1)]: Done  75 out of  75 | elapsed: 45.9min remaining:    0.0s\n",
      "[CV] learning_rate=1, n_estimators=2000 ..............................\n",
      "[CV]  learning_rate=1, n_estimators=2000, score=0.6053511705685619, total=  40.6s\n",
      "[Parallel(n_jobs=1)]: Done  76 out of  76 | elapsed: 46.6min remaining:    0.0s\n",
      "[CV] learning_rate=1, n_estimators=2000 ..............................\n",
      "[CV]  learning_rate=1, n_estimators=2000, score=0.5939597315436241, total=  43.6s\n",
      "[Parallel(n_jobs=1)]: Done  77 out of  77 | elapsed: 47.4min remaining:    0.0s\n",
      "[CV] learning_rate=1, n_estimators=2000 ..............................\n",
      "[CV]  learning_rate=1, n_estimators=2000, score=0.5973154362416108, total=  42.9s\n",
      "[Parallel(n_jobs=1)]: Done  78 out of  78 | elapsed: 48.1min remaining:    0.0s\n",
      "[CV] learning_rate=1, n_estimators=2000 ..............................\n",
      "[CV]  learning_rate=1, n_estimators=2000, score=0.5838926174496645, total=  46.9s\n",
      "[Parallel(n_jobs=1)]: Done  79 out of  79 | elapsed: 48.9min remaining:    0.0s\n",
      "[CV] learning_rate=1, n_estimators=2000 ..............................\n",
      "[CV]  learning_rate=1, n_estimators=2000, score=0.5671140939597316, total=  46.4s\n",
      "[Parallel(n_jobs=1)]: Done  80 out of  80 | elapsed: 49.7min remaining:    0.0s\n",
      "[CV] learning_rate=1, n_estimators=2300 ..............................\n",
      "[CV]  learning_rate=1, n_estimators=2300, score=0.5953177257525084, total=  43.1s\n",
      "[Parallel(n_jobs=1)]: Done  81 out of  81 | elapsed: 50.5min remaining:    0.0s\n",
      "[CV] learning_rate=1, n_estimators=2300 ..............................\n",
      "[CV]  learning_rate=1, n_estimators=2300, score=0.6140939597315436, total=  42.0s\n",
      "[Parallel(n_jobs=1)]: Done  82 out of  82 | elapsed: 51.2min remaining:    0.0s\n",
      "[CV] learning_rate=1, n_estimators=2300 ..............................\n",
      "[CV]  learning_rate=1, n_estimators=2300, score=0.5805369127516778, total=  46.8s\n",
      "[Parallel(n_jobs=1)]: Done  83 out of  83 | elapsed: 52.0min remaining:    0.0s\n",
      "[CV] learning_rate=1, n_estimators=2300 ..............................\n",
      "[CV]  learning_rate=1, n_estimators=2300, score=0.6140939597315436, total=  47.6s\n",
      "[Parallel(n_jobs=1)]: Done  84 out of  84 | elapsed: 52.8min remaining:    0.0s\n",
      "[CV] learning_rate=1, n_estimators=2300 ..............................\n",
      "[CV]  learning_rate=1, n_estimators=2300, score=0.5637583892617449, total=  47.1s\n",
      "[Parallel(n_jobs=1)]: Done  85 out of  85 | elapsed: 53.6min remaining:    0.0s\n",
      "[CV] learning_rate=1, n_estimators=2494 ..............................\n",
      "[CV]  learning_rate=1, n_estimators=2494, score=0.5886287625418061, total=  50.7s\n",
      "[Parallel(n_jobs=1)]: Done  86 out of  86 | elapsed: 54.5min remaining:    0.0s\n",
      "[CV] learning_rate=1, n_estimators=2494 ..............................\n",
      "[CV]  learning_rate=1, n_estimators=2494, score=0.5973154362416108, total=  51.1s\n",
      "[Parallel(n_jobs=1)]: Done  87 out of  87 | elapsed: 55.4min remaining:    0.0s\n",
      "[CV] learning_rate=1, n_estimators=2494 ..............................\n",
      "[CV]  learning_rate=1, n_estimators=2494, score=0.6140939597315436, total=  50.8s\n",
      "[Parallel(n_jobs=1)]: Done  88 out of  88 | elapsed: 56.3min remaining:    0.0s\n",
      "[CV] learning_rate=1, n_estimators=2494 ..............................\n",
      "[CV]  learning_rate=1, n_estimators=2494, score=0.6241610738255033, total=  51.1s\n",
      "[Parallel(n_jobs=1)]: Done  89 out of  89 | elapsed: 57.1min remaining:    0.0s\n",
      "[CV] learning_rate=1, n_estimators=2494 ..............................\n",
      "[CV]  learning_rate=1, n_estimators=2494, score=0.5704697986577181, total=  51.1s\n",
      "[Parallel(n_jobs=1)]: Done  90 out of  90 | elapsed: 58.0min remaining:    0.0s\n",
      "[Parallel(n_jobs=1)]: Done  90 out of  90 | elapsed: 58.0min finished\n"
     ]
    }
   ],
   "source": [
    "from sklearn.model_selection import GridSearchCV\n",
    "#params = {\n",
    "    'learning_rate':[0.01,0.1,1],\n",
    "    'n_estimators':[1000,1200,1800,2000,2300,2494]\n",
    "}\n",
    "\n",
    "abc = AdaBoostClassifier()\n",
    "abc_opti = GridSearchCV(abc, params, cv=5, verbose=100)\n",
    "model_abc_opti = abc_opti.fit(X_train,y_train)"
   ]
  },
  {
   "cell_type": "code",
   "execution_count": 43,
   "metadata": {},
   "outputs": [
    {
     "data": {
      "text/plain": [
       "{'learning_rate': 0.1, 'n_estimators': 1200}"
      ]
     },
     "execution_count": 43,
     "metadata": {},
     "output_type": "execute_result"
    }
   ],
   "source": [
    "abc_opti.best_params_"
   ]
  },
  {
   "cell_type": "code",
   "execution_count": 44,
   "metadata": {},
   "outputs": [
    {
     "data": {
      "text/plain": [
       "0.6096579476861167"
      ]
     },
     "execution_count": 44,
     "metadata": {},
     "output_type": "execute_result"
    }
   ],
   "source": [
    "abc_opti.best_score_"
   ]
  },
  {
   "cell_type": "code",
   "execution_count": 45,
   "metadata": {},
   "outputs": [],
   "source": [
    "prediction_abc = abc_opti.predict(X_test)"
   ]
  },
  {
   "cell_type": "code",
   "execution_count": 46,
   "metadata": {
    "scrolled": false
   },
   "outputs": [
    {
     "data": {
      "text/plain": [
       "array([[169,  80],\n",
       "       [109, 139]])"
      ]
     },
     "execution_count": 46,
     "metadata": {},
     "output_type": "execute_result"
    }
   ],
   "source": [
    "confusion_matrix(y_test,prediction_abc)"
   ]
  },
  {
   "cell_type": "code",
   "execution_count": 47,
   "metadata": {},
   "outputs": [],
   "source": [
    "tn2, fp2, fn2, tp2 = confusion_matrix(y_test, prediction_abc).ravel()"
   ]
  },
  {
   "cell_type": "code",
   "execution_count": 48,
   "metadata": {},
   "outputs": [
    {
     "name": "stdout",
     "output_type": "stream",
     "text": [
      "True Negatives: 169\n",
      "False Positives: 80\n",
      "False Negatives: 109\n",
      "True Positives: 139\n",
      "\n",
      "Accuracy = 0.62\n",
      "Recall = 0.56\n",
      "Specificity = 0.54\n"
     ]
    }
   ],
   "source": [
    "print(\"True Negatives: %s\" % tn2)\n",
    "print(\"False Positives: %s\" % fp2)\n",
    "print(\"False Negatives: %s\" % fn2)\n",
    "print(\"True Positives: %s\" % tp2)\n",
    "print(\"\")\n",
    "\n",
    "#Most predictions leaning towards Kroger, regardless of accuracy\n",
    "print(\"Accuracy =\",\"{0:.2f}\".format((tp2 + tn2)/(tn2+fp2+fn2+tp2)))\n",
    "#61% accuracy\n",
    "\n",
    "print(\"Recall =\",\"{0:.2f}\".format(tp2/(fn2+tp2)))\n",
    "#correctly predicted Kroger about 54% of the time\n",
    "print(\"Specificity =\",\"{0:.2f}\".format(tn/(tn2+fp2)))\n",
    "#correctly predicted Publix only 54% of the time"
   ]
  },
  {
   "cell_type": "code",
   "execution_count": null,
   "metadata": {},
   "outputs": [],
   "source": []
  }
 ],
 "metadata": {
  "kernelspec": {
   "display_name": "Python 3",
   "language": "python",
   "name": "python3"
  },
  "language_info": {
   "codemirror_mode": {
    "name": "ipython",
    "version": 3
   },
   "file_extension": ".py",
   "mimetype": "text/x-python",
   "name": "python",
   "nbconvert_exporter": "python",
   "pygments_lexer": "ipython3",
   "version": "3.7.3"
  }
 },
 "nbformat": 4,
 "nbformat_minor": 2
}
