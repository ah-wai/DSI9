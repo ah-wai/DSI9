{
 "cells": [
  {
   "cell_type": "markdown",
   "metadata": {},
   "source": [
    "## Red Wine Quality \n",
    "\n",
    "### Personal Objective:\n",
    "#### To Familiarise with ML Models and Evaluation techniques\n",
    "\n",
    "\n",
    "#### Classification Models\n",
    "#### Binary Classification\n"
   ]
  },
  {
   "cell_type": "code",
   "execution_count": 1,
   "metadata": {},
   "outputs": [],
   "source": [
    "import pandas as pd\n",
    "import numpy as np\n",
    "import matplotlib.pyplot as plt\n",
    "%matplotlib inline\n",
    "import seaborn as sns\n",
    "from tqdm import tqdm\n",
    "\n",
    "from sklearn.model_selection import train_test_split, cross_val_score, GridSearchCV, StratifiedShuffleSplit\n",
    "from sklearn.preprocessing import StandardScaler, PolynomialFeatures \n",
    "\n",
    "from sklearn.linear_model import LogisticRegression\n",
    "from sklearn.ensemble import RandomForestClassifier, AdaBoostClassifier, BaggingClassifier, GradientBoostingClassifier\n",
    "from sklearn.neighbors import KNeighborsClassifier\n",
    "from sklearn.svm import SVC\n",
    "from sklearn.tree import DecisionTreeClassifier\n",
    "\n",
    "from sklearn.pipeline import Pipeline\n",
    "from sklearn.metrics import accuracy_score, confusion_matrix, roc_auc_score\n",
    "from sklearn.metrics import multilabel_confusion_matrix, classification_report"
   ]
  },
  {
   "cell_type": "code",
   "execution_count": 54,
   "metadata": {},
   "outputs": [],
   "source": [
    "red_wine = pd.read_csv(\"redwinequality.csv\")"
   ]
  },
  {
   "cell_type": "code",
   "execution_count": 3,
   "metadata": {},
   "outputs": [
    {
     "name": "stdout",
     "output_type": "stream",
     "text": [
      "Shape: (1599, 12)\n",
      "\n",
      "First 5 lines\n",
      "   fixed acidity  volatile acidity  citric acid  residual sugar  chlorides  \\\n",
      "0            7.4              0.70         0.00             1.9      0.076   \n",
      "1            7.8              0.88         0.00             2.6      0.098   \n",
      "2            7.8              0.76         0.04             2.3      0.092   \n",
      "3           11.2              0.28         0.56             1.9      0.075   \n",
      "4            7.4              0.70         0.00             1.9      0.076   \n",
      "\n",
      "   free sulfur dioxide  total sulfur dioxide  density    pH  sulphates  \\\n",
      "0                 11.0                  34.0   0.9978  3.51       0.56   \n",
      "1                 25.0                  67.0   0.9968  3.20       0.68   \n",
      "2                 15.0                  54.0   0.9970  3.26       0.65   \n",
      "3                 17.0                  60.0   0.9980  3.16       0.58   \n",
      "4                 11.0                  34.0   0.9978  3.51       0.56   \n",
      "\n",
      "   alcohol  quality  \n",
      "0      9.4        5  \n",
      "1      9.8        5  \n",
      "2      9.8        5  \n",
      "3      9.8        6  \n",
      "4      9.4        5  \n",
      "\n",
      "Type of data\n",
      "fixed acidity           float64\n",
      "volatile acidity        float64\n",
      "citric acid             float64\n",
      "residual sugar          float64\n",
      "chlorides               float64\n",
      "free sulfur dioxide     float64\n",
      "total sulfur dioxide    float64\n",
      "density                 float64\n",
      "pH                      float64\n",
      "sulphates               float64\n",
      "alcohol                 float64\n",
      "quality                   int64\n",
      "dtype: object\n",
      "\n",
      "Null values\n",
      "fixed acidity           0\n",
      "volatile acidity        0\n",
      "citric acid             0\n",
      "residual sugar          0\n",
      "chlorides               0\n",
      "free sulfur dioxide     0\n",
      "total sulfur dioxide    0\n",
      "density                 0\n",
      "pH                      0\n",
      "sulphates               0\n",
      "alcohol                 0\n",
      "quality                 0\n",
      "dtype: int64\n",
      "\n",
      "Summary\n",
      "       fixed acidity  volatile acidity  citric acid  residual sugar  \\\n",
      "count    1599.000000       1599.000000  1599.000000     1599.000000   \n",
      "mean        8.319637          0.527821     0.270976        2.538806   \n",
      "std         1.741096          0.179060     0.194801        1.409928   \n",
      "min         4.600000          0.120000     0.000000        0.900000   \n",
      "25%         7.100000          0.390000     0.090000        1.900000   \n",
      "50%         7.900000          0.520000     0.260000        2.200000   \n",
      "75%         9.200000          0.640000     0.420000        2.600000   \n",
      "max        15.900000          1.580000     1.000000       15.500000   \n",
      "\n",
      "         chlorides  free sulfur dioxide  total sulfur dioxide      density  \\\n",
      "count  1599.000000          1599.000000           1599.000000  1599.000000   \n",
      "mean      0.087467            15.874922             46.467792     0.996747   \n",
      "std       0.047065            10.460157             32.895324     0.001887   \n",
      "min       0.012000             1.000000              6.000000     0.990070   \n",
      "25%       0.070000             7.000000             22.000000     0.995600   \n",
      "50%       0.079000            14.000000             38.000000     0.996750   \n",
      "75%       0.090000            21.000000             62.000000     0.997835   \n",
      "max       0.611000            72.000000            289.000000     1.003690   \n",
      "\n",
      "                pH    sulphates      alcohol      quality  \n",
      "count  1599.000000  1599.000000  1599.000000  1599.000000  \n",
      "mean      3.311113     0.658149    10.422983     5.636023  \n",
      "std       0.154386     0.169507     1.065668     0.807569  \n",
      "min       2.740000     0.330000     8.400000     3.000000  \n",
      "25%       3.210000     0.550000     9.500000     5.000000  \n",
      "50%       3.310000     0.620000    10.200000     6.000000  \n",
      "75%       3.400000     0.730000    11.100000     6.000000  \n",
      "max       4.010000     2.000000    14.900000     8.000000  \n"
     ]
    }
   ],
   "source": [
    "#exploring the dataset\n",
    "def explore(df):\n",
    "    print(\"Shape:\", df.shape)\n",
    "    print(\"\")\n",
    "    print(\"First 5 lines\")\n",
    "    print(df.head())\n",
    "    print(\"\")\n",
    "    print(\"Type of data\")\n",
    "    print(df.dtypes)\n",
    "    print(\"\")\n",
    "    print(\"Null values\")\n",
    "    print(df.isnull().sum())\n",
    "    print(\"\")\n",
    "    print(\"Summary\")\n",
    "    print(df.describe())\n",
    "    \n",
    "explore(red_wine)"
   ]
  },
  {
   "cell_type": "markdown",
   "metadata": {},
   "source": [
    "#### Investigate quality further, we will notice there are only 6 grading in this entire dataset\n",
    "#### We could (as per suggestion) to classify this whole dataset with good (7 and above) or not good wine (everything else) OR more ambitiously turn this into a multiclass classifcation "
   ]
  },
  {
   "cell_type": "code",
   "execution_count": 4,
   "metadata": {},
   "outputs": [
    {
     "data": {
      "text/plain": [
       "array([5, 6, 7, 4, 8, 3])"
      ]
     },
     "execution_count": 4,
     "metadata": {},
     "output_type": "execute_result"
    }
   ],
   "source": [
    "red_wine['quality'].unique()"
   ]
  },
  {
   "cell_type": "code",
   "execution_count": 5,
   "metadata": {},
   "outputs": [
    {
     "data": {
      "text/plain": [
       "<matplotlib.axes._subplots.AxesSubplot at 0x107acec50>"
      ]
     },
     "execution_count": 5,
     "metadata": {},
     "output_type": "execute_result"
    },
    {
     "data": {
      "image/png": "[encoded data removed]",
      "text/plain": [
       "<Figure size 864x864 with 2 Axes>"
      ]
     },
     "metadata": {
      "needs_background": "light"
     },
     "output_type": "display_data"
    }
   ],
   "source": [
    "fig, ax = plt.subplots(figsize=(12,12)) \n",
    "ax.set_title('Heat Map for all columns')\n",
    "sns.heatmap(red_wine.corr(), ax = ax, annot=True, annot_kws={\"size\": 10})\n",
    "#no major issue on collinearity - except maybe for alcohol content vs quality"
   ]
  },
  {
   "cell_type": "code",
   "execution_count": 6,
   "metadata": {},
   "outputs": [
    {
     "data": {
      "text/plain": [
       "<matplotlib.collections.PathCollection at 0x12af98ad0>"
      ]
     },
     "execution_count": 6,
     "metadata": {},
     "output_type": "execute_result"
    },
    {
     "data": {
      "image/png": "[encoded data removed]",
      "text/plain": [
       "<Figure size 432x288 with 1 Axes>"
      ]
     },
     "metadata": {
      "needs_background": "light"
     },
     "output_type": "display_data"
    }
   ],
   "source": [
    "plt.scatter(y='fixed acidity' , x='quality', data=red_wine)"
   ]
  },
  {
   "cell_type": "code",
   "execution_count": 7,
   "metadata": {},
   "outputs": [
    {
     "data": {
      "text/plain": [
       "<matplotlib.collections.PathCollection at 0x12af988d0>"
      ]
     },
     "execution_count": 7,
     "metadata": {},
     "output_type": "execute_result"
    },
    {
     "data": {
      "image/png": "[encoded data removed]",
      "text/plain": [
       "<Figure size 432x288 with 1 Axes>"
      ]
     },
     "metadata": {
      "needs_background": "light"
     },
     "output_type": "display_data"
    }
   ],
   "source": [
    "plt.scatter(y='volatile acidity' , x='quality', data=red_wine)\n",
    "\n",
    "#The good wine usually has lower VA"
   ]
  },
  {
   "cell_type": "code",
   "execution_count": 8,
   "metadata": {},
   "outputs": [
    {
     "data": {
      "text/plain": [
       "<matplotlib.collections.PathCollection at 0x106140190>"
      ]
     },
     "execution_count": 8,
     "metadata": {},
     "output_type": "execute_result"
    },
    {
     "data": {
      "image/png": "[encoded data removed]",
      "text/plain": [
       "<Figure size 432x288 with 1 Axes>"
      ]
     },
     "metadata": {
      "needs_background": "light"
     },
     "output_type": "display_data"
    }
   ],
   "source": [
    "plt.scatter(y='citric acid' , x='quality', data=red_wine)"
   ]
  },
  {
   "cell_type": "code",
   "execution_count": 9,
   "metadata": {},
   "outputs": [
    {
     "data": {
      "text/plain": [
       "<matplotlib.collections.PathCollection at 0x12b2be790>"
      ]
     },
     "execution_count": 9,
     "metadata": {},
     "output_type": "execute_result"
    },
    {
     "data": {
      "image/png": "[encoded data removed]",
      "text/plain": [
       "<Figure size 432x288 with 1 Axes>"
      ]
     },
     "metadata": {
      "needs_background": "light"
     },
     "output_type": "display_data"
    }
   ],
   "source": [
    "plt.scatter(y='chlorides' , x='quality', data=red_wine)\n",
    "#really useful in multiclass detection, point 8 has really low chlorides"
   ]
  },
  {
   "cell_type": "code",
   "execution_count": 10,
   "metadata": {},
   "outputs": [
    {
     "data": {
      "text/plain": [
       "<matplotlib.collections.PathCollection at 0x12b474590>"
      ]
     },
     "execution_count": 10,
     "metadata": {},
     "output_type": "execute_result"
    },
    {
     "data": {
      "image/png": "[encoded data removed]",
      "text/plain": [
       "<Figure size 432x288 with 1 Axes>"
      ]
     },
     "metadata": {
      "needs_background": "light"
     },
     "output_type": "display_data"
    }
   ],
   "source": [
    "plt.scatter(y='free sulfur dioxide' , x='quality', data=red_wine)"
   ]
  },
  {
   "cell_type": "code",
   "execution_count": 11,
   "metadata": {},
   "outputs": [
    {
     "data": {
      "text/plain": [
       "<matplotlib.collections.PathCollection at 0x12b3eb190>"
      ]
     },
     "execution_count": 11,
     "metadata": {},
     "output_type": "execute_result"
    },
    {
     "data": {
      "image/png": "[encoded data removed]",
      "text/plain": [
       "<Figure size 432x288 with 1 Axes>"
      ]
     },
     "metadata": {
      "needs_background": "light"
     },
     "output_type": "display_data"
    }
   ],
   "source": [
    "plt.scatter(y='total sulfur dioxide' , x='quality', data=red_wine)\n",
    "#apart from the 2 outlier, point 7/8 tends to have lower total SO2"
   ]
  },
  {
   "cell_type": "code",
   "execution_count": 12,
   "metadata": {},
   "outputs": [
    {
     "data": {
      "text/plain": [
       "(0.99, 1.005)"
      ]
     },
     "execution_count": 12,
     "metadata": {},
     "output_type": "execute_result"
    },
    {
     "data": {
      "image/png": "[encoded data removed]",
      "text/plain": [
       "<Figure size 432x288 with 1 Axes>"
      ]
     },
     "metadata": {
      "needs_background": "light"
     },
     "output_type": "display_data"
    }
   ],
   "source": [
    "plt.scatter(y='density' , x='quality', data=red_wine)\n",
    "plt.ylim(0.9900,1.005)"
   ]
  },
  {
   "cell_type": "code",
   "execution_count": 13,
   "metadata": {},
   "outputs": [
    {
     "data": {
      "text/plain": [
       "<matplotlib.collections.PathCollection at 0x12b74f290>"
      ]
     },
     "execution_count": 13,
     "metadata": {},
     "output_type": "execute_result"
    },
    {
     "data": {
      "image/png": "[encoded data removed]",
      "text/plain": [
       "<Figure size 432x288 with 1 Axes>"
      ]
     },
     "metadata": {
      "needs_background": "light"
     },
     "output_type": "display_data"
    }
   ],
   "source": [
    "plt.scatter(y='pH' , x='quality', data=red_wine)"
   ]
  },
  {
   "cell_type": "code",
   "execution_count": 14,
   "metadata": {},
   "outputs": [
    {
     "data": {
      "text/plain": [
       "<matplotlib.collections.PathCollection at 0x12b6b9990>"
      ]
     },
     "execution_count": 14,
     "metadata": {},
     "output_type": "execute_result"
    },
    {
     "data": {
      "image/png": "[encoded data removed]",
      "text/plain": [
       "<Figure size 432x288 with 1 Axes>"
      ]
     },
     "metadata": {
      "needs_background": "light"
     },
     "output_type": "display_data"
    }
   ],
   "source": [
    "plt.scatter(y='sulphates' , x='quality', data=red_wine)"
   ]
  },
  {
   "cell_type": "code",
   "execution_count": 15,
   "metadata": {},
   "outputs": [
    {
     "data": {
      "text/plain": [
       "<matplotlib.collections.PathCollection at 0x12b87a550>"
      ]
     },
     "execution_count": 15,
     "metadata": {},
     "output_type": "execute_result"
    },
    {
     "data": {
      "image/png": "[encoded data removed]",
      "text/plain": [
       "<Figure size 432x288 with 1 Axes>"
      ]
     },
     "metadata": {
      "needs_background": "light"
     },
     "output_type": "display_data"
    }
   ],
   "source": [
    "plt.scatter(y='alcohol' , x='quality', data=red_wine)\n",
    "#the trend tends to move upwards, higher alochol, higher rating"
   ]
  },
  {
   "cell_type": "markdown",
   "metadata": {},
   "source": [
    "#### Overall, if we were to inspect each variable, it seems like most of them follows normally distributed trend.\n",
    "#### You could either be a very good wine (7/8 pointer) or lowly rated wine (3/4 pointer)\n",
    "#### Let's see if our machine learning models can seperate them"
   ]
  },
  {
   "cell_type": "code",
   "execution_count": 16,
   "metadata": {},
   "outputs": [
    {
     "data": {
      "text/plain": [
       "(1599, 12)"
      ]
     },
     "execution_count": 16,
     "metadata": {},
     "output_type": "execute_result"
    }
   ],
   "source": [
    "red_wine.shape"
   ]
  },
  {
   "cell_type": "code",
   "execution_count": 17,
   "metadata": {},
   "outputs": [
    {
     "data": {
      "text/plain": [
       "(160, 12)"
      ]
     },
     "execution_count": 17,
     "metadata": {},
     "output_type": "execute_result"
    }
   ],
   "source": [
    "#keeping 10% of our sample as a final validation test\n",
    "red_wine_valid = red_wine.sample(frac = 0.1, random_state = 12)\n",
    "red_wine_valid.shape"
   ]
  },
  {
   "cell_type": "code",
   "execution_count": 18,
   "metadata": {},
   "outputs": [
    {
     "data": {
      "text/plain": [
       "(1439, 12)"
      ]
     },
     "execution_count": 18,
     "metadata": {},
     "output_type": "execute_result"
    }
   ],
   "source": [
    "#setting up our training dataset\n",
    "red_wine_training = red_wine.drop(red_wine_valid.index, axis=0)\n",
    "red_wine_training.shape"
   ]
  },
  {
   "cell_type": "code",
   "execution_count": 19,
   "metadata": {},
   "outputs": [],
   "source": [
    "#setting up our target\n",
    "y = red_wine_training['quality']\n",
    "X = red_wine_training.drop('quality',axis=1)\n",
    "\n",
    "y_valid = red_wine_valid['quality']\n",
    "X_valid = red_wine_valid.drop('quality',axis=1)"
   ]
  },
  {
   "cell_type": "markdown",
   "metadata": {},
   "source": [
    "#### We will now transform our scores to:\n",
    "#### Good wine (Scores 7 and above) to 1 and Not-so-good wines (all other scores) to 0"
   ]
  },
  {
   "cell_type": "code",
   "execution_count": 20,
   "metadata": {
    "scrolled": true
   },
   "outputs": [],
   "source": [
    "#counting number of entries for \"good wine\"\n",
    "good_wine_count = (y == 7).sum() + (y == 8).sum()\n",
    "good_wine_count_valid =(y_valid == 7).sum() + (y_valid == 8).sum()"
   ]
  },
  {
   "cell_type": "code",
   "execution_count": 21,
   "metadata": {
    "scrolled": true
   },
   "outputs": [],
   "source": [
    "#Transforming our scores of 7 and 8 into \"Good wine\" == 1 and others into 0\n",
    "def score(data):\n",
    "    for i in range(data.shape[0]):\n",
    "        if data[i] >= 7:\n",
    "            data[i] = 1\n",
    "        else:\n",
    "            data[i] = 0\n",
    "\n",
    "y_binary = y.reset_index(drop=True)\n",
    "score(y_binary)\n",
    "\n",
    "y_binary_valid = y_valid.reset_index(drop=True)\n",
    "score(y_binary_valid)"
   ]
  },
  {
   "cell_type": "code",
   "execution_count": 22,
   "metadata": {},
   "outputs": [
    {
     "name": "stdout",
     "output_type": "stream",
     "text": [
      "True\n",
      "True\n"
     ]
    }
   ],
   "source": [
    "#Making sure the function works well for both datasets\n",
    "print(good_wine_count == (y_binary == 1).sum())\n",
    "print(good_wine_count_valid == (y_binary_valid == 1).sum())"
   ]
  },
  {
   "cell_type": "code",
   "execution_count": 23,
   "metadata": {},
   "outputs": [],
   "source": [
    "#Preprocessing our X columns with standard scaler\n",
    "ss = StandardScaler()\n",
    "Xs = ss.fit_transform(X)"
   ]
  },
  {
   "cell_type": "code",
   "execution_count": 24,
   "metadata": {},
   "outputs": [],
   "source": [
    "#We will split our data further with using train/test split\n",
    "X_train, X_test, y_train, y_test = train_test_split(Xs,\n",
    "                                                    y_binary,\n",
    "                                                    random_state=42,\n",
    "                                                    train_size=0.7)"
   ]
  },
  {
   "cell_type": "code",
   "execution_count": 25,
   "metadata": {},
   "outputs": [
    {
     "name": "stdout",
     "output_type": "stream",
     "text": [
      "Fitting 3 folds for each of 36 candidates, totalling 108 fits\n"
     ]
    },
    {
     "name": "stderr",
     "output_type": "stream",
     "text": [
      "[Parallel(n_jobs=-1)]: Using backend LokyBackend with 12 concurrent workers.\n",
      "[Parallel(n_jobs=-1)]: Done   1 tasks      | elapsed:    1.9s\n",
      "[Parallel(n_jobs=-1)]: Done   8 tasks      | elapsed:    1.9s\n",
      "[Parallel(n_jobs=-1)]: Done  17 tasks      | elapsed:    2.0s\n",
      "[Parallel(n_jobs=-1)]: Done  26 tasks      | elapsed:    2.0s\n",
      "[Parallel(n_jobs=-1)]: Done  37 tasks      | elapsed:    2.0s\n",
      "[Parallel(n_jobs=-1)]: Batch computation too fast (0.1735s.) Setting batch_size=2.\n",
      "[Parallel(n_jobs=-1)]: Done  48 tasks      | elapsed:    2.0s\n",
      "[Parallel(n_jobs=-1)]: Done  61 tasks      | elapsed:    2.1s\n",
      "[Parallel(n_jobs=-1)]: Done  74 out of 108 | elapsed:    2.1s remaining:    1.0s\n",
      "[Parallel(n_jobs=-1)]: Done  96 out of 108 | elapsed:    2.1s remaining:    0.3s\n",
      "[Parallel(n_jobs=-1)]: Done 108 out of 108 | elapsed:    2.1s finished\n",
      "/opt/anaconda3/lib/python3.7/site-packages/ipykernel_launcher.py:74: RuntimeWarning: invalid value encountered in true_divide\n",
      "/opt/anaconda3/lib/python3.7/site-packages/ipykernel_launcher.py:75: RuntimeWarning: invalid value encountered in true_divide\n",
      "/opt/anaconda3/lib/python3.7/site-packages/ipykernel_launcher.py:82: RuntimeWarning: invalid value encountered in true_divide\n",
      "/opt/anaconda3/lib/python3.7/site-packages/ipykernel_launcher.py:83: RuntimeWarning: invalid value encountered in true_divide\n",
      "[Parallel(n_jobs=-1)]: Using backend LokyBackend with 12 concurrent workers.\n",
      "[Parallel(n_jobs=-1)]: Done   1 tasks      | elapsed:    0.0s\n",
      "[Parallel(n_jobs=-1)]: Batch computation too fast (0.0488s.) Setting batch_size=8.\n",
      "[Parallel(n_jobs=-1)]: Done   8 tasks      | elapsed:    0.1s\n",
      "[Parallel(n_jobs=-1)]: Done  17 out of  90 | elapsed:    0.1s remaining:    0.5s\n"
     ]
    },
    {
     "name": "stdout",
     "output_type": "stream",
     "text": [
      "Decision Tree\n",
      "Best Score: 0.8811881188118812\n",
      "Best Params: {'clf__max_depth': 10, 'clf__min_samples_split': 5}\n",
      "Model Score on X_train: 0.9821251241310824\n",
      "Accuracy score of prediction: 0.8217592592592593\n",
      "TN: [ 24 331 432 432 432], FP:[37 40  0  0  0], FN:[40 37  0  0  0], TP:[331  24   0   0   0]\n",
      "Precision of the model is [ 1.  0. nan nan nan]\n",
      "Recall of the model is [ 1.  0. nan nan nan]\n",
      "\n",
      "\n",
      "Fitting 3 folds for each of 30 candidates, totalling 90 fits\n"
     ]
    },
    {
     "name": "stderr",
     "output_type": "stream",
     "text": [
      "[Parallel(n_jobs=-1)]: Done  90 out of  90 | elapsed:    0.3s finished\n",
      "/opt/anaconda3/lib/python3.7/site-packages/sklearn/ensemble/forest.py:245: FutureWarning: The default value of n_estimators will change from 10 in version 0.20 to 100 in 0.22.\n",
      "  \"10 in version 0.20 to 100 in 0.22.\", FutureWarning)\n",
      "/opt/anaconda3/lib/python3.7/site-packages/ipykernel_launcher.py:74: RuntimeWarning: invalid value encountered in true_divide\n",
      "/opt/anaconda3/lib/python3.7/site-packages/ipykernel_launcher.py:75: RuntimeWarning: invalid value encountered in true_divide\n",
      "/opt/anaconda3/lib/python3.7/site-packages/ipykernel_launcher.py:82: RuntimeWarning: invalid value encountered in true_divide\n",
      "/opt/anaconda3/lib/python3.7/site-packages/ipykernel_launcher.py:83: RuntimeWarning: invalid value encountered in true_divide\n",
      "[Parallel(n_jobs=-1)]: Using backend LokyBackend with 12 concurrent workers.\n",
      "[Parallel(n_jobs=-1)]: Done   1 tasks      | elapsed:    0.0s\n",
      "[Parallel(n_jobs=-1)]: Batch computation too fast (0.0161s.) Setting batch_size=24.\n",
      "[Parallel(n_jobs=-1)]: Done   8 tasks      | elapsed:    0.1s\n"
     ]
    },
    {
     "name": "stdout",
     "output_type": "stream",
     "text": [
      "RandomForest\n",
      "Best Score: 0.9158415841584159\n",
      "Best Params: {'clf__max_depth': None, 'clf__min_samples_split': 10}\n",
      "Model Score on X_train: 0.9632571996027806\n",
      "Accuracy score of prediction: 0.8888888888888888\n",
      "TN: [ 29 355 432 432 432], FP:[32 16  0  0  0], FN:[16 32  0  0  0], TP:[355  29   0   0   0]\n",
      "Precision of the model is [ 1.  1. nan nan nan]\n",
      "Recall of the model is [ 1.  0. nan nan nan]\n",
      "\n",
      "\n",
      "Fitting 3 folds for each of 96 candidates, totalling 288 fits\n"
     ]
    },
    {
     "name": "stderr",
     "output_type": "stream",
     "text": [
      "[Parallel(n_jobs=-1)]: Done 120 out of 288 | elapsed:    0.3s remaining:    0.5s\n",
      "[Parallel(n_jobs=-1)]: Done 288 out of 288 | elapsed:    0.4s finished\n",
      "/opt/anaconda3/lib/python3.7/site-packages/ipykernel_launcher.py:74: RuntimeWarning: invalid value encountered in true_divide\n",
      "/opt/anaconda3/lib/python3.7/site-packages/ipykernel_launcher.py:75: RuntimeWarning: invalid value encountered in true_divide\n",
      "/opt/anaconda3/lib/python3.7/site-packages/ipykernel_launcher.py:82: RuntimeWarning: invalid value encountered in true_divide\n",
      "/opt/anaconda3/lib/python3.7/site-packages/ipykernel_launcher.py:83: RuntimeWarning: invalid value encountered in true_divide\n",
      "[Parallel(n_jobs=-1)]: Using backend LokyBackend with 12 concurrent workers.\n",
      "[Parallel(n_jobs=-1)]: Done   1 tasks      | elapsed:    0.0s\n",
      "[Parallel(n_jobs=-1)]: Batch computation too fast (0.0190s.) Setting batch_size=20.\n",
      "[Parallel(n_jobs=-1)]: Done   8 out of 108 | elapsed:    0.1s remaining:    0.6s\n",
      "[Parallel(n_jobs=-1)]: Done  19 out of 108 | elapsed:    0.1s remaining:    0.4s\n"
     ]
    },
    {
     "name": "stdout",
     "output_type": "stream",
     "text": [
      "LogReg\n",
      "Best Score: 0.900990099009901\n",
      "Best Params: {'clf__C': 1, 'clf__max_iter': 50, 'clf__solver': 'lbfgs'}\n",
      "Model Score on X_train: 0.8937437934458788\n",
      "Accuracy score of prediction: 0.8726851851851852\n",
      "TN: [ 20 357 432 432 432], FP:[41 14  0  0  0], FN:[14 41  0  0  0], TP:[357  20   0   0   0]\n",
      "Precision of the model is [ 1.  1. nan nan nan]\n",
      "Recall of the model is [ 1.  0. nan nan nan]\n",
      "\n",
      "\n",
      "Fitting 3 folds for each of 36 candidates, totalling 108 fits\n"
     ]
    },
    {
     "name": "stderr",
     "output_type": "stream",
     "text": [
      "[Parallel(n_jobs=-1)]: Done 108 out of 108 | elapsed:    0.5s finished\n",
      "/opt/anaconda3/lib/python3.7/site-packages/ipykernel_launcher.py:74: RuntimeWarning: invalid value encountered in true_divide\n",
      "/opt/anaconda3/lib/python3.7/site-packages/ipykernel_launcher.py:75: RuntimeWarning: invalid value encountered in true_divide\n",
      "/opt/anaconda3/lib/python3.7/site-packages/ipykernel_launcher.py:82: RuntimeWarning: invalid value encountered in true_divide\n",
      "/opt/anaconda3/lib/python3.7/site-packages/ipykernel_launcher.py:83: RuntimeWarning: invalid value encountered in true_divide\n",
      "[Parallel(n_jobs=-1)]: Using backend LokyBackend with 12 concurrent workers.\n",
      "[Parallel(n_jobs=-1)]: Done   1 tasks      | elapsed:    0.0s\n",
      "[Parallel(n_jobs=-1)]: Batch computation too fast (0.0180s.) Setting batch_size=22.\n"
     ]
    },
    {
     "name": "stdout",
     "output_type": "stream",
     "text": [
      "KNN\n",
      "Best Score: 0.9174917491749175\n",
      "Best Params: {'clf__n_neighbors': 5, 'clf__p': 3, 'clf__weights': 'distance'}\n",
      "Model Score on X_train: 1.0\n",
      "Accuracy score of prediction: 0.8703703703703703\n",
      "TN: [ 30 346 432 432 432], FP:[31 25  0  0  0], FN:[25 31  0  0  0], TP:[346  30   0   0   0]\n",
      "Precision of the model is [ 1.  1. nan nan nan]\n",
      "Recall of the model is [ 1.  0. nan nan nan]\n",
      "\n",
      "\n",
      "Fitting 3 folds for each of 16 candidates, totalling 48 fits\n"
     ]
    },
    {
     "name": "stderr",
     "output_type": "stream",
     "text": [
      "[Parallel(n_jobs=-1)]: Done   5 out of  48 | elapsed:    0.0s remaining:    0.3s\n",
      "[Parallel(n_jobs=-1)]: Done  10 out of  48 | elapsed:    0.0s remaining:    0.2s\n",
      "[Parallel(n_jobs=-1)]: Done  15 out of  48 | elapsed:    0.1s remaining:    0.1s\n",
      "[Parallel(n_jobs=-1)]: Done  20 out of  48 | elapsed:    0.1s remaining:    0.1s\n",
      "[Parallel(n_jobs=-1)]: Done  48 out of  48 | elapsed:    0.3s finished\n",
      "/opt/anaconda3/lib/python3.7/site-packages/sklearn/svm/base.py:193: FutureWarning: The default value of gamma will change from 'auto' to 'scale' in version 0.22 to account better for unscaled features. Set gamma explicitly to 'auto' or 'scale' to avoid this warning.\n",
      "  \"avoid this warning.\", FutureWarning)\n",
      "/opt/anaconda3/lib/python3.7/site-packages/ipykernel_launcher.py:74: RuntimeWarning: invalid value encountered in true_divide\n",
      "/opt/anaconda3/lib/python3.7/site-packages/ipykernel_launcher.py:75: RuntimeWarning: invalid value encountered in true_divide\n",
      "/opt/anaconda3/lib/python3.7/site-packages/ipykernel_launcher.py:82: RuntimeWarning: invalid value encountered in true_divide\n",
      "/opt/anaconda3/lib/python3.7/site-packages/ipykernel_launcher.py:83: RuntimeWarning: invalid value encountered in true_divide\n",
      "[Parallel(n_jobs=-1)]: Using backend LokyBackend with 12 concurrent workers.\n",
      "[Parallel(n_jobs=-1)]: Batch computation too fast (0.0465s.) Setting batch_size=8.\n",
      "[Parallel(n_jobs=-1)]: Done   3 out of  18 | elapsed:    0.1s remaining:    0.3s\n",
      "[Parallel(n_jobs=-1)]: Done   5 out of  18 | elapsed:    0.1s remaining:    0.3s\n",
      "[Parallel(n_jobs=-1)]: Done   7 out of  18 | elapsed:    0.1s remaining:    0.2s\n",
      "[Parallel(n_jobs=-1)]: Done   9 out of  18 | elapsed:    0.2s remaining:    0.2s\n"
     ]
    },
    {
     "name": "stdout",
     "output_type": "stream",
     "text": [
      "SVC\n",
      "Best Score: 0.8976897689768977\n",
      "Best Params: {'clf__degree': 3, 'clf__kernel': 'rbf'}\n",
      "Model Score on X_train: 0.9126117179741807\n",
      "Accuracy score of prediction: 0.875\n",
      "TN: [ 19 359 432 432 432], FP:[42 12  0  0  0], FN:[12 42  0  0  0], TP:[359  19   0   0   0]\n",
      "Precision of the model is [ 1.  1. nan nan nan]\n",
      "Recall of the model is [ 1.  0. nan nan nan]\n",
      "\n",
      "\n",
      "Fitting 3 folds for each of 6 candidates, totalling 18 fits\n"
     ]
    },
    {
     "name": "stderr",
     "output_type": "stream",
     "text": [
      "[Parallel(n_jobs=-1)]: Done  11 out of  18 | elapsed:    0.3s remaining:    0.2s\n",
      "[Parallel(n_jobs=-1)]: Done  13 out of  18 | elapsed:    0.4s remaining:    0.2s\n",
      "[Parallel(n_jobs=-1)]: Done  15 out of  18 | elapsed:    0.4s remaining:    0.1s\n",
      "[Parallel(n_jobs=-1)]: Done  18 out of  18 | elapsed:    0.9s finished\n"
     ]
    },
    {
     "name": "stdout",
     "output_type": "stream",
     "text": [
      "AdaBoost\n",
      "Best Score: 0.9026402640264026\n",
      "Best Params: {'clf__n_estimators': 200}\n",
      "Model Score on X_train: 0.974180734856008\n",
      "Accuracy score of prediction: 0.8634259259259259\n",
      "TN: [ 25 348 432 432 432], FP:[36 23  0  0  0], FN:[23 36  0  0  0], TP:[348  25   0   0   0]\n",
      "Precision of the model is [ 1.  1. nan nan nan]\n",
      "Recall of the model is [ 1.  0. nan nan nan]\n",
      "\n",
      "\n",
      "Fitting 3 folds for each of 36 candidates, totalling 108 fits\n"
     ]
    },
    {
     "name": "stderr",
     "output_type": "stream",
     "text": [
      "/opt/anaconda3/lib/python3.7/site-packages/ipykernel_launcher.py:74: RuntimeWarning: invalid value encountered in true_divide\n",
      "/opt/anaconda3/lib/python3.7/site-packages/ipykernel_launcher.py:75: RuntimeWarning: invalid value encountered in true_divide\n",
      "/opt/anaconda3/lib/python3.7/site-packages/ipykernel_launcher.py:82: RuntimeWarning: invalid value encountered in true_divide\n",
      "/opt/anaconda3/lib/python3.7/site-packages/ipykernel_launcher.py:83: RuntimeWarning: invalid value encountered in true_divide\n",
      "[Parallel(n_jobs=-1)]: Using backend LokyBackend with 12 concurrent workers.\n",
      "[Parallel(n_jobs=-1)]: Done   1 tasks      | elapsed:    0.0s\n",
      "[Parallel(n_jobs=-1)]: Batch computation too fast (0.0190s.) Setting batch_size=20.\n",
      "[Parallel(n_jobs=-1)]: Done   8 out of 108 | elapsed:    0.1s remaining:    1.0s\n",
      "[Parallel(n_jobs=-1)]: Done  19 out of 108 | elapsed:    0.2s remaining:    1.0s\n"
     ]
    },
    {
     "name": "stdout",
     "output_type": "stream",
     "text": [
      "BaggingClass\n",
      "Best Score: 0.8679867986798679\n",
      "Best Params: {'clf__max_features': 5, 'clf__max_samples': 5, 'clf__n_estimators': 10}\n",
      "Model Score on X_train: 0.8669314796425025\n",
      "Accuracy score of prediction: 0.8587962962962963\n",
      "TN: [  0 371 432 432 432], FP:[61  0  0  0  0], FN:[ 0 61  0  0  0], TP:[371   0   0   0   0]\n",
      "Precision of the model is [ 1. nan nan nan nan]\n",
      "Recall of the model is [ 1.  0. nan nan nan]\n",
      "\n",
      "\n"
     ]
    },
    {
     "name": "stderr",
     "output_type": "stream",
     "text": [
      "[Parallel(n_jobs=-1)]: Done 108 out of 108 | elapsed:    1.4s finished\n",
      "/opt/anaconda3/lib/python3.7/site-packages/ipykernel_launcher.py:74: RuntimeWarning: invalid value encountered in true_divide\n",
      "/opt/anaconda3/lib/python3.7/site-packages/ipykernel_launcher.py:75: RuntimeWarning: invalid value encountered in true_divide\n",
      "/opt/anaconda3/lib/python3.7/site-packages/ipykernel_launcher.py:82: RuntimeWarning: invalid value encountered in true_divide\n",
      "/opt/anaconda3/lib/python3.7/site-packages/ipykernel_launcher.py:83: RuntimeWarning: invalid value encountered in true_divide\n"
     ]
    },
    {
     "data": {
      "text/html": [
       "<div>\n",
       "<style scoped>\n",
       "    .dataframe tbody tr th:only-of-type {\n",
       "        vertical-align: middle;\n",
       "    }\n",
       "\n",
       "    .dataframe tbody tr th {\n",
       "        vertical-align: top;\n",
       "    }\n",
       "\n",
       "    .dataframe thead th {\n",
       "        text-align: right;\n",
       "    }\n",
       "</style>\n",
       "<table border=\"1\" class=\"dataframe\">\n",
       "  <thead>\n",
       "    <tr style=\"text-align: right;\">\n",
       "      <th></th>\n",
       "      <th>model</th>\n",
       "      <th>parameters</th>\n",
       "      <th>scores</th>\n",
       "      <th>accuracy</th>\n",
       "      <th>recall</th>\n",
       "      <th>precision</th>\n",
       "      <th>roc_auc</th>\n",
       "    </tr>\n",
       "  </thead>\n",
       "  <tbody>\n",
       "    <tr>\n",
       "      <td>0</td>\n",
       "      <td>Decision Tree</td>\n",
       "      <td>{'clf__max_depth': 10, 'clf__min_samples_split...</td>\n",
       "      <td>0.8218</td>\n",
       "      <td>[0.8218, 0.8218, 1.0, 1.0, 1.0]</td>\n",
       "      <td>[0.8922, 0.3934, nan, nan, nan]</td>\n",
       "      <td>[0.8995, 0.375, nan, nan, nan]</td>\n",
       "      <td>0.6428</td>\n",
       "    </tr>\n",
       "    <tr>\n",
       "      <td>1</td>\n",
       "      <td>RandomForest</td>\n",
       "      <td>{'clf__max_depth': None, 'clf__min_samples_spl...</td>\n",
       "      <td>0.8889</td>\n",
       "      <td>[0.8889, 0.8889, 1.0, 1.0, 1.0]</td>\n",
       "      <td>[0.9569, 0.4754, nan, nan, nan]</td>\n",
       "      <td>[0.9173, 0.6444, nan, nan, nan]</td>\n",
       "      <td>0.7161</td>\n",
       "    </tr>\n",
       "    <tr>\n",
       "      <td>2</td>\n",
       "      <td>LogReg</td>\n",
       "      <td>{'clf__C': 1, 'clf__max_iter': 50, 'clf__solve...</td>\n",
       "      <td>0.8727</td>\n",
       "      <td>[0.8727, 0.8727, 1.0, 1.0, 1.0]</td>\n",
       "      <td>[0.9623, 0.3279, nan, nan, nan]</td>\n",
       "      <td>[0.897, 0.5882, nan, nan, nan]</td>\n",
       "      <td>0.6451</td>\n",
       "    </tr>\n",
       "    <tr>\n",
       "      <td>3</td>\n",
       "      <td>KNN</td>\n",
       "      <td>{'clf__n_neighbors': 5, 'clf__p': 3, 'clf__wei...</td>\n",
       "      <td>0.8704</td>\n",
       "      <td>[0.8704, 0.8704, 1.0, 1.0, 1.0]</td>\n",
       "      <td>[0.9326, 0.4918, nan, nan, nan]</td>\n",
       "      <td>[0.9178, 0.5455, nan, nan, nan]</td>\n",
       "      <td>0.7122</td>\n",
       "    </tr>\n",
       "    <tr>\n",
       "      <td>4</td>\n",
       "      <td>SVC</td>\n",
       "      <td>{'clf__degree': 3, 'clf__kernel': 'rbf'}</td>\n",
       "      <td>0.8750</td>\n",
       "      <td>[0.875, 0.875, 1.0, 1.0, 1.0]</td>\n",
       "      <td>[0.9677, 0.3115, nan, nan, nan]</td>\n",
       "      <td>[0.8953, 0.6129, nan, nan, nan]</td>\n",
       "      <td>0.6396</td>\n",
       "    </tr>\n",
       "    <tr>\n",
       "      <td>5</td>\n",
       "      <td>AdaBoost</td>\n",
       "      <td>{'clf__n_estimators': 200}</td>\n",
       "      <td>0.8634</td>\n",
       "      <td>[0.8634, 0.8634, 1.0, 1.0, 1.0]</td>\n",
       "      <td>[0.938, 0.4098, nan, nan, nan]</td>\n",
       "      <td>[0.9062, 0.5208, nan, nan, nan]</td>\n",
       "      <td>0.6739</td>\n",
       "    </tr>\n",
       "    <tr>\n",
       "      <td>6</td>\n",
       "      <td>BaggingClass</td>\n",
       "      <td>{'clf__max_features': 5, 'clf__max_samples': 5...</td>\n",
       "      <td>0.8588</td>\n",
       "      <td>[0.8588, 0.8588, 1.0, 1.0, 1.0]</td>\n",
       "      <td>[1.0, 0.0, nan, nan, nan]</td>\n",
       "      <td>[0.8588, nan, nan, nan, nan]</td>\n",
       "      <td>0.5000</td>\n",
       "    </tr>\n",
       "  </tbody>\n",
       "</table>\n",
       "</div>"
      ],
      "text/plain": [
       "           model                                         parameters  scores  \\\n",
       "0  Decision Tree  {'clf__max_depth': 10, 'clf__min_samples_split...  0.8218   \n",
       "1   RandomForest  {'clf__max_depth': None, 'clf__min_samples_spl...  0.8889   \n",
       "2         LogReg  {'clf__C': 1, 'clf__max_iter': 50, 'clf__solve...  0.8727   \n",
       "3            KNN  {'clf__n_neighbors': 5, 'clf__p': 3, 'clf__wei...  0.8704   \n",
       "4            SVC           {'clf__degree': 3, 'clf__kernel': 'rbf'}  0.8750   \n",
       "5       AdaBoost                         {'clf__n_estimators': 200}  0.8634   \n",
       "6   BaggingClass  {'clf__max_features': 5, 'clf__max_samples': 5...  0.8588   \n",
       "\n",
       "                          accuracy                           recall  \\\n",
       "0  [0.8218, 0.8218, 1.0, 1.0, 1.0]  [0.8922, 0.3934, nan, nan, nan]   \n",
       "1  [0.8889, 0.8889, 1.0, 1.0, 1.0]  [0.9569, 0.4754, nan, nan, nan]   \n",
       "2  [0.8727, 0.8727, 1.0, 1.0, 1.0]  [0.9623, 0.3279, nan, nan, nan]   \n",
       "3  [0.8704, 0.8704, 1.0, 1.0, 1.0]  [0.9326, 0.4918, nan, nan, nan]   \n",
       "4    [0.875, 0.875, 1.0, 1.0, 1.0]  [0.9677, 0.3115, nan, nan, nan]   \n",
       "5  [0.8634, 0.8634, 1.0, 1.0, 1.0]   [0.938, 0.4098, nan, nan, nan]   \n",
       "6  [0.8588, 0.8588, 1.0, 1.0, 1.0]        [1.0, 0.0, nan, nan, nan]   \n",
       "\n",
       "                         precision  roc_auc  \n",
       "0   [0.8995, 0.375, nan, nan, nan]   0.6428  \n",
       "1  [0.9173, 0.6444, nan, nan, nan]   0.7161  \n",
       "2   [0.897, 0.5882, nan, nan, nan]   0.6451  \n",
       "3  [0.9178, 0.5455, nan, nan, nan]   0.7122  \n",
       "4  [0.8953, 0.6129, nan, nan, nan]   0.6396  \n",
       "5  [0.9062, 0.5208, nan, nan, nan]   0.6739  \n",
       "6     [0.8588, nan, nan, nan, nan]   0.5000  "
      ]
     },
     "execution_count": 25,
     "metadata": {},
     "output_type": "execute_result"
    }
   ],
   "source": [
    "#Using some old codes from my friends\n",
    "model = []\n",
    "parameters = []\n",
    "scores = []\n",
    "precision = []\n",
    "recall = []\n",
    "roc_auc = []\n",
    "accuracy = []\n",
    "\n",
    "# To put the name of model, models from sklearn, and hyperparameters of the model we want to search through in order\n",
    "\n",
    "names = ['Decision Tree', 'RandomForest', 'LogReg','KNN','SVC','AdaBoost', 'BaggingClass']\n",
    "\n",
    "estimators = [DecisionTreeClassifier(), RandomForestClassifier(), LogisticRegression(), KNeighborsClassifier(),\n",
    "             SVC(), AdaBoostClassifier(), BaggingClassifier()]\n",
    "\n",
    "params = [\n",
    "    {'clf__max_depth': [None, 10, 15, 20, 30, 35],\n",
    "    'clf__min_samples_split': [5,10,15,20,25,30]}, #DecisionTree\n",
    "\n",
    "    {'clf__max_depth': [None,50,75,100,150,200],\n",
    "     'clf__min_samples_split': [5,10,15,20,30]}, #RandomForest\n",
    "    \n",
    "    {'clf__C':[1,3,5,10],\n",
    "     'clf__solver':['lbfgs', 'liblinear', 'sag', 'saga'],\n",
    "     'clf__max_iter':[50,100,125,150,175,200]}, #LogisticRegression\n",
    "    \n",
    "    {'clf__n_neighbors':[3,5,10,15,20,25],\n",
    "     'clf__weights':['uniform','distance'],\n",
    "     'clf__p':[1,2,3]}, #KNeighborsClassifier\n",
    "    \n",
    "    {'clf__kernel':['rbf','sigmoid','poly','linear'],\n",
    "     'clf__degree':[3,4,5,6]}, #SVC\n",
    "    \n",
    "    {'clf__n_estimators':[25,40,50,100,200,500]}, #AdaBoost\n",
    "    \n",
    "    {'clf__n_estimators':[10,30,50,100],\n",
    "     'clf__max_samples':[1,5,10],\n",
    "     'clf__max_features':[1,5,10]}, #BaggingClassifier\n",
    "]\n",
    "\n",
    "for name, estimator, param in zip(names, estimators, params):\n",
    "    clf_pipe = Pipeline([\n",
    "        ('clf', estimator)\n",
    "    ])\n",
    "    cv = StratifiedShuffleSplit(n_splits=3, test_size=0.2, random_state=0)\n",
    "    gs = GridSearchCV(clf_pipe, param_grid=param, cv=cv, verbose=10, n_jobs=-1)\n",
    "    gs.fit(X_train, y_train)\n",
    "    \n",
    "    print(name)\n",
    "    print('Best Score: {}'.format(gs.best_score_))\n",
    "    print('Best Params: {}'.format(gs.best_params_))\n",
    "    \n",
    "    # Best Model\n",
    "    grid_model = gs.best_estimator_\n",
    "    \n",
    "    print('Model Score on X_train: {}'.format(grid_model.score(X_train, y_train)))\n",
    "    \n",
    "    # Prediction and score\n",
    "    pred = grid_model.predict(X_test)\n",
    "    print('Accuracy score of prediction: {}'.format(accuracy_score(y_test, pred)))\n",
    "    \n",
    "    \n",
    "    # Confusion Matrix \n",
    "    \n",
    "    conf_matrix = multilabel_confusion_matrix(y_test, pred, labels=[0,1,2,3,4])\n",
    "    \n",
    "    tn = conf_matrix[:, 0, 0]\n",
    "    tp = conf_matrix[:, 1, 1]\n",
    "    fn = conf_matrix[:, 1, 0]\n",
    "    fp = conf_matrix[:, 0, 1]\n",
    "    \n",
    "    print('TN: {}, FP:{}, FN:{}, TP:{}'.format(tn,fp,fn,tp))\n",
    "    print('Precision of the model is {}'.format(np.round(tp/(tp+fp)),2))\n",
    "    print('Recall of the model is {}'.format(np.round(tp/(tp+fn)),2))\n",
    "   \n",
    "    print('\\n')\n",
    "    model.append(name)\n",
    "    parameters.append(gs.best_params_)\n",
    "    scores.append(np.round(accuracy_score(y_test, pred),4))\n",
    "    accuracy.append(np.round((tp+tn)/(tp+fn+fp+tn),4))\n",
    "    recall.append(np.round(tp/(tp+fn),4))\n",
    "    precision.append(np.round(tp/(tp+fp),4))\n",
    "    roc_auc.append(np.round(roc_auc_score(y_test, pred),4))\n",
    "\n",
    "results = pd.DataFrame({'model': model, \n",
    "                        'parameters': parameters,\n",
    "                        'scores': scores,\n",
    "                        'accuracy':accuracy,\n",
    "                        'recall': recall, \n",
    "                        'precision': precision,\n",
    "                        'roc_auc': roc_auc\n",
    "                       })\n",
    "results"
   ]
  },
  {
   "cell_type": "code",
   "execution_count": 26,
   "metadata": {},
   "outputs": [
    {
     "name": "stderr",
     "output_type": "stream",
     "text": [
      "/opt/anaconda3/lib/python3.7/site-packages/sklearn/ensemble/forest.py:245: FutureWarning: The default value of n_estimators will change from 10 in version 0.20 to 100 in 0.22.\n",
      "  \"10 in version 0.20 to 100 in 0.22.\", FutureWarning)\n"
     ]
    },
    {
     "data": {
      "text/plain": [
       "0.9562195969423211"
      ]
     },
     "execution_count": 26,
     "metadata": {},
     "output_type": "execute_result"
    }
   ],
   "source": [
    "#We will use RF since it has the best score in our training data\n",
    "#Best Params: {'clf__max_depth': 75, 'clf__min_samples_split': 15}\n",
    "\n",
    "rf_model = RandomForestClassifier(max_depth=75,min_samples_split=15)\n",
    "rf_model.fit(X,y_binary)\n",
    "rf_model.score(X,y_binary)"
   ]
  },
  {
   "cell_type": "code",
   "execution_count": 27,
   "metadata": {},
   "outputs": [
    {
     "data": {
      "text/plain": [
       "array([[133,   5],\n",
       "       [ 18,   4]])"
      ]
     },
     "execution_count": 27,
     "metadata": {},
     "output_type": "execute_result"
    }
   ],
   "source": [
    "pred = rf_model.predict(X_valid)\n",
    "conf_matrix_result = confusion_matrix(y_binary_valid, pred)\n",
    "conf_matrix_result"
   ]
  },
  {
   "cell_type": "code",
   "execution_count": 28,
   "metadata": {},
   "outputs": [
    {
     "name": "stdout",
     "output_type": "stream",
     "text": [
      "0.8562\n"
     ]
    }
   ],
   "source": [
    "tn = conf_matrix_result[0, 0]\n",
    "tp = conf_matrix_result[1, 1]\n",
    "fn = conf_matrix_result[1, 0]\n",
    "fp = conf_matrix_result[0, 1]\n",
    "\n",
    "accuracy = np.round((tp+tn)/(tp+fn+fp+tn),4)\n",
    "print(accuracy)"
   ]
  },
  {
   "cell_type": "markdown",
   "metadata": {},
   "source": [
    "#### Trying out Keras, CNN"
   ]
  },
  {
   "cell_type": "code",
   "execution_count": 29,
   "metadata": {},
   "outputs": [],
   "source": [
    "from tensorflow.keras.models import Sequential\n",
    "from tensorflow.keras.layers import Dense\n",
    "from tensorflow.keras.utils import to_categorical"
   ]
  },
  {
   "cell_type": "code",
   "execution_count": 30,
   "metadata": {},
   "outputs": [],
   "source": [
    "model = Sequential()\n",
    "model.add(Dense(32, activation=\"relu\", dtype='float64'))\n",
    "model.add(Dense(16, activation=\"relu\",dtype='float64'))\n",
    "model.add(Dense(8, activation=\"relu\",dtype='float64'))\n",
    "model.add(Dense(1, activation='sigmoid', dtype='float64'))"
   ]
  },
  {
   "cell_type": "code",
   "execution_count": 31,
   "metadata": {},
   "outputs": [],
   "source": [
    "model.compile(\n",
    "    optimizer=\"adam\",\n",
    "    loss=\"binary_crossentropy\",\n",
    "    metrics=[\"accuracy\"]\n",
    ")"
   ]
  },
  {
   "cell_type": "code",
   "execution_count": 32,
   "metadata": {
    "scrolled": true
   },
   "outputs": [
    {
     "name": "stdout",
     "output_type": "stream",
     "text": [
      "Epoch 1/50\n",
      "32/32 [==============================] - 0s 6ms/step - loss: 0.5704 - accuracy: 0.8173 - val_loss: 0.4903 - val_accuracy: 0.8588\n",
      "Epoch 2/50\n",
      "32/32 [==============================] - 0s 2ms/step - loss: 0.4070 - accuracy: 0.8669 - val_loss: 0.3918 - val_accuracy: 0.8588\n",
      "Epoch 3/50\n",
      "32/32 [==============================] - 0s 2ms/step - loss: 0.3256 - accuracy: 0.8669 - val_loss: 0.3631 - val_accuracy: 0.8588\n",
      "Epoch 4/50\n",
      "32/32 [==============================] - 0s 2ms/step - loss: 0.2962 - accuracy: 0.8669 - val_loss: 0.3453 - val_accuracy: 0.8588\n",
      "Epoch 5/50\n",
      "32/32 [==============================] - 0s 2ms/step - loss: 0.2807 - accuracy: 0.8669 - val_loss: 0.3351 - val_accuracy: 0.8588\n",
      "Epoch 6/50\n",
      "32/32 [==============================] - 0s 2ms/step - loss: 0.2703 - accuracy: 0.8669 - val_loss: 0.3304 - val_accuracy: 0.8588\n",
      "Epoch 7/50\n",
      "32/32 [==============================] - 0s 2ms/step - loss: 0.2637 - accuracy: 0.8669 - val_loss: 0.3292 - val_accuracy: 0.8588\n",
      "Epoch 8/50\n",
      "32/32 [==============================] - 0s 2ms/step - loss: 0.2587 - accuracy: 0.8669 - val_loss: 0.3246 - val_accuracy: 0.8588\n",
      "Epoch 9/50\n",
      "32/32 [==============================] - 0s 2ms/step - loss: 0.2548 - accuracy: 0.8669 - val_loss: 0.3262 - val_accuracy: 0.8588\n",
      "Epoch 10/50\n",
      "32/32 [==============================] - 0s 2ms/step - loss: 0.2507 - accuracy: 0.8669 - val_loss: 0.3237 - val_accuracy: 0.8588\n",
      "Epoch 11/50\n",
      "32/32 [==============================] - 0s 2ms/step - loss: 0.2478 - accuracy: 0.8669 - val_loss: 0.3235 - val_accuracy: 0.8588\n",
      "Epoch 12/50\n",
      "32/32 [==============================] - 0s 2ms/step - loss: 0.2446 - accuracy: 0.8669 - val_loss: 0.3229 - val_accuracy: 0.8588\n",
      "Epoch 13/50\n",
      "32/32 [==============================] - 0s 2ms/step - loss: 0.2419 - accuracy: 0.8669 - val_loss: 0.3233 - val_accuracy: 0.8588\n",
      "Epoch 14/50\n",
      "32/32 [==============================] - 0s 2ms/step - loss: 0.2396 - accuracy: 0.8669 - val_loss: 0.3220 - val_accuracy: 0.8588\n",
      "Epoch 15/50\n",
      "32/32 [==============================] - 0s 2ms/step - loss: 0.2369 - accuracy: 0.8669 - val_loss: 0.3218 - val_accuracy: 0.8588\n",
      "Epoch 16/50\n",
      "32/32 [==============================] - 0s 2ms/step - loss: 0.2341 - accuracy: 0.8669 - val_loss: 0.3240 - val_accuracy: 0.8588\n",
      "Epoch 17/50\n",
      "32/32 [==============================] - 0s 2ms/step - loss: 0.2324 - accuracy: 0.8689 - val_loss: 0.3238 - val_accuracy: 0.8588\n",
      "Epoch 18/50\n",
      "32/32 [==============================] - 0s 2ms/step - loss: 0.2301 - accuracy: 0.8699 - val_loss: 0.3237 - val_accuracy: 0.8611\n",
      "Epoch 19/50\n",
      "32/32 [==============================] - 0s 2ms/step - loss: 0.2287 - accuracy: 0.8709 - val_loss: 0.3257 - val_accuracy: 0.8681\n",
      "Epoch 20/50\n",
      "32/32 [==============================] - 0s 2ms/step - loss: 0.2264 - accuracy: 0.8918 - val_loss: 0.3252 - val_accuracy: 0.8704\n",
      "Epoch 21/50\n",
      "32/32 [==============================] - 0s 2ms/step - loss: 0.2244 - accuracy: 0.8937 - val_loss: 0.3251 - val_accuracy: 0.8727\n",
      "Epoch 22/50\n",
      "32/32 [==============================] - 0s 2ms/step - loss: 0.2222 - accuracy: 0.9017 - val_loss: 0.3253 - val_accuracy: 0.8750\n",
      "Epoch 23/50\n",
      "32/32 [==============================] - 0s 2ms/step - loss: 0.2200 - accuracy: 0.9007 - val_loss: 0.3309 - val_accuracy: 0.8773\n",
      "Epoch 24/50\n",
      "32/32 [==============================] - 0s 2ms/step - loss: 0.2186 - accuracy: 0.9017 - val_loss: 0.3290 - val_accuracy: 0.8773\n",
      "Epoch 25/50\n",
      "32/32 [==============================] - 0s 2ms/step - loss: 0.2173 - accuracy: 0.9106 - val_loss: 0.3287 - val_accuracy: 0.8750\n",
      "Epoch 26/50\n",
      "32/32 [==============================] - 0s 2ms/step - loss: 0.2154 - accuracy: 0.9057 - val_loss: 0.3294 - val_accuracy: 0.8796\n",
      "Epoch 27/50\n",
      "32/32 [==============================] - 0s 2ms/step - loss: 0.2138 - accuracy: 0.9136 - val_loss: 0.3331 - val_accuracy: 0.8796\n",
      "Epoch 28/50\n",
      "32/32 [==============================] - 0s 2ms/step - loss: 0.2111 - accuracy: 0.9126 - val_loss: 0.3305 - val_accuracy: 0.8773\n",
      "Epoch 29/50\n",
      "32/32 [==============================] - 0s 2ms/step - loss: 0.2099 - accuracy: 0.9126 - val_loss: 0.3326 - val_accuracy: 0.8750\n",
      "Epoch 30/50\n",
      "32/32 [==============================] - 0s 2ms/step - loss: 0.2089 - accuracy: 0.9156 - val_loss: 0.3349 - val_accuracy: 0.8773\n",
      "Epoch 31/50\n",
      "32/32 [==============================] - 0s 2ms/step - loss: 0.2069 - accuracy: 0.9176 - val_loss: 0.3312 - val_accuracy: 0.8704\n",
      "Epoch 32/50\n",
      "32/32 [==============================] - 0s 2ms/step - loss: 0.2046 - accuracy: 0.9176 - val_loss: 0.3358 - val_accuracy: 0.8727\n",
      "Epoch 33/50\n",
      "32/32 [==============================] - 0s 2ms/step - loss: 0.2027 - accuracy: 0.9235 - val_loss: 0.3358 - val_accuracy: 0.8727\n",
      "Epoch 34/50\n",
      "32/32 [==============================] - 0s 2ms/step - loss: 0.2016 - accuracy: 0.9215 - val_loss: 0.3385 - val_accuracy: 0.8750\n",
      "Epoch 35/50\n",
      "32/32 [==============================] - 0s 2ms/step - loss: 0.2001 - accuracy: 0.9265 - val_loss: 0.3396 - val_accuracy: 0.8704\n",
      "Epoch 36/50\n",
      "32/32 [==============================] - 0s 2ms/step - loss: 0.1982 - accuracy: 0.9245 - val_loss: 0.3381 - val_accuracy: 0.8727\n",
      "Epoch 37/50\n",
      "32/32 [==============================] - 0s 2ms/step - loss: 0.1959 - accuracy: 0.9315 - val_loss: 0.3472 - val_accuracy: 0.8773\n",
      "Epoch 38/50\n",
      "32/32 [==============================] - 0s 2ms/step - loss: 0.1968 - accuracy: 0.9206 - val_loss: 0.3418 - val_accuracy: 0.8773\n",
      "Epoch 39/50\n",
      "32/32 [==============================] - 0s 2ms/step - loss: 0.1931 - accuracy: 0.9255 - val_loss: 0.3438 - val_accuracy: 0.8819\n",
      "Epoch 40/50\n",
      "32/32 [==============================] - 0s 2ms/step - loss: 0.1916 - accuracy: 0.9345 - val_loss: 0.3445 - val_accuracy: 0.8796\n",
      "Epoch 41/50\n",
      "32/32 [==============================] - 0s 2ms/step - loss: 0.1893 - accuracy: 0.9285 - val_loss: 0.3457 - val_accuracy: 0.8773\n",
      "Epoch 42/50\n",
      "32/32 [==============================] - 0s 2ms/step - loss: 0.1875 - accuracy: 0.9315 - val_loss: 0.3485 - val_accuracy: 0.8773\n",
      "Epoch 43/50\n",
      "32/32 [==============================] - 0s 2ms/step - loss: 0.1853 - accuracy: 0.9315 - val_loss: 0.3495 - val_accuracy: 0.8773\n",
      "Epoch 44/50\n",
      "32/32 [==============================] - 0s 2ms/step - loss: 0.1833 - accuracy: 0.9335 - val_loss: 0.3516 - val_accuracy: 0.8773\n",
      "Epoch 45/50\n",
      "32/32 [==============================] - 0s 2ms/step - loss: 0.1815 - accuracy: 0.9364 - val_loss: 0.3567 - val_accuracy: 0.8750\n",
      "Epoch 46/50\n",
      "32/32 [==============================] - 0s 2ms/step - loss: 0.1788 - accuracy: 0.9364 - val_loss: 0.3570 - val_accuracy: 0.8727\n",
      "Epoch 47/50\n",
      "32/32 [==============================] - 0s 2ms/step - loss: 0.1772 - accuracy: 0.9374 - val_loss: 0.3632 - val_accuracy: 0.8773\n",
      "Epoch 48/50\n",
      "32/32 [==============================] - 0s 2ms/step - loss: 0.1747 - accuracy: 0.9394 - val_loss: 0.3618 - val_accuracy: 0.8773\n",
      "Epoch 49/50\n",
      "32/32 [==============================] - 0s 2ms/step - loss: 0.1736 - accuracy: 0.9414 - val_loss: 0.3645 - val_accuracy: 0.8773\n",
      "Epoch 50/50\n",
      "32/32 [==============================] - 0s 2ms/step - loss: 0.1714 - accuracy: 0.9454 - val_loss: 0.3723 - val_accuracy: 0.8866\n"
     ]
    },
    {
     "data": {
      "text/plain": [
       "<tensorflow.python.keras.callbacks.History at 0x14a47c750>"
      ]
     },
     "execution_count": 32,
     "metadata": {},
     "output_type": "execute_result"
    }
   ],
   "source": [
    "model.fit(\n",
    "    X_train,y_train,\n",
    "    batch_size=32,\n",
    "    epochs=50,\n",
    "    validation_data= (X_test, y_test))"
   ]
  },
  {
   "cell_type": "code",
   "execution_count": 33,
   "metadata": {},
   "outputs": [
    {
     "name": "stdout",
     "output_type": "stream",
     "text": [
      "Model: \"sequential\"\n",
      "_________________________________________________________________\n",
      "Layer (type)                 Output Shape              Param #   \n",
      "=================================================================\n",
      "dense (Dense)                multiple                  384       \n",
      "_________________________________________________________________\n",
      "dense_1 (Dense)              multiple                  528       \n",
      "_________________________________________________________________\n",
      "dense_2 (Dense)              multiple                  136       \n",
      "_________________________________________________________________\n",
      "dense_3 (Dense)              multiple                  9         \n",
      "=================================================================\n",
      "Total params: 1,057\n",
      "Trainable params: 1,057\n",
      "Non-trainable params: 0\n",
      "_________________________________________________________________\n"
     ]
    }
   ],
   "source": [
    "model.summary()"
   ]
  },
  {
   "cell_type": "code",
   "execution_count": 34,
   "metadata": {
    "scrolled": false
   },
   "outputs": [
    {
     "data": {
      "text/plain": [
       "0.00012678956470183104"
      ]
     },
     "execution_count": 34,
     "metadata": {},
     "output_type": "execute_result"
    }
   ],
   "source": [
    "predictions_cnn = model.predict(X_valid)\n",
    "predictions_cnn[3][0]"
   ]
  },
  {
   "cell_type": "code",
   "execution_count": 35,
   "metadata": {},
   "outputs": [],
   "source": [
    "def transform(data):\n",
    "    for i in range(data.shape[0]):\n",
    "        if data[i][0] >= 0.5:\n",
    "            data[i][0] = 1\n",
    "        else:\n",
    "            data[i][0] = 0\n",
    "\n",
    "transform(predictions_cnn)"
   ]
  },
  {
   "cell_type": "code",
   "execution_count": 36,
   "metadata": {},
   "outputs": [
    {
     "data": {
      "text/plain": [
       "array([[138,   0],\n",
       "       [ 22,   0]])"
      ]
     },
     "execution_count": 36,
     "metadata": {},
     "output_type": "execute_result"
    }
   ],
   "source": [
    "conf_matrix_result_2 = confusion_matrix(y_binary_valid, predictions_cnn)\n",
    "conf_matrix_result_2"
   ]
  },
  {
   "cell_type": "code",
   "execution_count": 37,
   "metadata": {},
   "outputs": [
    {
     "name": "stdout",
     "output_type": "stream",
     "text": [
      "0.8625\n"
     ]
    }
   ],
   "source": [
    "tn = conf_matrix_result_2[0, 0]\n",
    "tp = conf_matrix_result_2[1, 1]\n",
    "fn = conf_matrix_result_2[1, 0]\n",
    "fp = conf_matrix_result_2[0, 1]\n",
    "\n",
    "accuracy = np.round((tp+tn)/(tp+fn+fp+tn),4)\n",
    "print(accuracy)\n",
    "#close enough for a simplified cnn"
   ]
  }
 ],
 "metadata": {
  "kernelspec": {
   "display_name": "Python 3",
   "language": "python",
   "name": "python3"
  },
  "language_info": {
   "codemirror_mode": {
    "name": "ipython",
    "version": 3
   },
   "file_extension": ".py",
   "mimetype": "text/x-python",
   "name": "python",
   "nbconvert_exporter": "python",
   "pygments_lexer": "ipython3",
   "version": "3.7.4"
  }
 },
 "nbformat": 4,
 "nbformat_minor": 2
}
